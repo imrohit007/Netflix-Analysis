{
  "nbformat": 4,
  "nbformat_minor": 0,
  "metadata": {
    "colab": {
      "name": "Netflix-movies.ipynb",
      "provenance": [],
      "collapsed_sections": []
    },
    "kernelspec": {
      "name": "python3",
      "display_name": "Python 3"
    },
    "language_info": {
      "name": "python"
    }
  },
  "cells": [
    {
      "cell_type": "code",
      "metadata": {
        "id": "znXPvp2RlnS7"
      },
      "source": [
        "import pandas as pd\n",
        "import numpy as np\n",
        "\n",
        "import matplotlib.pyplot as plt \n",
        "\n",
        "import plotly \n",
        "import plotly.express as px\n",
        "import plotly.graph_objs as go\n",
        "import plotly.offline as py\n",
        "from plotly.offline import iplot\n",
        "from plotly.subplots import make_subplots\n",
        "import plotly.figure_factory as ff"
      ],
      "execution_count": 1,
      "outputs": []
    },
    {
      "cell_type": "code",
      "metadata": {
        "colab": {
          "base_uri": "https://localhost:8080/",
          "height": 204
        },
        "id": "2oY9cqJennCk",
        "outputId": "5dcfa031-263e-427a-e6e7-cec3f26f4b81"
      },
      "source": [
        "df = pd.read_csv(\"/NetflixOriginals.csv\", encoding='latin-1')\n",
        "df.head()"
      ],
      "execution_count": 2,
      "outputs": [
        {
          "output_type": "execute_result",
          "data": {
            "text/html": [
              "<div>\n",
              "<style scoped>\n",
              "    .dataframe tbody tr th:only-of-type {\n",
              "        vertical-align: middle;\n",
              "    }\n",
              "\n",
              "    .dataframe tbody tr th {\n",
              "        vertical-align: top;\n",
              "    }\n",
              "\n",
              "    .dataframe thead th {\n",
              "        text-align: right;\n",
              "    }\n",
              "</style>\n",
              "<table border=\"1\" class=\"dataframe\">\n",
              "  <thead>\n",
              "    <tr style=\"text-align: right;\">\n",
              "      <th></th>\n",
              "      <th>Title</th>\n",
              "      <th>Genre</th>\n",
              "      <th>Premiere</th>\n",
              "      <th>Runtime</th>\n",
              "      <th>IMDB Score</th>\n",
              "      <th>Language</th>\n",
              "    </tr>\n",
              "  </thead>\n",
              "  <tbody>\n",
              "    <tr>\n",
              "      <th>0</th>\n",
              "      <td>Enter the Anime</td>\n",
              "      <td>Documentary</td>\n",
              "      <td>August 5, 2019</td>\n",
              "      <td>58</td>\n",
              "      <td>2.5</td>\n",
              "      <td>English/Japanese</td>\n",
              "    </tr>\n",
              "    <tr>\n",
              "      <th>1</th>\n",
              "      <td>Dark Forces</td>\n",
              "      <td>Thriller</td>\n",
              "      <td>August 21, 2020</td>\n",
              "      <td>81</td>\n",
              "      <td>2.6</td>\n",
              "      <td>Spanish</td>\n",
              "    </tr>\n",
              "    <tr>\n",
              "      <th>2</th>\n",
              "      <td>The App</td>\n",
              "      <td>Science fiction/Drama</td>\n",
              "      <td>December 26, 2019</td>\n",
              "      <td>79</td>\n",
              "      <td>2.6</td>\n",
              "      <td>Italian</td>\n",
              "    </tr>\n",
              "    <tr>\n",
              "      <th>3</th>\n",
              "      <td>The Open House</td>\n",
              "      <td>Horror thriller</td>\n",
              "      <td>January 19, 2018</td>\n",
              "      <td>94</td>\n",
              "      <td>3.2</td>\n",
              "      <td>English</td>\n",
              "    </tr>\n",
              "    <tr>\n",
              "      <th>4</th>\n",
              "      <td>Kaali Khuhi</td>\n",
              "      <td>Mystery</td>\n",
              "      <td>October 30, 2020</td>\n",
              "      <td>90</td>\n",
              "      <td>3.4</td>\n",
              "      <td>Hindi</td>\n",
              "    </tr>\n",
              "  </tbody>\n",
              "</table>\n",
              "</div>"
            ],
            "text/plain": [
              "             Title                  Genre  ... IMDB Score          Language\n",
              "0  Enter the Anime            Documentary  ...        2.5  English/Japanese\n",
              "1      Dark Forces               Thriller  ...        2.6           Spanish\n",
              "2          The App  Science fiction/Drama  ...        2.6           Italian\n",
              "3   The Open House        Horror thriller  ...        3.2           English\n",
              "4      Kaali Khuhi                Mystery  ...        3.4             Hindi\n",
              "\n",
              "[5 rows x 6 columns]"
            ]
          },
          "metadata": {},
          "execution_count": 2
        }
      ]
    },
    {
      "cell_type": "code",
      "metadata": {
        "colab": {
          "base_uri": "https://localhost:8080/"
        },
        "id": "h9PY0468ocWr",
        "outputId": "991165f8-7689-4e6f-f179-46bcf29a73ec"
      },
      "source": [
        "df.shape"
      ],
      "execution_count": 3,
      "outputs": [
        {
          "output_type": "execute_result",
          "data": {
            "text/plain": [
              "(584, 6)"
            ]
          },
          "metadata": {},
          "execution_count": 3
        }
      ]
    },
    {
      "cell_type": "code",
      "metadata": {
        "colab": {
          "base_uri": "https://localhost:8080/"
        },
        "id": "xdZCnhPSoh9m",
        "outputId": "bf32400c-70bc-4ec6-9051-fec25deea13a"
      },
      "source": [
        "df.columns.value_counts()"
      ],
      "execution_count": 4,
      "outputs": [
        {
          "output_type": "execute_result",
          "data": {
            "text/plain": [
              "Language      1\n",
              "Title         1\n",
              "Genre         1\n",
              "IMDB Score    1\n",
              "Premiere      1\n",
              "Runtime       1\n",
              "dtype: int64"
            ]
          },
          "metadata": {},
          "execution_count": 4
        }
      ]
    },
    {
      "cell_type": "code",
      "metadata": {
        "colab": {
          "base_uri": "https://localhost:8080/"
        },
        "id": "OAjX-zyIpcOR",
        "outputId": "f8e3d238-5298-43da-b859-313586de773c"
      },
      "source": [
        "df.isnull().sum()"
      ],
      "execution_count": 5,
      "outputs": [
        {
          "output_type": "execute_result",
          "data": {
            "text/plain": [
              "Title         0\n",
              "Genre         0\n",
              "Premiere      0\n",
              "Runtime       0\n",
              "IMDB Score    0\n",
              "Language      0\n",
              "dtype: int64"
            ]
          },
          "metadata": {},
          "execution_count": 5
        }
      ]
    },
    {
      "cell_type": "code",
      "metadata": {
        "colab": {
          "base_uri": "https://localhost:8080/"
        },
        "id": "kO0Y6HUopiNZ",
        "outputId": "2be75ac1-3e1f-44d1-c02b-297d994da855"
      },
      "source": [
        "df.info()"
      ],
      "execution_count": 6,
      "outputs": [
        {
          "output_type": "stream",
          "text": [
            "<class 'pandas.core.frame.DataFrame'>\n",
            "RangeIndex: 584 entries, 0 to 583\n",
            "Data columns (total 6 columns):\n",
            " #   Column      Non-Null Count  Dtype  \n",
            "---  ------      --------------  -----  \n",
            " 0   Title       584 non-null    object \n",
            " 1   Genre       584 non-null    object \n",
            " 2   Premiere    584 non-null    object \n",
            " 3   Runtime     584 non-null    int64  \n",
            " 4   IMDB Score  584 non-null    float64\n",
            " 5   Language    584 non-null    object \n",
            "dtypes: float64(1), int64(1), object(4)\n",
            "memory usage: 27.5+ KB\n"
          ],
          "name": "stdout"
        }
      ]
    },
    {
      "cell_type": "code",
      "metadata": {
        "colab": {
          "base_uri": "https://localhost:8080/"
        },
        "id": "s92wYfwkppRa",
        "outputId": "2e87e788-a3f2-44c5-b04d-287f2bb90a1c"
      },
      "source": [
        "df[\"Date\"] = pd.to_datetime(df.Premiere)\n",
        "df[\"Date\"]"
      ],
      "execution_count": 7,
      "outputs": [
        {
          "output_type": "execute_result",
          "data": {
            "text/plain": [
              "0     2019-08-05\n",
              "1     2020-08-21\n",
              "2     2019-12-26\n",
              "3     2018-01-19\n",
              "4     2020-10-30\n",
              "         ...    \n",
              "579   2018-12-31\n",
              "580   2015-10-09\n",
              "581   2018-12-16\n",
              "582   2020-12-08\n",
              "583   2020-10-04\n",
              "Name: Date, Length: 584, dtype: datetime64[ns]"
            ]
          },
          "metadata": {},
          "execution_count": 7
        }
      ]
    },
    {
      "cell_type": "code",
      "metadata": {
        "id": "3oW1WgIYqJtj"
      },
      "source": [
        "df[\"Year\"] = df[\"Date\"].dt.year\n",
        "df[\"Month\"] = df[\"Date\"].dt.month\n",
        "df[\"day_of_week\"] = df[\"Date\"].dt.dayofweek\n",
        "df[\"Year_Month\"] = df[\"Date\"].dt.strftime(\"%Y-%m\")"
      ],
      "execution_count": 9,
      "outputs": []
    },
    {
      "cell_type": "code",
      "metadata": {
        "colab": {
          "base_uri": "https://localhost:8080/",
          "height": 204
        },
        "id": "sF6bbzyCqyh5",
        "outputId": "74c6b83d-0939-466b-bb81-7a376d676ea2"
      },
      "source": [
        "df.head()"
      ],
      "execution_count": 10,
      "outputs": [
        {
          "output_type": "execute_result",
          "data": {
            "text/html": [
              "<div>\n",
              "<style scoped>\n",
              "    .dataframe tbody tr th:only-of-type {\n",
              "        vertical-align: middle;\n",
              "    }\n",
              "\n",
              "    .dataframe tbody tr th {\n",
              "        vertical-align: top;\n",
              "    }\n",
              "\n",
              "    .dataframe thead th {\n",
              "        text-align: right;\n",
              "    }\n",
              "</style>\n",
              "<table border=\"1\" class=\"dataframe\">\n",
              "  <thead>\n",
              "    <tr style=\"text-align: right;\">\n",
              "      <th></th>\n",
              "      <th>Title</th>\n",
              "      <th>Genre</th>\n",
              "      <th>Premiere</th>\n",
              "      <th>Runtime</th>\n",
              "      <th>IMDB Score</th>\n",
              "      <th>Language</th>\n",
              "      <th>Date</th>\n",
              "      <th>Year</th>\n",
              "      <th>Month</th>\n",
              "      <th>day_of_week</th>\n",
              "      <th>Year_Month</th>\n",
              "    </tr>\n",
              "  </thead>\n",
              "  <tbody>\n",
              "    <tr>\n",
              "      <th>0</th>\n",
              "      <td>Enter the Anime</td>\n",
              "      <td>Documentary</td>\n",
              "      <td>August 5, 2019</td>\n",
              "      <td>58</td>\n",
              "      <td>2.5</td>\n",
              "      <td>English/Japanese</td>\n",
              "      <td>2019-08-05</td>\n",
              "      <td>2019</td>\n",
              "      <td>8</td>\n",
              "      <td>0</td>\n",
              "      <td>2019-08</td>\n",
              "    </tr>\n",
              "    <tr>\n",
              "      <th>1</th>\n",
              "      <td>Dark Forces</td>\n",
              "      <td>Thriller</td>\n",
              "      <td>August 21, 2020</td>\n",
              "      <td>81</td>\n",
              "      <td>2.6</td>\n",
              "      <td>Spanish</td>\n",
              "      <td>2020-08-21</td>\n",
              "      <td>2020</td>\n",
              "      <td>8</td>\n",
              "      <td>4</td>\n",
              "      <td>2020-08</td>\n",
              "    </tr>\n",
              "    <tr>\n",
              "      <th>2</th>\n",
              "      <td>The App</td>\n",
              "      <td>Science fiction/Drama</td>\n",
              "      <td>December 26, 2019</td>\n",
              "      <td>79</td>\n",
              "      <td>2.6</td>\n",
              "      <td>Italian</td>\n",
              "      <td>2019-12-26</td>\n",
              "      <td>2019</td>\n",
              "      <td>12</td>\n",
              "      <td>3</td>\n",
              "      <td>2019-12</td>\n",
              "    </tr>\n",
              "    <tr>\n",
              "      <th>3</th>\n",
              "      <td>The Open House</td>\n",
              "      <td>Horror thriller</td>\n",
              "      <td>January 19, 2018</td>\n",
              "      <td>94</td>\n",
              "      <td>3.2</td>\n",
              "      <td>English</td>\n",
              "      <td>2018-01-19</td>\n",
              "      <td>2018</td>\n",
              "      <td>1</td>\n",
              "      <td>4</td>\n",
              "      <td>2018-01</td>\n",
              "    </tr>\n",
              "    <tr>\n",
              "      <th>4</th>\n",
              "      <td>Kaali Khuhi</td>\n",
              "      <td>Mystery</td>\n",
              "      <td>October 30, 2020</td>\n",
              "      <td>90</td>\n",
              "      <td>3.4</td>\n",
              "      <td>Hindi</td>\n",
              "      <td>2020-10-30</td>\n",
              "      <td>2020</td>\n",
              "      <td>10</td>\n",
              "      <td>4</td>\n",
              "      <td>2020-10</td>\n",
              "    </tr>\n",
              "  </tbody>\n",
              "</table>\n",
              "</div>"
            ],
            "text/plain": [
              "             Title                  Genre  ... day_of_week  Year_Month\n",
              "0  Enter the Anime            Documentary  ...           0     2019-08\n",
              "1      Dark Forces               Thriller  ...           4     2020-08\n",
              "2          The App  Science fiction/Drama  ...           3     2019-12\n",
              "3   The Open House        Horror thriller  ...           4     2018-01\n",
              "4      Kaali Khuhi                Mystery  ...           4     2020-10\n",
              "\n",
              "[5 rows x 11 columns]"
            ]
          },
          "metadata": {},
          "execution_count": 10
        }
      ]
    },
    {
      "cell_type": "code",
      "metadata": {
        "colab": {
          "base_uri": "https://localhost:8080/"
        },
        "id": "DJEY0CjEq6Vw",
        "outputId": "ce62d728-7f5e-413b-bb89-f8c179d8a6fe"
      },
      "source": [
        "df.info()"
      ],
      "execution_count": 11,
      "outputs": [
        {
          "output_type": "stream",
          "text": [
            "<class 'pandas.core.frame.DataFrame'>\n",
            "RangeIndex: 584 entries, 0 to 583\n",
            "Data columns (total 11 columns):\n",
            " #   Column       Non-Null Count  Dtype         \n",
            "---  ------       --------------  -----         \n",
            " 0   Title        584 non-null    object        \n",
            " 1   Genre        584 non-null    object        \n",
            " 2   Premiere     584 non-null    object        \n",
            " 3   Runtime      584 non-null    int64         \n",
            " 4   IMDB Score   584 non-null    float64       \n",
            " 5   Language     584 non-null    object        \n",
            " 6   Date         584 non-null    datetime64[ns]\n",
            " 7   Year         584 non-null    int64         \n",
            " 8   Month        584 non-null    int64         \n",
            " 9   day_of_week  584 non-null    int64         \n",
            " 10  Year_Month   584 non-null    object        \n",
            "dtypes: datetime64[ns](1), float64(1), int64(4), object(5)\n",
            "memory usage: 50.3+ KB\n"
          ],
          "name": "stdout"
        }
      ]
    },
    {
      "cell_type": "code",
      "metadata": {
        "id": "YPFf6xB_q8hM"
      },
      "source": [
        "#Analysis"
      ],
      "execution_count": 12,
      "outputs": []
    },
    {
      "cell_type": "code",
      "metadata": {
        "colab": {
          "base_uri": "https://localhost:8080/"
        },
        "id": "9jGK6jF7rxXI",
        "outputId": "1b139e60-9dce-473c-f374-b7d316efb39c"
      },
      "source": [
        "df.Genre.nunique()"
      ],
      "execution_count": 13,
      "outputs": [
        {
          "output_type": "execute_result",
          "data": {
            "text/plain": [
              "115"
            ]
          },
          "metadata": {},
          "execution_count": 13
        }
      ]
    },
    {
      "cell_type": "code",
      "metadata": {
        "colab": {
          "base_uri": "https://localhost:8080/"
        },
        "id": "tzLyg2y-r4JM",
        "outputId": "ec8ecfa4-ee95-442f-de4a-2214798b470b"
      },
      "source": [
        "df.Genre.unique()"
      ],
      "execution_count": 14,
      "outputs": [
        {
          "output_type": "execute_result",
          "data": {
            "text/plain": [
              "array(['Documentary', 'Thriller', 'Science fiction/Drama',\n",
              "       'Horror thriller', 'Mystery', 'Action', 'Comedy',\n",
              "       'Heist film/Thriller', 'Musical/Western/Fantasy', 'Drama',\n",
              "       'Romantic comedy', 'Action comedy', 'Horror anthology',\n",
              "       'Political thriller', 'Superhero-Comedy', 'Horror',\n",
              "       'Romance drama', 'Anime / Short', 'Superhero', 'Heist', 'Western',\n",
              "       'Animation/Superhero', 'Family film', 'Action-thriller',\n",
              "       'Teen comedy-drama', 'Romantic drama', 'Animation',\n",
              "       'Aftershow / Interview', 'Christmas musical',\n",
              "       'Science fiction adventure', 'Science fiction', 'Variety show',\n",
              "       'Comedy-drama', 'Comedy/Fantasy/Family', 'Supernatural drama',\n",
              "       'Action/Comedy', 'Action/Science fiction',\n",
              "       'Romantic teenage drama', 'Comedy / Musical', 'Musical',\n",
              "       'Science fiction/Mystery', 'Crime drama',\n",
              "       'Psychological thriller drama', 'Adventure/Comedy', 'Black comedy',\n",
              "       'Romance', 'Horror comedy', 'Christian musical',\n",
              "       'Romantic teen drama', 'Family', 'Dark comedy', 'Comedy horror',\n",
              "       'Psychological thriller', 'Biopic', 'Science fiction/Thriller',\n",
              "       'Mockumentary', 'Satire', 'One-man show', 'Romantic comedy-drama',\n",
              "       'Comedy/Horror', 'Fantasy', 'Sports-drama', 'Zombie/Heist',\n",
              "       'Psychological horror', 'Sports film', 'Comedy mystery',\n",
              "       'Romantic thriller', 'Christmas comedy', 'War-Comedy',\n",
              "       'Romantic comedy/Holiday', 'Adventure-romance', 'Adventure',\n",
              "       'Horror-thriller', 'Dance comedy', 'Stop Motion',\n",
              "       'Horror/Crime drama', 'Urban fantasy', 'Drama/Horror',\n",
              "       'Family/Comedy-drama', 'War', 'Crime thriller',\n",
              "       'Science fiction/Action', 'Teen comedy horror', 'Concert Film',\n",
              "       'Musical comedy', 'Animation/Musical/Adventure',\n",
              "       'Animation / Musicial', 'Animation/Comedy/Adventure',\n",
              "       'Action thriller', 'Anime/Science fiction', 'Animation / Short',\n",
              "       'War drama', 'Family/Christmas musical',\n",
              "       'Science fiction thriller', 'Drama / Short',\n",
              "       'Hidden-camera prank comedy', 'Spy thriller', 'Anime/Fantasy',\n",
              "       'Animated musical comedy', 'Variety Show', 'Superhero/Action',\n",
              "       'Biographical/Comedy', 'Historical-epic', 'Animation / Comedy',\n",
              "       'Christmas/Fantasy/Adventure/Comedy', 'Mentalism special',\n",
              "       'Drama-Comedy', 'Coming-of-age comedy-drama', 'Historical drama',\n",
              "       'Making-of', 'Action-adventure', 'Animation / Science Fiction',\n",
              "       'Anthology/Dark comedy', 'Musical / Short',\n",
              "       'Animation/Christmas/Comedy/Adventure'], dtype=object)"
            ]
          },
          "metadata": {},
          "execution_count": 14
        }
      ]
    },
    {
      "cell_type": "code",
      "metadata": {
        "colab": {
          "base_uri": "https://localhost:8080/"
        },
        "id": "98bkbBNqr8Jh",
        "outputId": "52d2508d-e65e-4393-bb3c-96e6a4f61f48"
      },
      "source": [
        "df.Genre.value_counts(normalize=True)*100"
      ],
      "execution_count": 15,
      "outputs": [
        {
          "output_type": "execute_result",
          "data": {
            "text/plain": [
              "Documentary                   27.226027\n",
              "Drama                         13.184932\n",
              "Comedy                         8.390411\n",
              "Romantic comedy                6.678082\n",
              "Thriller                       5.650685\n",
              "                                ...    \n",
              "Comedy/Horror                  0.171233\n",
              "Horror anthology               0.171233\n",
              "Teen comedy horror             0.171233\n",
              "Hidden-camera prank comedy     0.171233\n",
              "Zombie/Heist                   0.171233\n",
              "Name: Genre, Length: 115, dtype: float64"
            ]
          },
          "metadata": {},
          "execution_count": 15
        }
      ]
    },
    {
      "cell_type": "code",
      "metadata": {
        "colab": {
          "base_uri": "https://localhost:8080/"
        },
        "id": "R5UkCOpwsOs3",
        "outputId": "2a495a28-a438-4eb3-b439-b4d8469e7f4f"
      },
      "source": [
        "genre = df.Genre.value_counts().nlargest(20)\n",
        "genre"
      ],
      "execution_count": 16,
      "outputs": [
        {
          "output_type": "execute_result",
          "data": {
            "text/plain": [
              "Documentary               159\n",
              "Drama                      77\n",
              "Comedy                     49\n",
              "Romantic comedy            39\n",
              "Thriller                   33\n",
              "Comedy-drama               14\n",
              "Crime drama                11\n",
              "Biopic                      9\n",
              "Horror                      9\n",
              "Action                      7\n",
              "Aftershow / Interview       6\n",
              "Concert Film                6\n",
              "Romance                     6\n",
              "Romantic drama              5\n",
              "Action comedy               5\n",
              "Animation                   5\n",
              "Science fiction             4\n",
              "Psychological thriller      4\n",
              "Animation / Short           4\n",
              "Variety show                4\n",
              "Name: Genre, dtype: int64"
            ]
          },
          "metadata": {},
          "execution_count": 16
        }
      ]
    },
    {
      "cell_type": "code",
      "metadata": {
        "colab": {
          "base_uri": "https://localhost:8080/",
          "height": 542
        },
        "id": "lHtQUV7ish6K",
        "outputId": "638531fb-f106-482a-a7d4-aea7215a67b4"
      },
      "source": [
        "fig = px.bar(data_frame=genre, x=genre.index, y=genre.values, labels={\"y\":\"Number of Movies from the Genre\", \"index\":\"Genres\"})\n",
        "fig.update_layout(xaxis={\"categoryorder\":\"total descending\"})\n",
        "\n",
        "fig.show()"
      ],
      "execution_count": 17,
      "outputs": [
        {
          "output_type": "display_data",
          "data": {
            "text/html": [
              "<html>\n",
              "<head><meta charset=\"utf-8\" /></head>\n",
              "<body>\n",
              "    <div>\n",
              "            <script src=\"https://cdnjs.cloudflare.com/ajax/libs/mathjax/2.7.5/MathJax.js?config=TeX-AMS-MML_SVG\"></script><script type=\"text/javascript\">if (window.MathJax) {MathJax.Hub.Config({SVG: {font: \"STIX-Web\"}});}</script>\n",
              "                <script type=\"text/javascript\">window.PlotlyConfig = {MathJaxConfig: 'local'};</script>\n",
              "        <script src=\"https://cdn.plot.ly/plotly-latest.min.js\"></script>    \n",
              "            <div id=\"69cb0a04-aaef-4451-8f60-47a8fc6f7191\" class=\"plotly-graph-div\" style=\"height:525px; width:100%;\"></div>\n",
              "            <script type=\"text/javascript\">\n",
              "                \n",
              "                    window.PLOTLYENV=window.PLOTLYENV || {};\n",
              "                    \n",
              "                if (document.getElementById(\"69cb0a04-aaef-4451-8f60-47a8fc6f7191\")) {\n",
              "                    Plotly.newPlot(\n",
              "                        '69cb0a04-aaef-4451-8f60-47a8fc6f7191',\n",
              "                        [{\"alignmentgroup\": \"True\", \"hoverlabel\": {\"namelength\": 0}, \"hovertemplate\": \"x=%{x}<br>Number of Movies from the Genre=%{y}\", \"legendgroup\": \"\", \"marker\": {\"color\": \"#636efa\"}, \"name\": \"\", \"offsetgroup\": \"\", \"orientation\": \"v\", \"showlegend\": false, \"textposition\": \"auto\", \"type\": \"bar\", \"x\": [\"Documentary\", \"Drama\", \"Comedy\", \"Romantic comedy\", \"Thriller\", \"Comedy-drama\", \"Crime drama\", \"Biopic\", \"Horror\", \"Action\", \"Aftershow / Interview\", \"Concert Film\", \"Romance\", \"Romantic drama\", \"Action comedy\", \"Animation\", \"Science fiction\", \"Psychological thriller\", \"Animation / Short\", \"Variety show\"], \"xaxis\": \"x\", \"y\": [159, 77, 49, 39, 33, 14, 11, 9, 9, 7, 6, 6, 6, 5, 5, 5, 4, 4, 4, 4], \"yaxis\": \"y\"}],\n",
              "                        {\"barmode\": \"relative\", \"legend\": {\"tracegroupgap\": 0}, \"margin\": {\"t\": 60}, \"template\": {\"data\": {\"bar\": [{\"error_x\": {\"color\": \"#2a3f5f\"}, \"error_y\": {\"color\": \"#2a3f5f\"}, \"marker\": {\"line\": {\"color\": \"#E5ECF6\", \"width\": 0.5}}, \"type\": \"bar\"}], \"barpolar\": [{\"marker\": {\"line\": {\"color\": \"#E5ECF6\", \"width\": 0.5}}, \"type\": \"barpolar\"}], \"carpet\": [{\"aaxis\": {\"endlinecolor\": \"#2a3f5f\", \"gridcolor\": \"white\", \"linecolor\": \"white\", \"minorgridcolor\": \"white\", \"startlinecolor\": \"#2a3f5f\"}, \"baxis\": {\"endlinecolor\": \"#2a3f5f\", \"gridcolor\": \"white\", \"linecolor\": \"white\", \"minorgridcolor\": \"white\", \"startlinecolor\": \"#2a3f5f\"}, \"type\": \"carpet\"}], \"choropleth\": [{\"colorbar\": {\"outlinewidth\": 0, \"ticks\": \"\"}, \"type\": \"choropleth\"}], \"contour\": [{\"colorbar\": {\"outlinewidth\": 0, \"ticks\": \"\"}, \"colorscale\": [[0.0, \"#0d0887\"], [0.1111111111111111, \"#46039f\"], [0.2222222222222222, \"#7201a8\"], [0.3333333333333333, \"#9c179e\"], [0.4444444444444444, \"#bd3786\"], [0.5555555555555556, \"#d8576b\"], [0.6666666666666666, \"#ed7953\"], [0.7777777777777778, \"#fb9f3a\"], [0.8888888888888888, \"#fdca26\"], [1.0, \"#f0f921\"]], \"type\": \"contour\"}], \"contourcarpet\": [{\"colorbar\": {\"outlinewidth\": 0, \"ticks\": \"\"}, \"type\": \"contourcarpet\"}], \"heatmap\": [{\"colorbar\": {\"outlinewidth\": 0, \"ticks\": \"\"}, \"colorscale\": [[0.0, \"#0d0887\"], [0.1111111111111111, \"#46039f\"], [0.2222222222222222, \"#7201a8\"], [0.3333333333333333, \"#9c179e\"], [0.4444444444444444, \"#bd3786\"], [0.5555555555555556, \"#d8576b\"], [0.6666666666666666, \"#ed7953\"], [0.7777777777777778, \"#fb9f3a\"], [0.8888888888888888, \"#fdca26\"], [1.0, \"#f0f921\"]], \"type\": \"heatmap\"}], \"heatmapgl\": [{\"colorbar\": {\"outlinewidth\": 0, \"ticks\": \"\"}, \"colorscale\": [[0.0, \"#0d0887\"], [0.1111111111111111, \"#46039f\"], [0.2222222222222222, \"#7201a8\"], [0.3333333333333333, \"#9c179e\"], [0.4444444444444444, \"#bd3786\"], [0.5555555555555556, \"#d8576b\"], [0.6666666666666666, \"#ed7953\"], [0.7777777777777778, \"#fb9f3a\"], [0.8888888888888888, \"#fdca26\"], [1.0, \"#f0f921\"]], \"type\": \"heatmapgl\"}], \"histogram\": [{\"marker\": {\"colorbar\": {\"outlinewidth\": 0, \"ticks\": \"\"}}, \"type\": \"histogram\"}], \"histogram2d\": [{\"colorbar\": {\"outlinewidth\": 0, \"ticks\": \"\"}, \"colorscale\": [[0.0, \"#0d0887\"], [0.1111111111111111, \"#46039f\"], [0.2222222222222222, \"#7201a8\"], [0.3333333333333333, \"#9c179e\"], [0.4444444444444444, \"#bd3786\"], [0.5555555555555556, \"#d8576b\"], [0.6666666666666666, \"#ed7953\"], [0.7777777777777778, \"#fb9f3a\"], [0.8888888888888888, \"#fdca26\"], [1.0, \"#f0f921\"]], \"type\": \"histogram2d\"}], \"histogram2dcontour\": [{\"colorbar\": {\"outlinewidth\": 0, \"ticks\": \"\"}, \"colorscale\": [[0.0, \"#0d0887\"], [0.1111111111111111, \"#46039f\"], [0.2222222222222222, \"#7201a8\"], [0.3333333333333333, \"#9c179e\"], [0.4444444444444444, \"#bd3786\"], [0.5555555555555556, \"#d8576b\"], [0.6666666666666666, \"#ed7953\"], [0.7777777777777778, \"#fb9f3a\"], [0.8888888888888888, \"#fdca26\"], [1.0, \"#f0f921\"]], \"type\": \"histogram2dcontour\"}], \"mesh3d\": [{\"colorbar\": {\"outlinewidth\": 0, \"ticks\": \"\"}, \"type\": \"mesh3d\"}], \"parcoords\": [{\"line\": {\"colorbar\": {\"outlinewidth\": 0, \"ticks\": \"\"}}, \"type\": \"parcoords\"}], \"pie\": [{\"automargin\": true, \"type\": \"pie\"}], \"scatter\": [{\"marker\": {\"colorbar\": {\"outlinewidth\": 0, \"ticks\": \"\"}}, \"type\": \"scatter\"}], \"scatter3d\": [{\"line\": {\"colorbar\": {\"outlinewidth\": 0, \"ticks\": \"\"}}, \"marker\": {\"colorbar\": {\"outlinewidth\": 0, \"ticks\": \"\"}}, \"type\": \"scatter3d\"}], \"scattercarpet\": [{\"marker\": {\"colorbar\": {\"outlinewidth\": 0, \"ticks\": \"\"}}, \"type\": \"scattercarpet\"}], \"scattergeo\": [{\"marker\": {\"colorbar\": {\"outlinewidth\": 0, \"ticks\": \"\"}}, \"type\": \"scattergeo\"}], \"scattergl\": [{\"marker\": {\"colorbar\": {\"outlinewidth\": 0, \"ticks\": \"\"}}, \"type\": \"scattergl\"}], \"scattermapbox\": [{\"marker\": {\"colorbar\": {\"outlinewidth\": 0, \"ticks\": \"\"}}, \"type\": \"scattermapbox\"}], \"scatterpolar\": [{\"marker\": {\"colorbar\": {\"outlinewidth\": 0, \"ticks\": \"\"}}, \"type\": \"scatterpolar\"}], \"scatterpolargl\": [{\"marker\": {\"colorbar\": {\"outlinewidth\": 0, \"ticks\": \"\"}}, \"type\": \"scatterpolargl\"}], \"scatterternary\": [{\"marker\": {\"colorbar\": {\"outlinewidth\": 0, \"ticks\": \"\"}}, \"type\": \"scatterternary\"}], \"surface\": [{\"colorbar\": {\"outlinewidth\": 0, \"ticks\": \"\"}, \"colorscale\": [[0.0, \"#0d0887\"], [0.1111111111111111, \"#46039f\"], [0.2222222222222222, \"#7201a8\"], [0.3333333333333333, \"#9c179e\"], [0.4444444444444444, \"#bd3786\"], [0.5555555555555556, \"#d8576b\"], [0.6666666666666666, \"#ed7953\"], [0.7777777777777778, \"#fb9f3a\"], [0.8888888888888888, \"#fdca26\"], [1.0, \"#f0f921\"]], \"type\": \"surface\"}], \"table\": [{\"cells\": {\"fill\": {\"color\": \"#EBF0F8\"}, \"line\": {\"color\": \"white\"}}, \"header\": {\"fill\": {\"color\": \"#C8D4E3\"}, \"line\": {\"color\": \"white\"}}, \"type\": \"table\"}]}, \"layout\": {\"annotationdefaults\": {\"arrowcolor\": \"#2a3f5f\", \"arrowhead\": 0, \"arrowwidth\": 1}, \"coloraxis\": {\"colorbar\": {\"outlinewidth\": 0, \"ticks\": \"\"}}, \"colorscale\": {\"diverging\": [[0, \"#8e0152\"], [0.1, \"#c51b7d\"], [0.2, \"#de77ae\"], [0.3, \"#f1b6da\"], [0.4, \"#fde0ef\"], [0.5, \"#f7f7f7\"], [0.6, \"#e6f5d0\"], [0.7, \"#b8e186\"], [0.8, \"#7fbc41\"], [0.9, \"#4d9221\"], [1, \"#276419\"]], \"sequential\": [[0.0, \"#0d0887\"], [0.1111111111111111, \"#46039f\"], [0.2222222222222222, \"#7201a8\"], [0.3333333333333333, \"#9c179e\"], [0.4444444444444444, \"#bd3786\"], [0.5555555555555556, \"#d8576b\"], [0.6666666666666666, \"#ed7953\"], [0.7777777777777778, \"#fb9f3a\"], [0.8888888888888888, \"#fdca26\"], [1.0, \"#f0f921\"]], \"sequentialminus\": [[0.0, \"#0d0887\"], [0.1111111111111111, \"#46039f\"], [0.2222222222222222, \"#7201a8\"], [0.3333333333333333, \"#9c179e\"], [0.4444444444444444, \"#bd3786\"], [0.5555555555555556, \"#d8576b\"], [0.6666666666666666, \"#ed7953\"], [0.7777777777777778, \"#fb9f3a\"], [0.8888888888888888, \"#fdca26\"], [1.0, \"#f0f921\"]]}, \"colorway\": [\"#636efa\", \"#EF553B\", \"#00cc96\", \"#ab63fa\", \"#FFA15A\", \"#19d3f3\", \"#FF6692\", \"#B6E880\", \"#FF97FF\", \"#FECB52\"], \"font\": {\"color\": \"#2a3f5f\"}, \"geo\": {\"bgcolor\": \"white\", \"lakecolor\": \"white\", \"landcolor\": \"#E5ECF6\", \"showlakes\": true, \"showland\": true, \"subunitcolor\": \"white\"}, \"hoverlabel\": {\"align\": \"left\"}, \"hovermode\": \"closest\", \"mapbox\": {\"style\": \"light\"}, \"paper_bgcolor\": \"white\", \"plot_bgcolor\": \"#E5ECF6\", \"polar\": {\"angularaxis\": {\"gridcolor\": \"white\", \"linecolor\": \"white\", \"ticks\": \"\"}, \"bgcolor\": \"#E5ECF6\", \"radialaxis\": {\"gridcolor\": \"white\", \"linecolor\": \"white\", \"ticks\": \"\"}}, \"scene\": {\"xaxis\": {\"backgroundcolor\": \"#E5ECF6\", \"gridcolor\": \"white\", \"gridwidth\": 2, \"linecolor\": \"white\", \"showbackground\": true, \"ticks\": \"\", \"zerolinecolor\": \"white\"}, \"yaxis\": {\"backgroundcolor\": \"#E5ECF6\", \"gridcolor\": \"white\", \"gridwidth\": 2, \"linecolor\": \"white\", \"showbackground\": true, \"ticks\": \"\", \"zerolinecolor\": \"white\"}, \"zaxis\": {\"backgroundcolor\": \"#E5ECF6\", \"gridcolor\": \"white\", \"gridwidth\": 2, \"linecolor\": \"white\", \"showbackground\": true, \"ticks\": \"\", \"zerolinecolor\": \"white\"}}, \"shapedefaults\": {\"line\": {\"color\": \"#2a3f5f\"}}, \"ternary\": {\"aaxis\": {\"gridcolor\": \"white\", \"linecolor\": \"white\", \"ticks\": \"\"}, \"baxis\": {\"gridcolor\": \"white\", \"linecolor\": \"white\", \"ticks\": \"\"}, \"bgcolor\": \"#E5ECF6\", \"caxis\": {\"gridcolor\": \"white\", \"linecolor\": \"white\", \"ticks\": \"\"}}, \"title\": {\"x\": 0.05}, \"xaxis\": {\"automargin\": true, \"gridcolor\": \"white\", \"linecolor\": \"white\", \"ticks\": \"\", \"title\": {\"standoff\": 15}, \"zerolinecolor\": \"white\", \"zerolinewidth\": 2}, \"yaxis\": {\"automargin\": true, \"gridcolor\": \"white\", \"linecolor\": \"white\", \"ticks\": \"\", \"title\": {\"standoff\": 15}, \"zerolinecolor\": \"white\", \"zerolinewidth\": 2}}}, \"xaxis\": {\"anchor\": \"y\", \"categoryorder\": \"total descending\", \"domain\": [0.0, 1.0], \"title\": {\"text\": \"x\"}}, \"yaxis\": {\"anchor\": \"x\", \"domain\": [0.0, 1.0], \"title\": {\"text\": \"Number of Movies from the Genre\"}}},\n",
              "                        {\"responsive\": true}\n",
              "                    ).then(function(){\n",
              "                            \n",
              "var gd = document.getElementById('69cb0a04-aaef-4451-8f60-47a8fc6f7191');\n",
              "var x = new MutationObserver(function (mutations, observer) {{\n",
              "        var display = window.getComputedStyle(gd).display;\n",
              "        if (!display || display === 'none') {{\n",
              "            console.log([gd, 'removed!']);\n",
              "            Plotly.purge(gd);\n",
              "            observer.disconnect();\n",
              "        }}\n",
              "}});\n",
              "\n",
              "// Listen for the removal of the full notebook cells\n",
              "var notebookContainer = gd.closest('#notebook-container');\n",
              "if (notebookContainer) {{\n",
              "    x.observe(notebookContainer, {childList: true});\n",
              "}}\n",
              "\n",
              "// Listen for the clearing of the current output cell\n",
              "var outputEl = gd.closest('.output');\n",
              "if (outputEl) {{\n",
              "    x.observe(outputEl, {childList: true});\n",
              "}}\n",
              "\n",
              "                        })\n",
              "                };\n",
              "                \n",
              "            </script>\n",
              "        </div>\n",
              "</body>\n",
              "</html>"
            ]
          },
          "metadata": {}
        }
      ]
    },
    {
      "cell_type": "code",
      "metadata": {
        "id": "GNXbvBens917"
      },
      "source": [
        "#Languages"
      ],
      "execution_count": 18,
      "outputs": []
    },
    {
      "cell_type": "code",
      "metadata": {
        "colab": {
          "base_uri": "https://localhost:8080/"
        },
        "id": "crW5rVQftXH-",
        "outputId": "b6e22877-6132-4208-9fa8-0e855f5f5e43"
      },
      "source": [
        "df.Language.unique()"
      ],
      "execution_count": 19,
      "outputs": [
        {
          "output_type": "execute_result",
          "data": {
            "text/plain": [
              "array(['English/Japanese', 'Spanish', 'Italian', 'English', 'Hindi',\n",
              "       'Turkish', 'Korean', 'Indonesian', 'Malay', 'Dutch', 'French',\n",
              "       'English/Spanish', 'Portuguese', 'Filipino', 'German', 'Polish',\n",
              "       'Norwegian', 'Marathi', 'Thai', 'Swedish', 'Japanese',\n",
              "       'Spanish/Basque', 'Spanish/Catalan', 'English/Swedish',\n",
              "       'English/Taiwanese/Mandarin', 'Thia/English', 'English/Mandarin',\n",
              "       'Georgian', 'Bengali', 'Khmer/English/French', 'English/Hindi',\n",
              "       'Tamil', 'Spanish/English', 'English/Korean', 'English/Arabic',\n",
              "       'English/Russian', 'English/Akan', 'English/Ukranian/Russian'],\n",
              "      dtype=object)"
            ]
          },
          "metadata": {},
          "execution_count": 19
        }
      ]
    },
    {
      "cell_type": "code",
      "metadata": {
        "colab": {
          "base_uri": "https://localhost:8080/"
        },
        "id": "x32mvC-8tgnv",
        "outputId": "4fcc5aec-f866-42ed-b4fa-81bf898078cd"
      },
      "source": [
        "df.Language.value_counts()"
      ],
      "execution_count": 20,
      "outputs": [
        {
          "output_type": "execute_result",
          "data": {
            "text/plain": [
              "English                       401\n",
              "Hindi                          33\n",
              "Spanish                        31\n",
              "French                         20\n",
              "Italian                        14\n",
              "Portuguese                     12\n",
              "Indonesian                      9\n",
              "Japanese                        6\n",
              "Korean                          6\n",
              "Turkish                         5\n",
              "German                          5\n",
              "English/Spanish                 5\n",
              "Dutch                           3\n",
              "Polish                          3\n",
              "Marathi                         3\n",
              "English/Japanese                2\n",
              "English/Mandarin                2\n",
              "Thai                            2\n",
              "English/Hindi                   2\n",
              "Filipino                        2\n",
              "English/Arabic                  1\n",
              "Thia/English                    1\n",
              "Spanish/Catalan                 1\n",
              "English/Taiwanese/Mandarin      1\n",
              "Khmer/English/French            1\n",
              "English/Swedish                 1\n",
              "English/Korean                  1\n",
              "English/Akan                    1\n",
              "Bengali                         1\n",
              "Georgian                        1\n",
              "Spanish/English                 1\n",
              "Norwegian                       1\n",
              "Malay                           1\n",
              "Swedish                         1\n",
              "English/Ukranian/Russian        1\n",
              "Tamil                           1\n",
              "English/Russian                 1\n",
              "Spanish/Basque                  1\n",
              "Name: Language, dtype: int64"
            ]
          },
          "metadata": {},
          "execution_count": 20
        }
      ]
    },
    {
      "cell_type": "code",
      "metadata": {
        "colab": {
          "base_uri": "https://localhost:8080/"
        },
        "id": "i8kmRP6ntm03",
        "outputId": "3a48ea75-ded1-4a17-f56a-d56f7bc69471"
      },
      "source": [
        "df.Language.nunique()"
      ],
      "execution_count": 22,
      "outputs": [
        {
          "output_type": "execute_result",
          "data": {
            "text/plain": [
              "38"
            ]
          },
          "metadata": {},
          "execution_count": 22
        }
      ]
    },
    {
      "cell_type": "code",
      "metadata": {
        "colab": {
          "base_uri": "https://localhost:8080/",
          "height": 542
        },
        "id": "UmY4v3RotxRo",
        "outputId": "cd2ba286-c4f6-469a-b21b-e8718b9fda60"
      },
      "source": [
        "top_20_lang = df.Language.value_counts().nlargest(20)\n",
        "fig = px.bar(data_frame=top_20_lang, x=top_20_lang.index, y=top_20_lang.values, labels={\"y\":\"Count\", \"index\":\"Language\"})\n",
        "fig.update_layout(xaxis={\"categoryorder\":\"total descending\"})\n",
        "\n",
        "fig.show()"
      ],
      "execution_count": 23,
      "outputs": [
        {
          "output_type": "display_data",
          "data": {
            "text/html": [
              "<html>\n",
              "<head><meta charset=\"utf-8\" /></head>\n",
              "<body>\n",
              "    <div>\n",
              "            <script src=\"https://cdnjs.cloudflare.com/ajax/libs/mathjax/2.7.5/MathJax.js?config=TeX-AMS-MML_SVG\"></script><script type=\"text/javascript\">if (window.MathJax) {MathJax.Hub.Config({SVG: {font: \"STIX-Web\"}});}</script>\n",
              "                <script type=\"text/javascript\">window.PlotlyConfig = {MathJaxConfig: 'local'};</script>\n",
              "        <script src=\"https://cdn.plot.ly/plotly-latest.min.js\"></script>    \n",
              "            <div id=\"0bff1c25-f9e0-4219-a85d-01ef32e1742b\" class=\"plotly-graph-div\" style=\"height:525px; width:100%;\"></div>\n",
              "            <script type=\"text/javascript\">\n",
              "                \n",
              "                    window.PLOTLYENV=window.PLOTLYENV || {};\n",
              "                    \n",
              "                if (document.getElementById(\"0bff1c25-f9e0-4219-a85d-01ef32e1742b\")) {\n",
              "                    Plotly.newPlot(\n",
              "                        '0bff1c25-f9e0-4219-a85d-01ef32e1742b',\n",
              "                        [{\"alignmentgroup\": \"True\", \"hoverlabel\": {\"namelength\": 0}, \"hovertemplate\": \"x=%{x}<br>Count=%{y}\", \"legendgroup\": \"\", \"marker\": {\"color\": \"#636efa\"}, \"name\": \"\", \"offsetgroup\": \"\", \"orientation\": \"v\", \"showlegend\": false, \"textposition\": \"auto\", \"type\": \"bar\", \"x\": [\"English\", \"Hindi\", \"Spanish\", \"French\", \"Italian\", \"Portuguese\", \"Indonesian\", \"Japanese\", \"Korean\", \"Turkish\", \"German\", \"English/Spanish\", \"Dutch\", \"Polish\", \"Marathi\", \"English/Japanese\", \"English/Mandarin\", \"Thai\", \"English/Hindi\", \"Filipino\"], \"xaxis\": \"x\", \"y\": [401, 33, 31, 20, 14, 12, 9, 6, 6, 5, 5, 5, 3, 3, 3, 2, 2, 2, 2, 2], \"yaxis\": \"y\"}],\n",
              "                        {\"barmode\": \"relative\", \"legend\": {\"tracegroupgap\": 0}, \"margin\": {\"t\": 60}, \"template\": {\"data\": {\"bar\": [{\"error_x\": {\"color\": \"#2a3f5f\"}, \"error_y\": {\"color\": \"#2a3f5f\"}, \"marker\": {\"line\": {\"color\": \"#E5ECF6\", \"width\": 0.5}}, \"type\": \"bar\"}], \"barpolar\": [{\"marker\": {\"line\": {\"color\": \"#E5ECF6\", \"width\": 0.5}}, \"type\": \"barpolar\"}], \"carpet\": [{\"aaxis\": {\"endlinecolor\": \"#2a3f5f\", \"gridcolor\": \"white\", \"linecolor\": \"white\", \"minorgridcolor\": \"white\", \"startlinecolor\": \"#2a3f5f\"}, \"baxis\": {\"endlinecolor\": \"#2a3f5f\", \"gridcolor\": \"white\", \"linecolor\": \"white\", \"minorgridcolor\": \"white\", \"startlinecolor\": \"#2a3f5f\"}, \"type\": \"carpet\"}], \"choropleth\": [{\"colorbar\": {\"outlinewidth\": 0, \"ticks\": \"\"}, \"type\": \"choropleth\"}], \"contour\": [{\"colorbar\": {\"outlinewidth\": 0, \"ticks\": \"\"}, \"colorscale\": [[0.0, \"#0d0887\"], [0.1111111111111111, \"#46039f\"], [0.2222222222222222, \"#7201a8\"], [0.3333333333333333, \"#9c179e\"], [0.4444444444444444, \"#bd3786\"], [0.5555555555555556, \"#d8576b\"], [0.6666666666666666, \"#ed7953\"], [0.7777777777777778, \"#fb9f3a\"], [0.8888888888888888, \"#fdca26\"], [1.0, \"#f0f921\"]], \"type\": \"contour\"}], \"contourcarpet\": [{\"colorbar\": {\"outlinewidth\": 0, \"ticks\": \"\"}, \"type\": \"contourcarpet\"}], \"heatmap\": [{\"colorbar\": {\"outlinewidth\": 0, \"ticks\": \"\"}, \"colorscale\": [[0.0, \"#0d0887\"], [0.1111111111111111, \"#46039f\"], [0.2222222222222222, \"#7201a8\"], [0.3333333333333333, \"#9c179e\"], [0.4444444444444444, \"#bd3786\"], [0.5555555555555556, \"#d8576b\"], [0.6666666666666666, \"#ed7953\"], [0.7777777777777778, \"#fb9f3a\"], [0.8888888888888888, \"#fdca26\"], [1.0, \"#f0f921\"]], \"type\": \"heatmap\"}], \"heatmapgl\": [{\"colorbar\": {\"outlinewidth\": 0, \"ticks\": \"\"}, \"colorscale\": [[0.0, \"#0d0887\"], [0.1111111111111111, \"#46039f\"], [0.2222222222222222, \"#7201a8\"], [0.3333333333333333, \"#9c179e\"], [0.4444444444444444, \"#bd3786\"], [0.5555555555555556, \"#d8576b\"], [0.6666666666666666, \"#ed7953\"], [0.7777777777777778, \"#fb9f3a\"], [0.8888888888888888, \"#fdca26\"], [1.0, \"#f0f921\"]], \"type\": \"heatmapgl\"}], \"histogram\": [{\"marker\": {\"colorbar\": {\"outlinewidth\": 0, \"ticks\": \"\"}}, \"type\": \"histogram\"}], \"histogram2d\": [{\"colorbar\": {\"outlinewidth\": 0, \"ticks\": \"\"}, \"colorscale\": [[0.0, \"#0d0887\"], [0.1111111111111111, \"#46039f\"], [0.2222222222222222, \"#7201a8\"], [0.3333333333333333, \"#9c179e\"], [0.4444444444444444, \"#bd3786\"], [0.5555555555555556, \"#d8576b\"], [0.6666666666666666, \"#ed7953\"], [0.7777777777777778, \"#fb9f3a\"], [0.8888888888888888, \"#fdca26\"], [1.0, \"#f0f921\"]], \"type\": \"histogram2d\"}], \"histogram2dcontour\": [{\"colorbar\": {\"outlinewidth\": 0, \"ticks\": \"\"}, \"colorscale\": [[0.0, \"#0d0887\"], [0.1111111111111111, \"#46039f\"], [0.2222222222222222, \"#7201a8\"], [0.3333333333333333, \"#9c179e\"], [0.4444444444444444, \"#bd3786\"], [0.5555555555555556, \"#d8576b\"], [0.6666666666666666, \"#ed7953\"], [0.7777777777777778, \"#fb9f3a\"], [0.8888888888888888, \"#fdca26\"], [1.0, \"#f0f921\"]], \"type\": \"histogram2dcontour\"}], \"mesh3d\": [{\"colorbar\": {\"outlinewidth\": 0, \"ticks\": \"\"}, \"type\": \"mesh3d\"}], \"parcoords\": [{\"line\": {\"colorbar\": {\"outlinewidth\": 0, \"ticks\": \"\"}}, \"type\": \"parcoords\"}], \"pie\": [{\"automargin\": true, \"type\": \"pie\"}], \"scatter\": [{\"marker\": {\"colorbar\": {\"outlinewidth\": 0, \"ticks\": \"\"}}, \"type\": \"scatter\"}], \"scatter3d\": [{\"line\": {\"colorbar\": {\"outlinewidth\": 0, \"ticks\": \"\"}}, \"marker\": {\"colorbar\": {\"outlinewidth\": 0, \"ticks\": \"\"}}, \"type\": \"scatter3d\"}], \"scattercarpet\": [{\"marker\": {\"colorbar\": {\"outlinewidth\": 0, \"ticks\": \"\"}}, \"type\": \"scattercarpet\"}], \"scattergeo\": [{\"marker\": {\"colorbar\": {\"outlinewidth\": 0, \"ticks\": \"\"}}, \"type\": \"scattergeo\"}], \"scattergl\": [{\"marker\": {\"colorbar\": {\"outlinewidth\": 0, \"ticks\": \"\"}}, \"type\": \"scattergl\"}], \"scattermapbox\": [{\"marker\": {\"colorbar\": {\"outlinewidth\": 0, \"ticks\": \"\"}}, \"type\": \"scattermapbox\"}], \"scatterpolar\": [{\"marker\": {\"colorbar\": {\"outlinewidth\": 0, \"ticks\": \"\"}}, \"type\": \"scatterpolar\"}], \"scatterpolargl\": [{\"marker\": {\"colorbar\": {\"outlinewidth\": 0, \"ticks\": \"\"}}, \"type\": \"scatterpolargl\"}], \"scatterternary\": [{\"marker\": {\"colorbar\": {\"outlinewidth\": 0, \"ticks\": \"\"}}, \"type\": \"scatterternary\"}], \"surface\": [{\"colorbar\": {\"outlinewidth\": 0, \"ticks\": \"\"}, \"colorscale\": [[0.0, \"#0d0887\"], [0.1111111111111111, \"#46039f\"], [0.2222222222222222, \"#7201a8\"], [0.3333333333333333, \"#9c179e\"], [0.4444444444444444, \"#bd3786\"], [0.5555555555555556, \"#d8576b\"], [0.6666666666666666, \"#ed7953\"], [0.7777777777777778, \"#fb9f3a\"], [0.8888888888888888, \"#fdca26\"], [1.0, \"#f0f921\"]], \"type\": \"surface\"}], \"table\": [{\"cells\": {\"fill\": {\"color\": \"#EBF0F8\"}, \"line\": {\"color\": \"white\"}}, \"header\": {\"fill\": {\"color\": \"#C8D4E3\"}, \"line\": {\"color\": \"white\"}}, \"type\": \"table\"}]}, \"layout\": {\"annotationdefaults\": {\"arrowcolor\": \"#2a3f5f\", \"arrowhead\": 0, \"arrowwidth\": 1}, \"coloraxis\": {\"colorbar\": {\"outlinewidth\": 0, \"ticks\": \"\"}}, \"colorscale\": {\"diverging\": [[0, \"#8e0152\"], [0.1, \"#c51b7d\"], [0.2, \"#de77ae\"], [0.3, \"#f1b6da\"], [0.4, \"#fde0ef\"], [0.5, \"#f7f7f7\"], [0.6, \"#e6f5d0\"], [0.7, \"#b8e186\"], [0.8, \"#7fbc41\"], [0.9, \"#4d9221\"], [1, \"#276419\"]], \"sequential\": [[0.0, \"#0d0887\"], [0.1111111111111111, \"#46039f\"], [0.2222222222222222, \"#7201a8\"], [0.3333333333333333, \"#9c179e\"], [0.4444444444444444, \"#bd3786\"], [0.5555555555555556, \"#d8576b\"], [0.6666666666666666, \"#ed7953\"], [0.7777777777777778, \"#fb9f3a\"], [0.8888888888888888, \"#fdca26\"], [1.0, \"#f0f921\"]], \"sequentialminus\": [[0.0, \"#0d0887\"], [0.1111111111111111, \"#46039f\"], [0.2222222222222222, \"#7201a8\"], [0.3333333333333333, \"#9c179e\"], [0.4444444444444444, \"#bd3786\"], [0.5555555555555556, \"#d8576b\"], [0.6666666666666666, \"#ed7953\"], [0.7777777777777778, \"#fb9f3a\"], [0.8888888888888888, \"#fdca26\"], [1.0, \"#f0f921\"]]}, \"colorway\": [\"#636efa\", \"#EF553B\", \"#00cc96\", \"#ab63fa\", \"#FFA15A\", \"#19d3f3\", \"#FF6692\", \"#B6E880\", \"#FF97FF\", \"#FECB52\"], \"font\": {\"color\": \"#2a3f5f\"}, \"geo\": {\"bgcolor\": \"white\", \"lakecolor\": \"white\", \"landcolor\": \"#E5ECF6\", \"showlakes\": true, \"showland\": true, \"subunitcolor\": \"white\"}, \"hoverlabel\": {\"align\": \"left\"}, \"hovermode\": \"closest\", \"mapbox\": {\"style\": \"light\"}, \"paper_bgcolor\": \"white\", \"plot_bgcolor\": \"#E5ECF6\", \"polar\": {\"angularaxis\": {\"gridcolor\": \"white\", \"linecolor\": \"white\", \"ticks\": \"\"}, \"bgcolor\": \"#E5ECF6\", \"radialaxis\": {\"gridcolor\": \"white\", \"linecolor\": \"white\", \"ticks\": \"\"}}, \"scene\": {\"xaxis\": {\"backgroundcolor\": \"#E5ECF6\", \"gridcolor\": \"white\", \"gridwidth\": 2, \"linecolor\": \"white\", \"showbackground\": true, \"ticks\": \"\", \"zerolinecolor\": \"white\"}, \"yaxis\": {\"backgroundcolor\": \"#E5ECF6\", \"gridcolor\": \"white\", \"gridwidth\": 2, \"linecolor\": \"white\", \"showbackground\": true, \"ticks\": \"\", \"zerolinecolor\": \"white\"}, \"zaxis\": {\"backgroundcolor\": \"#E5ECF6\", \"gridcolor\": \"white\", \"gridwidth\": 2, \"linecolor\": \"white\", \"showbackground\": true, \"ticks\": \"\", \"zerolinecolor\": \"white\"}}, \"shapedefaults\": {\"line\": {\"color\": \"#2a3f5f\"}}, \"ternary\": {\"aaxis\": {\"gridcolor\": \"white\", \"linecolor\": \"white\", \"ticks\": \"\"}, \"baxis\": {\"gridcolor\": \"white\", \"linecolor\": \"white\", \"ticks\": \"\"}, \"bgcolor\": \"#E5ECF6\", \"caxis\": {\"gridcolor\": \"white\", \"linecolor\": \"white\", \"ticks\": \"\"}}, \"title\": {\"x\": 0.05}, \"xaxis\": {\"automargin\": true, \"gridcolor\": \"white\", \"linecolor\": \"white\", \"ticks\": \"\", \"title\": {\"standoff\": 15}, \"zerolinecolor\": \"white\", \"zerolinewidth\": 2}, \"yaxis\": {\"automargin\": true, \"gridcolor\": \"white\", \"linecolor\": \"white\", \"ticks\": \"\", \"title\": {\"standoff\": 15}, \"zerolinecolor\": \"white\", \"zerolinewidth\": 2}}}, \"xaxis\": {\"anchor\": \"y\", \"categoryorder\": \"total descending\", \"domain\": [0.0, 1.0], \"title\": {\"text\": \"x\"}}, \"yaxis\": {\"anchor\": \"x\", \"domain\": [0.0, 1.0], \"title\": {\"text\": \"Count\"}}},\n",
              "                        {\"responsive\": true}\n",
              "                    ).then(function(){\n",
              "                            \n",
              "var gd = document.getElementById('0bff1c25-f9e0-4219-a85d-01ef32e1742b');\n",
              "var x = new MutationObserver(function (mutations, observer) {{\n",
              "        var display = window.getComputedStyle(gd).display;\n",
              "        if (!display || display === 'none') {{\n",
              "            console.log([gd, 'removed!']);\n",
              "            Plotly.purge(gd);\n",
              "            observer.disconnect();\n",
              "        }}\n",
              "}});\n",
              "\n",
              "// Listen for the removal of the full notebook cells\n",
              "var notebookContainer = gd.closest('#notebook-container');\n",
              "if (notebookContainer) {{\n",
              "    x.observe(notebookContainer, {childList: true});\n",
              "}}\n",
              "\n",
              "// Listen for the clearing of the current output cell\n",
              "var outputEl = gd.closest('.output');\n",
              "if (outputEl) {{\n",
              "    x.observe(outputEl, {childList: true});\n",
              "}}\n",
              "\n",
              "                        })\n",
              "                };\n",
              "                \n",
              "            </script>\n",
              "        </div>\n",
              "</body>\n",
              "</html>"
            ]
          },
          "metadata": {}
        }
      ]
    },
    {
      "cell_type": "code",
      "metadata": {
        "id": "ot0vQXsPuFsV"
      },
      "source": [
        "#Runtime"
      ],
      "execution_count": 24,
      "outputs": []
    },
    {
      "cell_type": "code",
      "metadata": {
        "colab": {
          "base_uri": "https://localhost:8080/"
        },
        "id": "qPjD5T5iuNLR",
        "outputId": "b5280c86-e1fe-462f-8bb6-cc4a0c86cc44"
      },
      "source": [
        "df.Runtime.describe()"
      ],
      "execution_count": 25,
      "outputs": [
        {
          "output_type": "execute_result",
          "data": {
            "text/plain": [
              "count    584.000000\n",
              "mean      93.577055\n",
              "std       27.761683\n",
              "min        4.000000\n",
              "25%       86.000000\n",
              "50%       97.000000\n",
              "75%      108.000000\n",
              "max      209.000000\n",
              "Name: Runtime, dtype: float64"
            ]
          },
          "metadata": {},
          "execution_count": 25
        }
      ]
    },
    {
      "cell_type": "code",
      "metadata": {
        "colab": {
          "base_uri": "https://localhost:8080/",
          "height": 542
        },
        "id": "ANFcJf-OuTHQ",
        "outputId": "ac46c1ae-00a8-42a9-9d7f-91c2df610f4b"
      },
      "source": [
        "fig = px.histogram(data_frame=df, x=\"Runtime\", title=\"Runtime of Programs\")\n",
        "\n",
        "fig.show()"
      ],
      "execution_count": 26,
      "outputs": [
        {
          "output_type": "display_data",
          "data": {
            "text/html": [
              "<html>\n",
              "<head><meta charset=\"utf-8\" /></head>\n",
              "<body>\n",
              "    <div>\n",
              "            <script src=\"https://cdnjs.cloudflare.com/ajax/libs/mathjax/2.7.5/MathJax.js?config=TeX-AMS-MML_SVG\"></script><script type=\"text/javascript\">if (window.MathJax) {MathJax.Hub.Config({SVG: {font: \"STIX-Web\"}});}</script>\n",
              "                <script type=\"text/javascript\">window.PlotlyConfig = {MathJaxConfig: 'local'};</script>\n",
              "        <script src=\"https://cdn.plot.ly/plotly-latest.min.js\"></script>    \n",
              "            <div id=\"bd450d08-7fb4-4c7c-b44c-92d20b468a74\" class=\"plotly-graph-div\" style=\"height:525px; width:100%;\"></div>\n",
              "            <script type=\"text/javascript\">\n",
              "                \n",
              "                    window.PLOTLYENV=window.PLOTLYENV || {};\n",
              "                    \n",
              "                if (document.getElementById(\"bd450d08-7fb4-4c7c-b44c-92d20b468a74\")) {\n",
              "                    Plotly.newPlot(\n",
              "                        'bd450d08-7fb4-4c7c-b44c-92d20b468a74',\n",
              "                        [{\"alignmentgroup\": \"True\", \"bingroup\": \"x\", \"hoverlabel\": {\"namelength\": 0}, \"hovertemplate\": \"Runtime=%{x}<br>count=%{y}\", \"legendgroup\": \"\", \"marker\": {\"color\": \"#636efa\"}, \"name\": \"\", \"offsetgroup\": \"\", \"orientation\": \"v\", \"showlegend\": false, \"type\": \"histogram\", \"x\": [58, 81, 79, 94, 90, 147, 112, 149, 73, 139, 58, 112, 97, 101, 90, 25, 144, 115, 102, 100, 64, 97, 99, 120, 105, 89, 97, 107, 99, 95, 37, 89, 83, 46, 85, 88, 86, 105, 95, 80, 4, 93, 100, 106, 97, 106, 103, 80, 101, 119, 80, 89, 94, 93, 96, 113, 86, 100, 102, 86, 104, 88, 97, 105, 90, 99, 10, 106, 98, 94, 112, 117, 70, 81, 103, 94, 98, 131, 87, 60, 112, 102, 99, 116, 92, 83, 97, 112, 116, 102, 121, 95, 93, 92, 98, 85, 78, 120, 92, 101, 119, 101, 112, 96, 114, 97, 101, 56, 100, 94, 94, 21, 104, 63, 100, 126, 106, 86, 142, 108, 102, 92, 83, 94, 92, 103, 89, 95, 103, 97, 125, 91, 90, 49, 98, 107, 118, 94, 103, 86, 83, 97, 99, 104, 102, 89, 98, 125, 89, 94, 94, 85, 34, 86, 91, 108, 95, 100, 90, 112, 86, 124, 107, 92, 121, 90, 104, 92, 114, 98, 95, 78, 107, 92, 95, 96, 118, 105, 94, 52, 105, 95, 100, 97, 89, 102, 96, 131, 89, 93, 111, 75, 120, 96, 148, 94, 107, 32, 104, 23, 111, 83, 53, 95, 132, 98, 108, 106, 104, 90, 106, 90, 97, 113, 123, 115, 105, 101, 102, 122, 128, 82, 102, 80, 94, 123, 104, 85, 84, 103, 95, 100, 89, 116, 118, 96, 114, 99, 87, 92, 90, 95, 96, 93, 42, 92, 106, 151, 101, 114, 90, 115, 92, 72, 139, 98, 92, 111, 98, 104, 95, 88, 102, 30, 99, 129, 87, 117, 104, 111, 107, 97, 98, 90, 101, 72, 83, 118, 44, 113, 86, 108, 85, 102, 151, 98, 87, 120, 134, 109, 85, 103, 94, 97, 88, 37, 112, 102, 100, 96, 113, 16, 119, 97, 81, 98, 95, 96, 107, 41, 87, 101, 97, 103, 90, 125, 116, 99, 82, 97, 28, 108, 93, 74, 60, 9, 21, 100, 155, 55, 123, 103, 93, 119, 40, 120, 98, 104, 91, 95, 101, 105, 83, 91, 83, 17, 86, 124, 94, 102, 118, 79, 134, 126, 98, 89, 58, 83, 136, 98, 114, 99, 130, 32, 104, 142, 92, 86, 106, 95, 91, 89, 117, 90, 117, 80, 87, 101, 19, 106, 54, 111, 132, 97, 106, 111, 124, 116, 112, 144, 76, 101, 92, 19, 39, 102, 89, 105, 101, 70, 96, 85, 39, 79, 73, 114, 121, 28, 95, 122, 23, 107, 98, 108, 92, 100, 97, 7, 96, 100, 132, 103, 121, 114, 57, 95, 83, 17, 105, 131, 30, 112, 86, 100, 14, 109, 28, 64, 94, 31, 99, 108, 48, 84, 70, 27, 45, 117, 104, 108, 121, 36, 30, 47, 110, 92, 80, 49, 73, 40, 96, 106, 97, 94, 78, 81, 87, 91, 91, 95, 126, 31, 58, 41, 138, 112, 114, 125, 99, 82, 98, 136, 97, 107, 92, 39, 133, 89, 124, 99, 101, 97, 124, 129, 121, 140, 13, 108, 11, 118, 121, 24, 100, 101, 105, 96, 47, 121, 100, 149, 64, 64, 114, 15, 79, 90, 132, 105, 97, 83, 110, 39, 40, 85, 26, 87, 97, 118, 23, 40, 98, 80, 108, 79, 74, 90, 137, 71, 98, 70, 99, 40, 104, 149, 124, 144, 85, 100, 94, 125, 84, 117, 15, 136, 76, 108, 94, 90, 72, 135, 12, 209, 130, 82, 120, 136, 112, 105, 89, 85, 106, 100, 107, 97, 89, 109, 114, 51, 85, 125, 91, 153, 89, 83], \"xaxis\": \"x\", \"yaxis\": \"y\"}],\n",
              "                        {\"barmode\": \"relative\", \"legend\": {\"tracegroupgap\": 0}, \"template\": {\"data\": {\"bar\": [{\"error_x\": {\"color\": \"#2a3f5f\"}, \"error_y\": {\"color\": \"#2a3f5f\"}, \"marker\": {\"line\": {\"color\": \"#E5ECF6\", \"width\": 0.5}}, \"type\": \"bar\"}], \"barpolar\": [{\"marker\": {\"line\": {\"color\": \"#E5ECF6\", \"width\": 0.5}}, \"type\": \"barpolar\"}], \"carpet\": [{\"aaxis\": {\"endlinecolor\": \"#2a3f5f\", \"gridcolor\": \"white\", \"linecolor\": \"white\", \"minorgridcolor\": \"white\", \"startlinecolor\": \"#2a3f5f\"}, \"baxis\": {\"endlinecolor\": \"#2a3f5f\", \"gridcolor\": \"white\", \"linecolor\": \"white\", \"minorgridcolor\": \"white\", \"startlinecolor\": \"#2a3f5f\"}, \"type\": \"carpet\"}], \"choropleth\": [{\"colorbar\": {\"outlinewidth\": 0, \"ticks\": \"\"}, \"type\": \"choropleth\"}], \"contour\": [{\"colorbar\": {\"outlinewidth\": 0, \"ticks\": \"\"}, \"colorscale\": [[0.0, \"#0d0887\"], [0.1111111111111111, \"#46039f\"], [0.2222222222222222, \"#7201a8\"], [0.3333333333333333, \"#9c179e\"], [0.4444444444444444, \"#bd3786\"], [0.5555555555555556, \"#d8576b\"], [0.6666666666666666, \"#ed7953\"], [0.7777777777777778, \"#fb9f3a\"], [0.8888888888888888, \"#fdca26\"], [1.0, \"#f0f921\"]], \"type\": \"contour\"}], \"contourcarpet\": [{\"colorbar\": {\"outlinewidth\": 0, \"ticks\": \"\"}, \"type\": \"contourcarpet\"}], \"heatmap\": [{\"colorbar\": {\"outlinewidth\": 0, \"ticks\": \"\"}, \"colorscale\": [[0.0, \"#0d0887\"], [0.1111111111111111, \"#46039f\"], [0.2222222222222222, \"#7201a8\"], [0.3333333333333333, \"#9c179e\"], [0.4444444444444444, \"#bd3786\"], [0.5555555555555556, \"#d8576b\"], [0.6666666666666666, \"#ed7953\"], [0.7777777777777778, \"#fb9f3a\"], [0.8888888888888888, \"#fdca26\"], [1.0, \"#f0f921\"]], \"type\": \"heatmap\"}], \"heatmapgl\": [{\"colorbar\": {\"outlinewidth\": 0, \"ticks\": \"\"}, \"colorscale\": [[0.0, \"#0d0887\"], [0.1111111111111111, \"#46039f\"], [0.2222222222222222, \"#7201a8\"], [0.3333333333333333, \"#9c179e\"], [0.4444444444444444, \"#bd3786\"], [0.5555555555555556, \"#d8576b\"], [0.6666666666666666, \"#ed7953\"], [0.7777777777777778, \"#fb9f3a\"], [0.8888888888888888, \"#fdca26\"], [1.0, \"#f0f921\"]], \"type\": \"heatmapgl\"}], \"histogram\": [{\"marker\": {\"colorbar\": {\"outlinewidth\": 0, \"ticks\": \"\"}}, \"type\": \"histogram\"}], \"histogram2d\": [{\"colorbar\": {\"outlinewidth\": 0, \"ticks\": \"\"}, \"colorscale\": [[0.0, \"#0d0887\"], [0.1111111111111111, \"#46039f\"], [0.2222222222222222, \"#7201a8\"], [0.3333333333333333, \"#9c179e\"], [0.4444444444444444, \"#bd3786\"], [0.5555555555555556, \"#d8576b\"], [0.6666666666666666, \"#ed7953\"], [0.7777777777777778, \"#fb9f3a\"], [0.8888888888888888, \"#fdca26\"], [1.0, \"#f0f921\"]], \"type\": \"histogram2d\"}], \"histogram2dcontour\": [{\"colorbar\": {\"outlinewidth\": 0, \"ticks\": \"\"}, \"colorscale\": [[0.0, \"#0d0887\"], [0.1111111111111111, \"#46039f\"], [0.2222222222222222, \"#7201a8\"], [0.3333333333333333, \"#9c179e\"], [0.4444444444444444, \"#bd3786\"], [0.5555555555555556, \"#d8576b\"], [0.6666666666666666, \"#ed7953\"], [0.7777777777777778, \"#fb9f3a\"], [0.8888888888888888, \"#fdca26\"], [1.0, \"#f0f921\"]], \"type\": \"histogram2dcontour\"}], \"mesh3d\": [{\"colorbar\": {\"outlinewidth\": 0, \"ticks\": \"\"}, \"type\": \"mesh3d\"}], \"parcoords\": [{\"line\": {\"colorbar\": {\"outlinewidth\": 0, \"ticks\": \"\"}}, \"type\": \"parcoords\"}], \"pie\": [{\"automargin\": true, \"type\": \"pie\"}], \"scatter\": [{\"marker\": {\"colorbar\": {\"outlinewidth\": 0, \"ticks\": \"\"}}, \"type\": \"scatter\"}], \"scatter3d\": [{\"line\": {\"colorbar\": {\"outlinewidth\": 0, \"ticks\": \"\"}}, \"marker\": {\"colorbar\": {\"outlinewidth\": 0, \"ticks\": \"\"}}, \"type\": \"scatter3d\"}], \"scattercarpet\": [{\"marker\": {\"colorbar\": {\"outlinewidth\": 0, \"ticks\": \"\"}}, \"type\": \"scattercarpet\"}], \"scattergeo\": [{\"marker\": {\"colorbar\": {\"outlinewidth\": 0, \"ticks\": \"\"}}, \"type\": \"scattergeo\"}], \"scattergl\": [{\"marker\": {\"colorbar\": {\"outlinewidth\": 0, \"ticks\": \"\"}}, \"type\": \"scattergl\"}], \"scattermapbox\": [{\"marker\": {\"colorbar\": {\"outlinewidth\": 0, \"ticks\": \"\"}}, \"type\": \"scattermapbox\"}], \"scatterpolar\": [{\"marker\": {\"colorbar\": {\"outlinewidth\": 0, \"ticks\": \"\"}}, \"type\": \"scatterpolar\"}], \"scatterpolargl\": [{\"marker\": {\"colorbar\": {\"outlinewidth\": 0, \"ticks\": \"\"}}, \"type\": \"scatterpolargl\"}], \"scatterternary\": [{\"marker\": {\"colorbar\": {\"outlinewidth\": 0, \"ticks\": \"\"}}, \"type\": \"scatterternary\"}], \"surface\": [{\"colorbar\": {\"outlinewidth\": 0, \"ticks\": \"\"}, \"colorscale\": [[0.0, \"#0d0887\"], [0.1111111111111111, \"#46039f\"], [0.2222222222222222, \"#7201a8\"], [0.3333333333333333, \"#9c179e\"], [0.4444444444444444, \"#bd3786\"], [0.5555555555555556, \"#d8576b\"], [0.6666666666666666, \"#ed7953\"], [0.7777777777777778, \"#fb9f3a\"], [0.8888888888888888, \"#fdca26\"], [1.0, \"#f0f921\"]], \"type\": \"surface\"}], \"table\": [{\"cells\": {\"fill\": {\"color\": \"#EBF0F8\"}, \"line\": {\"color\": \"white\"}}, \"header\": {\"fill\": {\"color\": \"#C8D4E3\"}, \"line\": {\"color\": \"white\"}}, \"type\": \"table\"}]}, \"layout\": {\"annotationdefaults\": {\"arrowcolor\": \"#2a3f5f\", \"arrowhead\": 0, \"arrowwidth\": 1}, \"coloraxis\": {\"colorbar\": {\"outlinewidth\": 0, \"ticks\": \"\"}}, \"colorscale\": {\"diverging\": [[0, \"#8e0152\"], [0.1, \"#c51b7d\"], [0.2, \"#de77ae\"], [0.3, \"#f1b6da\"], [0.4, \"#fde0ef\"], [0.5, \"#f7f7f7\"], [0.6, \"#e6f5d0\"], [0.7, \"#b8e186\"], [0.8, \"#7fbc41\"], [0.9, \"#4d9221\"], [1, \"#276419\"]], \"sequential\": [[0.0, \"#0d0887\"], [0.1111111111111111, \"#46039f\"], [0.2222222222222222, \"#7201a8\"], [0.3333333333333333, \"#9c179e\"], [0.4444444444444444, \"#bd3786\"], [0.5555555555555556, \"#d8576b\"], [0.6666666666666666, \"#ed7953\"], [0.7777777777777778, \"#fb9f3a\"], [0.8888888888888888, \"#fdca26\"], [1.0, \"#f0f921\"]], \"sequentialminus\": [[0.0, \"#0d0887\"], [0.1111111111111111, \"#46039f\"], [0.2222222222222222, \"#7201a8\"], [0.3333333333333333, \"#9c179e\"], [0.4444444444444444, \"#bd3786\"], [0.5555555555555556, \"#d8576b\"], [0.6666666666666666, \"#ed7953\"], [0.7777777777777778, \"#fb9f3a\"], [0.8888888888888888, \"#fdca26\"], [1.0, \"#f0f921\"]]}, \"colorway\": [\"#636efa\", \"#EF553B\", \"#00cc96\", \"#ab63fa\", \"#FFA15A\", \"#19d3f3\", \"#FF6692\", \"#B6E880\", \"#FF97FF\", \"#FECB52\"], \"font\": {\"color\": \"#2a3f5f\"}, \"geo\": {\"bgcolor\": \"white\", \"lakecolor\": \"white\", \"landcolor\": \"#E5ECF6\", \"showlakes\": true, \"showland\": true, \"subunitcolor\": \"white\"}, \"hoverlabel\": {\"align\": \"left\"}, \"hovermode\": \"closest\", \"mapbox\": {\"style\": \"light\"}, \"paper_bgcolor\": \"white\", \"plot_bgcolor\": \"#E5ECF6\", \"polar\": {\"angularaxis\": {\"gridcolor\": \"white\", \"linecolor\": \"white\", \"ticks\": \"\"}, \"bgcolor\": \"#E5ECF6\", \"radialaxis\": {\"gridcolor\": \"white\", \"linecolor\": \"white\", \"ticks\": \"\"}}, \"scene\": {\"xaxis\": {\"backgroundcolor\": \"#E5ECF6\", \"gridcolor\": \"white\", \"gridwidth\": 2, \"linecolor\": \"white\", \"showbackground\": true, \"ticks\": \"\", \"zerolinecolor\": \"white\"}, \"yaxis\": {\"backgroundcolor\": \"#E5ECF6\", \"gridcolor\": \"white\", \"gridwidth\": 2, \"linecolor\": \"white\", \"showbackground\": true, \"ticks\": \"\", \"zerolinecolor\": \"white\"}, \"zaxis\": {\"backgroundcolor\": \"#E5ECF6\", \"gridcolor\": \"white\", \"gridwidth\": 2, \"linecolor\": \"white\", \"showbackground\": true, \"ticks\": \"\", \"zerolinecolor\": \"white\"}}, \"shapedefaults\": {\"line\": {\"color\": \"#2a3f5f\"}}, \"ternary\": {\"aaxis\": {\"gridcolor\": \"white\", \"linecolor\": \"white\", \"ticks\": \"\"}, \"baxis\": {\"gridcolor\": \"white\", \"linecolor\": \"white\", \"ticks\": \"\"}, \"bgcolor\": \"#E5ECF6\", \"caxis\": {\"gridcolor\": \"white\", \"linecolor\": \"white\", \"ticks\": \"\"}}, \"title\": {\"x\": 0.05}, \"xaxis\": {\"automargin\": true, \"gridcolor\": \"white\", \"linecolor\": \"white\", \"ticks\": \"\", \"title\": {\"standoff\": 15}, \"zerolinecolor\": \"white\", \"zerolinewidth\": 2}, \"yaxis\": {\"automargin\": true, \"gridcolor\": \"white\", \"linecolor\": \"white\", \"ticks\": \"\", \"title\": {\"standoff\": 15}, \"zerolinecolor\": \"white\", \"zerolinewidth\": 2}}}, \"title\": {\"text\": \"Runtime of Programs\"}, \"xaxis\": {\"anchor\": \"y\", \"domain\": [0.0, 1.0], \"title\": {\"text\": \"Runtime\"}}, \"yaxis\": {\"anchor\": \"x\", \"domain\": [0.0, 1.0], \"title\": {\"text\": \"count\"}}},\n",
              "                        {\"responsive\": true}\n",
              "                    ).then(function(){\n",
              "                            \n",
              "var gd = document.getElementById('bd450d08-7fb4-4c7c-b44c-92d20b468a74');\n",
              "var x = new MutationObserver(function (mutations, observer) {{\n",
              "        var display = window.getComputedStyle(gd).display;\n",
              "        if (!display || display === 'none') {{\n",
              "            console.log([gd, 'removed!']);\n",
              "            Plotly.purge(gd);\n",
              "            observer.disconnect();\n",
              "        }}\n",
              "}});\n",
              "\n",
              "// Listen for the removal of the full notebook cells\n",
              "var notebookContainer = gd.closest('#notebook-container');\n",
              "if (notebookContainer) {{\n",
              "    x.observe(notebookContainer, {childList: true});\n",
              "}}\n",
              "\n",
              "// Listen for the clearing of the current output cell\n",
              "var outputEl = gd.closest('.output');\n",
              "if (outputEl) {{\n",
              "    x.observe(outputEl, {childList: true});\n",
              "}}\n",
              "\n",
              "                        })\n",
              "                };\n",
              "                \n",
              "            </script>\n",
              "        </div>\n",
              "</body>\n",
              "</html>"
            ]
          },
          "metadata": {}
        }
      ]
    },
    {
      "cell_type": "code",
      "metadata": {
        "colab": {
          "base_uri": "https://localhost:8080/",
          "height": 542
        },
        "id": "DIYREzlSugEV",
        "outputId": "2b1e2f6d-ba72-40ee-f259-a45257d61162"
      },
      "source": [
        "fig = px.box(data_frame=df, x=\"Runtime\", hover_data=df[[\"Title\", \"Genre\"]])\n",
        "fig.update_traces(overwrite=True)\n",
        "\n",
        "fig.show()\n"
      ],
      "execution_count": 31,
      "outputs": [
        {
          "output_type": "display_data",
          "data": {
            "text/html": [
              "<html>\n",
              "<head><meta charset=\"utf-8\" /></head>\n",
              "<body>\n",
              "    <div>\n",
              "            <script src=\"https://cdnjs.cloudflare.com/ajax/libs/mathjax/2.7.5/MathJax.js?config=TeX-AMS-MML_SVG\"></script><script type=\"text/javascript\">if (window.MathJax) {MathJax.Hub.Config({SVG: {font: \"STIX-Web\"}});}</script>\n",
              "                <script type=\"text/javascript\">window.PlotlyConfig = {MathJaxConfig: 'local'};</script>\n",
              "        <script src=\"https://cdn.plot.ly/plotly-latest.min.js\"></script>    \n",
              "            <div id=\"d95d30b7-e1d5-489b-8dfa-80176db26dfd\" class=\"plotly-graph-div\" style=\"height:525px; width:100%;\"></div>\n",
              "            <script type=\"text/javascript\">\n",
              "                \n",
              "                    window.PLOTLYENV=window.PLOTLYENV || {};\n",
              "                    \n",
              "                if (document.getElementById(\"d95d30b7-e1d5-489b-8dfa-80176db26dfd\")) {\n",
              "                    Plotly.newPlot(\n",
              "                        'd95d30b7-e1d5-489b-8dfa-80176db26dfd',\n",
              "                        [{\"alignmentgroup\": \"True\", \"customdata\": [[\"Enter the Anime\", \"Documentary\"], [\"Dark Forces\", \"Thriller\"], [\"The App\", \"Science fiction/Drama\"], [\"The Open House\", \"Horror thriller\"], [\"Kaali Khuhi\", \"Mystery\"], [\"Drive\", \"Action\"], [\"Leyla Everlasting\", \"Comedy\"], [\"The Last Days of American Crime\", \"Heist film/Thriller\"], [\"Paradox\", \"Musical/Western/Fantasy\"], [\"Sardar Ka Grandson\", \"Comedy\"], [\"Searching for Sheela\", \"Documentary\"], [\"The Call\", \"Drama\"], [\"Whipped\", \"Romantic comedy\"], [\"All Because of You\", \"Action comedy\"], [\"Mercy\", \"Thriller\"], [\"After the Raid\", \"Documentary\"], [\"Ghost Stories\", \"Horror anthology\"], [\"The Last Thing He Wanted\", \"Political thriller\"], [\"What Happened to Mr. Cha?\", \"Comedy\"], [\"Death Note\", \"Horror thriller\"], [\"Hello Privilege. It's Me, Chelsea\", \"Documentary\"], [\"Secret Obsession\", \"Thriller\"], [\"Sextuplets\", \"Comedy\"], [\"The Girl on the Train\", \"Thriller\"], [\"Thunder Force\", \"Superhero-Comedy\"], [\"Fatal Affair\", \"Thriller\"], [\"Just Say Yes\", \"Romantic comedy\"], [\"Seriously Single\", \"Comedy\"], [\"The Misadventures of Hedi and Cokeman\", \"Comedy\"], [\"5 Star Christmas\", \"Comedy\"], [\"After Maria\", \"Documentary\"], [\"I Am the Pretty Thing That Lives in the House\", \"Horror\"], [\"Paris Is Us\", \"Romance drama\"], [\"Porta dos Fundos: The First Temptation of Christ\", \"Comedy\"], [\"Rattlesnake\", \"Horror\"], [\"The Players\", \"Comedy\"], [\"We Are One\", \"Documentary\"], [\"Finding Agnes\", \"Drama\"], [\"IO\", \"Science fiction/Drama\"], [\"Sentinelle\", \"Action\"], [\"Sol Levante\", \"Anime / Short\"], [\"The Binding\", \"Drama\"], [\"We Can Be Heroes\", \"Superhero\"], [\"Christmas Crossfire\", \"Thriller\"], [\"Coin Heist\", \"Heist\"], [\"Mrs. Serial Killer\", \"Thriller\"], [\"Nobody Sleeps in the Woods Tonight\", \"Horror\"], [\"Take the 10\", \"Comedy\"], [\"The Main Event\", \"Comedy\"], [\"The Ridiculous 6\", \"Western\"], [\"Earth and Blood\", \"Action\"], [\"Fearless\", \"Animation/Superhero\"], [\"Holiday Rush\", \"Family film\"], [\"The Day of the Lord\", \"Drama\"], [\"Airplane Mode\", \"Comedy\"], [\"How It Ends\", \"Action-thriller\"], [\"Love Like the Falling Rain\", \"Drama\"], [\"Rebirth\", \"Thriller\"], [\"Squared Love\", \"Romantic comedy\"], [\"Cadaver\", \"Horror\"], [\"Clinical\", \"Thriller\"], [\"Coffee & Kareem\", \"Action comedy\"], [\"Dude\", \"Teen comedy-drama\"], [\"Geez & Ann\", \"Romantic drama\"], [\"The Larva Island Movie\", \"Animation\"], [\"#REALITYHIGH\", \"Comedy\"], [\"American Factory: A Conversation with the Obamas \", \"Aftershow / Interview\"], [\"Desperados\", \"Romantic comedy\"], [\"Dolly Parton's Christmas on the Square\", \"Christmas musical\"], [\"Father of the Year\", \"Comedy\"], [\"Firebrand\", \"Drama\"], [\"Ghost Lab\", \"Horror\"], [\"Girlfriend's Day\", \"Comedy\"], [\"Handsome: A Netflix Mystery Movie\", \"Comedy\"], [\"Hubie Halloween\", \"Comedy\"], [\"Ibiza\", \"Comedy\"], [\"Rim of the World\", \"Science fiction adventure\"], [\"Sandy Wexler\", \"Comedy\"], [\"See You Yesterday\", \"Science fiction\"], [\"Still Laugh-In: The Stars Celebrate\", \"Variety show\"], [\"Strip Down, Rise Up\", \"Documentary\"], [\"Tall Girl\", \"Comedy-drama\"], [\"The Beast\", \"Drama\"], [\"The Week Of\", \"Comedy\"], [\"A Christmas Prince: The Royal Wedding\", \"Romantic comedy\"], [\"Back to School\", \"Comedy\"], [\"Dangerous Lies\", \"Thriller\"], [\"Gunjan Saxena: The Kargil Girl\", \"Drama\"], [\"Intuition\", \"Thriller\"], [\"The Most Assassinated Woman in the World\", \"Thriller\"], [\"Things Heard & Seen\", \"Horror\"], [\"To Each, Her Own\", \"Romantic comedy\"], [\"Who Would You Take to a Deserted Island?\", \"Drama\"], [\"XOXO\", \"Drama\"], [\"A Babysitter's Guide to Monster Hunting\", \"Comedy/Fantasy/Family\"], [\"A Christmas Prince: The Royal Baby\", \"Romantic comedy\"], [\"Despite Everything\", \"Comedy\"], [\"Dolly Kitty and Those Twinkling Stars\", \"Drama\"], [\"Freaks: You're One of Us\", \"Supernatural drama\"], [\"Game Over, Man!\", \"Action/Comedy\"], [\"Guilty\", \"Thriller\"], [\"In the Tall Grass\", \"Horror\"], [\"Madame Claude\", \"Drama\"], [\"Naked\", \"Comedy\"], [\"Outside the Wire\", \"Action/Science fiction\"], [\"The Princess Switch: Switched Again\", \"Romantic comedy\"], [\"Under the Riccione Sun\", \"Romantic teenage drama\"], [\"A Very Murray Christmas\", \"Comedy / Musical\"], [\"Been So Long\", \"Musical\"], [\"Dead Kids\", \"Thriller\"], [\"Get the Grift\", \"Comedy\"], [\"Ghosts of Sugar Land\", \"Documentary\"], [\"House Arrest\", \"Comedy\"], [\"Kevin Hart's Guide to Black History\", \"Variety show\"], [\"Love Wedding Repeat\", \"Romantic comedy\"], [\"Mute\", \"Science fiction/Mystery\"], [\"\\u00d2l\\u00f2t?r\\u00e9\", \"Crime drama\"], [\"Red Dot\", \"Thriller\"], [\"Ride or Die\", \"Psychological thriller drama\"], [\"Step Sisters\", \"Comedy\"], [\"The Cloverfield Paradox\", \"Science fiction\"], [\"The Knight Before Christmas\", \"Romantic comedy\"], [\"The Legacy of a Whitetail Deer Hunter\", \"Adventure/Comedy\"], [\"The Package\", \"Black comedy\"], [\"Unicorn Store\", \"Comedy\"], [\"Wine Country\", \"Comedy\"], [\"Bomb Scared\", \"Black comedy\"], [\"Brahman Naman\", \"Comedy\"], [\"Double Dad\", \"Comedy-drama\"], [\"Falling Inn Love\", \"Romantic comedy\"], [\"Hold the Dark\", \"Thriller\"], [\"Love, Guaranteed\", \"Romantic comedy\"], [\"One-Way to Tomorrow\", \"Romance\"], [\"Sarah Cooper: Everything's Fine\", \"Variety show\"], [\"The Last Laugh\", \"Comedy-drama\"], [\"The Last Paradiso\", \"Romantic drama\"], [\"The Midnight Sky\", \"Science fiction\"], [\"The Paramedic\", \"Thriller\"], [\"The Sleepover\", \"Comedy\"], [\"Vampires vs. the Bronx\", \"Horror comedy\"], [\"Why Did You Kill Me?\", \"Documentary\"], [\"A Week Away\", \"Christian musical\"], [\"Caught by a Wave\", \"Romantic teen drama\"], [\"Christmas Inheritance\", \"Romantic drama\"], [\"Dad Wanted\", \"Family\"], [\"El Camino Christmas\", \"Dark comedy\"], [\"Eli\", \"Horror\"], [\"Ginny Weds Sunny\", \"Romantic comedy\"], [\"Good Sam\", \"Drama\"], [\"Lionheart\", \"Comedy\"], [\"Little Evil\", \"Comedy horror\"], [\"One Take\", \"Documentary\"], [\"Out of Many, One\", \"Documentary\"], [\"Point Blank\", \"Action\"], [\"Prime Time\", \"Thriller\"], [\"The Do-Over\", \"Action comedy\"], [\"The Holiday Calendar\", \"Romantic comedy\"], [\"The Woman in the Window\", \"Psychological thriller\"], [\"The Wrong Missy\", \"Comedy\"], [\"Velvet Buzzsaw\", \"Thriller\"], [\"Yes Day\", \"Comedy\"], [\"15 August\", \"Comedy-drama\"], [\"A California Christmas\", \"Romantic comedy\"], [\"A Christmas Prince\", \"Romantic comedy\"], [\"All Day and a Night\", \"Drama\"], [\"American Son\", \"Drama\"], [\"Barry\", \"Biopic\"], [\"Candy Jar\", \"Comedy\"], [\"Choked: Paisa Bolta Hai\", \"Drama\"], [\"Class of '83\", \"Drama\"], [\"Extinction\", \"Science fiction/Thriller\"], [\"Happy Anniversary\", \"Romantic comedy\"], [\"I Am All Girls\", \"Thriller\"], [\"Let It Snow\", \"Romantic comedy\"], [\"Mascots\", \"Mockumentary\"], [\"Operation Christmas Drop\", \"Romantic comedy\"], [\"Rajma Chawal\", \"Comedy-drama\"], [\"Rich in Love\", \"Romantic comedy\"], [\"Rising High\", \"Satire\"], [\"Rodney King\", \"One-man show\"], [\"Sierra Burgess Is a Loser\", \"Romantic comedy-drama\"], [\"Small Crimes\", \"Dark comedy\"], [\"Special Correspondents\", \"Satire\"], [\"TAU\", \"Science fiction/Thriller\"], [\"The After Party\", \"Comedy\"], [\"The Babysitter: Killer Queen\", \"Comedy/Horror\"], [\"The Claus Family\", \"Fantasy\"], [\"The Kissing Booth 2\", \"Romantic comedy\"], [\"The Perfect Date\", \"Romantic comedy\"], [\"What We Wanted\", \"Drama\"], [\"You've Got This\", \"Romantic comedy\"], [\"6 Balloons\", \"Drama\"], [\"A Fall from Grace\", \"Thriller\"], [\"Amateur\", \"Sports-drama\"], [\"Army of the Dead\", \"Zombie/Heist\"], [\"Cam\", \"Psychological horror\"], [\"Earthquake Bird\", \"Mystery\"], [\"Frankenstein's Monster's Monster, Frankenstein\", \"Mockumentary\"], [\"Horse Girl\", \"Drama\"], [\"Notes from Dunblane: Lesson from a School Shooting\", \"Documentary\"], [\"Maska\", \"Romantic comedy\"], [\"The Decline\", \"Thriller\"], [\"The Minimalists: Less Is Now\", \"Documentary\"], [\"The Polka King\", \"Comedy-drama\"], [\"The Prom\", \"Musical\"], [\"True Memoirs of an International Assassin\", \"Action comedy\"], [\"Ultras\", \"Sports film\"], [\"Come Sunday\", \"Biopic\"], [\"Forgive Us Our Debts\", \"Drama\"], [\"iBoy\", \"Science fiction/Thriller\"], [\"Lovefucked\", \"Drama\"], [\"Juanita\", \"Drama\"], [\"Murder Mystery\", \"Comedy mystery\"], [\"Project Power\", \"Superhero\"], [\"Rebecca\", \"Romantic thriller\"], [\"The Christmas Chronicles: Part Two\", \"Christmas comedy\"], [\"The Kissing Booth\", \"Romantic comedy\"], [\"The Princess Switch\", \"Romantic comedy\"], [\"To All the Boys: P.S. I Still Love You\", \"Romantic comedy\"], [\"War Machine\", \"War-Comedy\"], [\"6 Underground\", \"Action\"], [\"Between Two Ferns: The Movie\", \"Comedy\"], [\"Burning Sands\", \"Drama\"], [\"Casting JonBenet\", \"Documentary\"], [\"Deidra & Laney Rob a Train\", \"Drama\"], [\"Finding 'Ohana\", \"Family\"], [\"Holidate\", \"Romantic comedy/Holiday\"], [\"Holiday in the Wild\", \"Adventure-romance\"], [\"Hot Girls Wanted\", \"Documentary\"], [\"Like Father\", \"Comedy\"], [\"Lost Girls\", \"Crime drama\"], [\"Otherhood\", \"Comedy\"], [\"Pee-wee's Big Holiday\", \"Adventure\"], [\"Rogue City\", \"Crime drama\"], [\"Sergio\", \"Biopic\"], [\"Stuck Apart\", \"Drama\"], [\"Tersanjung the Movie\", \"Drama\"], [\"The Killer\", \"Western\"], [\"The Lovebirds\", \"Romantic comedy\"], [\"The Most Hated Woman in America\", \"Biopic\"], [\"The Perfection\", \"Horror-thriller\"], [\"Tribhanga \\u0096 Tedhi Medhi Crazy\", \"Drama\"], [\"Unknown Origins\", \"Thriller\"], [\"Work It\", \"Dance comedy\"], [\"Alien Xmas\", \"Stop Motion\"], [\"Baggio: The Divine Ponytail\", \"Biopic\"], [\"Below Zero\", \"Drama\"], [\"Citation\", \"Drama\"], [\"Crazy Awesome Teachers\", \"Comedy-drama\"], [\"Have You Ever Seen Fireflies?\", \"Comedy\"], [\"High Flying Bird\", \"Sports-drama\"], [\"In the Shadow of the Moon\", \"Thriller\"], [\"Lost Bullet\", \"Thriller\"], [\"Octonauts & the Caves of Sac Actun\", \"Animation\"], [\"Offering to the Storm\", \"Thriller\"], [\"Roxanne Roxanne\", \"Biopic\"], [\"Someone Great\", \"Romantic comedy\"], [\"Spenser Confidential\", \"Action comedy\"], [\"The Land of Steady Habits\", \"Drama\"], [\"The Rachel Divide\", \"Documentary\"], [\"Voyuer \", \"Documentary\"], [\"Win It All\", \"Comedy\"], [\"1922\", \"Horror/Crime drama\"], [\"A Tale of Two Kitchens\", \"Documentary\"], [\"Alex Strangelove\", \"Romantic comedy\"], [\"Apostle\", \"Horror-thriller\"], [\"Benji\", \"Family film\"], [\"Bright\", \"Urban fantasy\"], [\"Cargo\", \"Drama/Horror\"], [\"Concrete Cowboy\", \"Drama\"], [\"Feel the Beat\", \"Family/Comedy-drama\"], [\"Get the Goat\", \"Comedy\"], [\"I Am Not an Easy Man\", \"Romantic comedy\"], [\"June & Kopi\", \"Drama\"], [\"Music Teacher\", \"Drama\"], [\"Nail Bomber: Manhunt\", \"Documentary\"], [\"Notes for My Son\", \"Drama\"], [\"Polar\", \"Action\"], [\"Porta dos Fundos: The Last Hangover\", \"Comedy\"], [\"Sand Castle\", \"War\"], [\"Shimmer Lake\", \"Crime thriller\"], [\"Spectral\", \"Science fiction/Action\"], [\"The Babysitter\", \"Teen comedy horror\"], [\"The Discovery\", \"Science fiction/Drama\"], [\"The Forest of Love\", \"Drama\"], [\"The Laundromat\", \"Comedy-drama\"], [\"The Legend of Cocaine Island\", \"Documentary\"], [\"The Outsider\", \"Crime drama\"], [\"Time to Hunt\", \"Thriller\"], [\"To All the Boys: Always and Forever\", \"Romantic comedy\"], [\"Travis Scott: Look Mom I Can Fly\", \"Documentary\"], [\"Uncorked\", \"Drama\"], [\"Anelka: Misunderstood\", \"Documentary\"], [\"Ariana Grande: Excuse Me, I Love You\", \"Concert Film\"], [\"ARQ\", \"Science fiction/Thriller\"], [\"Birders\", \"Documentary\"], [\"Como Ca\\u00eddo del Cielo\", \"Musical comedy\"], [\"First Match\", \"Sports-drama\"], [\"Fractured\", \"Thriller\"], [\"Irreplaceable You\", \"Drama\"], [\"Isi & Ossi\", \"Romantic comedy\"], [\"John Was Trying to Contact Aliens\", \"Documentary\"], [\"Layla Majnun\", \"Romantic drama\"], [\"Murder to Mercy: The Cyntoia Brown Story\", \"Documentary\"], [\"My Own Man\", \"Documentary\"], [\"Nappily Ever After\", \"Comedy-drama\"], [\"Over the Moon\", \"Animation/Musical/Adventure\"], [\"Street Flow\", \"Drama\"], [\"Strong Island\", \"Documentary\"], [\"Sturgill Simpson Presents: Sound & Fury\", \"Animation / Musicial\"], [\"Take Your Pills\", \"Documentary\"], [\"The Heartbreak Club\", \"Comedy-drama\"], [\"The Mars Generation\", \"Documentary\"], [\"The Occupant\", \"Thriller\"], [\"The Willoughbys\", \"Animation/Comedy/Adventure\"], [\"Triple Frontier\", \"Action-thriller\"], [\"Two Catalonias\", \"Documentary\"], [\"Walk. Ride. Rodeo.\", \"Drama\"], [\"Wheelman\", \"Action thriller\"], [\"When We First Met\", \"Romantic comedy\"], [\"A 3 Minute Hug\", \"Documentary\"], [\"All the Bright Places\", \"Romance\"], [\"All Together Now\", \"Drama\"], [\"Altered Carbon: Resleeved\", \"Anime/Science fiction\"], [\"Antoine Griezmann: The Making of a Legend\", \"Documentary\"], [\"Canvas \", \"Animation / Short\"], [\"Chadwick Boseman: Portrait of an Artist\", \"Documentary\"], [\"Chopsticks\", \"Comedy\"], [\"Da 5 Bloods\", \"War drama\"], [\"Dolly Parton: A MusiCares Tribute\", \"Documentary\"], [\"Eurovision Song Contest: The Story of Fire Saga\", \"Musical comedy\"], [\"Gerald's Game\", \"Horror thriller\"], [\"His House\", \"Thriller\"], [\"Jingle Jangle: A Christmas Journey\", \"Family/Christmas musical\"], [\"Life Overtakes Me\", \"Documentary\"], [\"Lust Stories\", \"Drama\"], [\"Monster\", \"Drama\"], [\"Mowgli: Legend of the Jungle\", \"Adventure\"], [\"Nobody Knows I'm Here\", \"Drama\"], [\"Nobody Speak: Trials of the Free Press\", \"Documentary\"], [\"Oxygen\", \"Science fiction thriller\"], [\"Set It Up\", \"Romantic comedy\"], [\"The Incredible Jessica James\", \"Comedy\"], [\"Tigertail\", \"Drama\"], [\"Tramps\", \"Romance\"], [\"What Did Jack Do?\", \"Drama / Short\"], [\"Bad Trip\", \"Hidden-camera prank comedy\"], [\"Bird Box\", \"Psychological thriller\"], [\"Bulbbul\", \"Horror\"], [\"Crazy About Her\", \"Romantic comedy\"], [\"Elisa & Marcela\", \"Romance\"], [\"I'll Sleep When I'm Dead\", \"Documentary\"], [\"I'm Thinking of Ending Things\", \"Psychological thriller\"], [\"It Takes a Lunatic\", \"Documentary\"], [\"Milestone\", \"Drama\"], [\"Recovery Boys\", \"Documentary\"], [\"ReMastered: Who Killed Jam Master Jay?\", \"Documentary\"], [\"Shawn Mendes: In Wonder\", \"Documentary\"], [\"Space Sweepers\", \"Science fiction\"], [\"The American Meme\", \"Documentary\"], [\"The Angel\", \"Spy thriller\"], [\"The Crimes That Bind\", \"Crime drama\"], [\"The Red Sea Diving Resort\", \"Spy thriller\"], [\"What Would Sophia Loren Do?\", \"Documentary\"], [\"A Whisker Away\", \"Anime/Fantasy\"], [\"Ajeeb Daastaans\", \"Drama\"], [\"Arlo the Alligator Boy\", \"Animated musical comedy\"], [\"Bikram: Yogi, Guru, Predator\", \"Documentary\"], [\"Blame!\", \"Anime/Science fiction\"], [\"Blue Miracle\", \"Drama\"], [\"CounterPunch \", \"Documentary\"], [\"Crack: Cocaine, Corruption & Conspiracy\", \"Documentary\"], [\"Extraction\", \"Action\"], [\"Giving Voice\", \"Documentary\"], [\"Hillbilly Elegy\", \"Drama\"], [\"Hope Frozen: A Quest to Live Twice\", \"Documentary\"], [\"Imperial Dreams\", \"Drama\"], [\"Just Another Christmas\", \"Comedy\"], [\"Little Miss Sumo\", \"Documentary\"], [\"Malcolm & Marie\", \"Romantic drama\"], [\"Michael Bolton's Big, Sexy, Valentine's Day Special\", \"Variety Show\"], [\"Moxie\", \"Drama\"], [\"Night in Paradise\", \"Drama\"], [\"Paper Lives\", \"Drama\"], [\"Parchis: The Documentary\", \"Documentary\"], [\"Tallulah\", \"Comedy-drama\"], [\"The Old Guard\", \"Superhero/Action\"], [\"Tony Robbins: I Am Not Your Guru\", \"Documentary\"], [\"Upstarts\", \"Drama\"], [\"22 July\", \"Drama\"], [\"7 a\\u00f1os\", \"Drama\"], [\"A Futile and Stupid Gesture\", \"Biographical/Comedy\"], [\"A Life of Speed: The Juan Manuel Fangio Story\", \"Documentary\"], [\"A Love Song for Latasha\", \"Documentary\"], [\"All in My Family\", \"Documentary\"], [\"Always Be My Maybe\", \"Romantic comedy\"], [\"Becoming\", \"Documentary\"], [\"Long Live Brij Mohan\", \"Comedy\"], [\"Calibre\", \"Thriller\"], [\"Death to 2020\", \"Comedy\"], [\"GIMS: On the Record\", \"Documentary\"], [\"Have a Good Trip: Adventures in Psychedelics\", \"Documentary\"], [\"Heroin(e) \", \"Documentary\"], [\"Mercury 13\", \"Documentary\"], [\"Saving Capitalism\", \"Documentary\"], [\"Serious Men\", \"Drama\"], [\"The Boys in the Band\", \"Drama\"], [\"The Boys in the Band: Something Personal\", \"Aftershow / Interview\"], [\"The Life Ahead\", \"Drama\"], [\"The Other Side of the Wind\", \"Drama\"], [\"The Trader\", \"Documentary\"], [\"To the Bone\", \"Drama\"], [\"Tony Parker: The Final Shot\", \"Documentary\"], [\"AK vs AK\", \"Thriller\"], [\"Amanda Knox\", \"Documentary\"], [\"Bigflo & Oil: Hip Hop Frenzy\", \"Documentary\"], [\"Biggie: I Got a Story to Tell\", \"Documentary\"], [\"Cops and Robbers\", \"Animation / Short\"], [\"I Don't Feel at Home in This World Anymore\", \"Drama\"], [\"Laerte-se\", \"Documentary\"], [\"Mank\", \"Biopic\"], [\"Our Souls at Night\", \"Romance\"], [\"Outlaw King\", \"Historical-epic\"], [\"Pagglait\", \"Comedy-drama\"], [\"ReMastered: Who Shot the Sheriff?\", \"Documentary\"], [\"Seeing Allred\", \"Documentary\"], [\"Spelling the Dream\", \"Documentary\"], [\"The Claudia Kishi Club\", \"Documentary\"], [\"The Half of It\", \"Romance\"], [\"The Highwaymen\", \"Crime drama\"], [\"The Lonely Island Presents: The Unauthorized Bash Brothers Experience\", \"Comedy / Musical\"], [\"The Meyerowitz Stories (New and Selected)\", \"Comedy-drama\"], [\"Feminists: What Were They Thinking?\", \"Documentary\"], [\"Gaga: Five Foot Two\", \"Documentary\"], [\"I'm No Longer Here: A Discussion with Guillermo del Toro and Alfonso Cuaron\", \"Aftershow / Interview\"], [\"Kingdom of Us\", \"Documentary\"], [\"Lorena, Light-Footed Woman\", \"Documentary\"], [\"Los Tigres del Norte at Folsom Prison\", \"Documentary\"], [\"Ma Rainey's Black Bottom\", \"Drama\"], [\"Ma Rainey's Black Bottom: A Legacy Brought to Screen\", \"Aftershow / Interview\"], [\"Operation Varsity Blues: The College Admissions Scandal\", \"Documentary\"], [\"Pele\", \"Documentary\"], [\"ReMastered: Devil at the Crossroads\", \"Documentary\"], [\"ReMastered: The Lion's Share\", \"Documentary\"], [\"ReMastered: The Miami Showband Massacre\", \"Documentary\"], [\"Resurface\", \"Documentary\"], [\"Rocko's Modern Life: Static Cling\", \"Animation / Comedy\"], [\"Rose Island\", \"Comedy\"], [\"The Christmas Chronicles\", \"Christmas/Fantasy/Adventure/Comedy\"], [\"The Dirt\", \"Biopic\"], [\"The Night Comes for Us\", \"Action-thriller\"], [\"13th: A Conversation with Oprah Winfrey & Ava DuVernay\", \"Aftershow / Interview\"], [\"Angela's Christmas\", \"Animation\"], [\"Angela's Christmas Wish\", \"Animation\"], [\"Beats\", \"Drama\"], [\"Circus of Books\", \"Documentary\"], [\"Dance Dreams: Hot Chocolate Nutcracker\", \"Documentary\"], [\"Derren Brown: Sacrifice\", \"Mentalism special\"], [\"El Pepe: A Supreme Life\", \"Documentary\"], [\"End Game\", \"Documentary\"], [\"Evelyn\", \"Documentary\"], [\"Ferry\", \"Crime drama\"], [\"Grass Is Greener\", \"Documentary\"], [\"Guillermo Vilas: Settling the Score\", \"Documentary\"], [\"Joshua: Teenager vs. Superpower\", \"Documentary\"], [\"Keith Richards: Under the Influence\", \"Documentary\"], [\"Knock Down the House\", \"Documentary\"], [\"Loudon Wainwright III: Surviving Twin\", \"One-man show\"], [\"My Beautiful Broken Brain\", \"Documentary\"], [\"One of Us\", \"Documentary\"], [\"Pieces of a Woman\", \"Drama\"], [\"Ram Dass, Going Home\", \"Documentary\"], [\"ReMastered: Tricky Dick & the Man in Black\", \"Documentary\"], [\"Rooting for Roona\", \"Documentary\"], [\"The Devil All the Time\", \"Psychological thriller\"], [\"The Dig\", \"Drama\"], [\"The Great Hack\", \"Documentary\"], [\"The White Tiger\", \"Drama\"], [\"To All the Boys I've Loved Before\", \"Romantic comedy\"], [\"American Murder: The Family Next Door\", \"Documentary\"], [\"Audrie & Daisy\", \"Documentary\"], [\"First They Killed My Father\", \"Drama\"], [\"Fyre: The Greatest Party That Never Happened\", \"Documentary\"], [\"Into the Inferno\", \"Documentary\"], [\"LA Originals\", \"Documentary\"], [\"Ladies First\", \"Documentary\"], [\"Love per Square Foot\", \"Romantic comedy\"], [\"Paddleton\", \"Drama-Comedy\"], [\"Private Life\", \"Drama\"], [\"Seventeen\", \"Coming-of-age comedy-drama\"], [\"Sometimes\", \"Drama\"], [\"Soni\", \"Crime drama\"], [\"The 40-Year-Old Version\", \"Comedy\"], [\"The Disciple\", \"Drama\"], [\"The Edge of Democracy\", \"Documentary\"], [\"The King\", \"Historical drama\"], [\"The Road to El Camino: A Breaking Bad Movie\", \"Making-of\"], [\"The Siege of Jadotville\", \"War\"], [\"Zion \", \"Documentary\"], [\"Dolemite Is My Name\", \"Biopic\"], [\"El Camino: A Breaking Bad Movie\", \"Crime drama\"], [\"Extremis\", \"Documentary\"], [\"Father Soldier Son\", \"Documentary\"], [\"Get Me Roger Stone\", \"Documentary\"], [\"I'm No Longer Here\", \"Drama\"], [\"Mucho Mucho Amor: The Legend of Walter Mercado \", \"Documentary\"], [\"Octonauts & the Great Barrier Reef\", \"Animation\"], [\"Okja\", \"Action-adventure\"], [\"On My Skin\", \"Crime drama\"], [\"Raat Akeli Hai\", \"Thriller\"], [\"ReMastered: Massacre at the Stadium\", \"Documentary\"], [\"ReMastered: The Two Killings of Sam Cooke\", \"Documentary\"], [\"Secrets of the Saqqara Tomb\", \"Documentary\"], [\"Sitara: Let Girls Dream\", \"Animation / Short\"], [\"Sky Ladder: The Art of Cai Guo-Qiang\", \"Documentary\"], [\"Team Foxcatcher\", \"Documentary\"], [\"The Ballad of Buster Scruggs\", \"Western\"], [\"The Death and Life of Marsha P. Johnson\", \"Documentary\"], [\"The Fundamentals of Caring\", \"Comedy-drama\"], [\"The Other One: The Long Strange Trip of Bob Weir\", \"Documentary\"], [\"American Factory\", \"Documentary\"], [\"Fire in Paradise\", \"Documentary\"], [\"Long Shot\", \"Documentary\"], [\"Miss Americana\", \"Documentary\"], [\"Period. End of Sentence.\", \"Documentary\"], [\"Shawn Mendes: Live in Concert\", \"Concert Film\"], [\"Shirkers\", \"Documentary\"], [\"The Black Godfather\", \"Documentary\"], [\"The Irishman: In Conversation\", \"Aftershow / Interview\"], [\"The Speed Cubers\", \"Documentary\"], [\"They'll Love Me When I'm Dead\", \"Documentary\"], [\"Tig\", \"Documentary\"], [\"Barbra: The Music, The Mem'ries, The Magic!\", \"Concert Film\"], [\"Blackpink: Light Up the Sky\", \"Documentary\"], [\"City of Joy\", \"Documentary\"], [\"Dick Johnson Is Dead\", \"Documentary\"], [\"Homecoming: A Film by Beyonce \", \"Documentary\"], [\"Invader Zim: Enter the Florpus\", \"Animation / Science Fiction\"], [\"Joan Didion: The Center Will Not Hold\", \"Documentary\"], [\"John Mulaney & the Sack Lunch Bunch\", \"Variety show\"], [\"Reversing Roe\", \"Documentary\"], [\"The White Helmets\", \"Documentary\"], [\"Athlete A\", \"Documentary\"], [\"Ludo\", \"Anthology/Dark comedy\"], [\"Quincy\", \"Documentary\"], [\"Rolling Thunder Revue: A bob Dylan Story by Martin Scorsere\", \"Documentary\"], [\"Tell Me Who I Am\", \"Documentary\"], [\"The Bleeding Edge\", \"Documentary\"], [\"The Social Dilemma\", \"Documentary\"], [\"The Two Popes\", \"Drama\"], [\"What Happened, Miss Simone?\", \"Documentary\"], [\"Yeh Ballet\", \"Drama\"], [\"Anima\", \"Musical / Short\"], [\"Beasts of No Nation\", \"War drama\"], [\"Brene Brown: The Call to Courage\", \"Documentary\"], [\"Crip Camp: A Disability Revolution\", \"Documentary\"], [\"Jim & Andy: The Great Beyond - Featuring a Very Special, Contractually Obligated Mention of Tony Cliffton \", \"Documentary\"], [\"Justin Timberlake + The Tennessee Kids\", \"Concert Film\"], [\"Road to Roma\", \"Making-of\"], [\"Roma\", \"Drama\"], [\"If Anything Happens I Love You\", \"Animation / Short\"], [\"The Irishman\", \"Crime drama\"], [\"The Trial of the Chicago 7\", \"Drama\"], [\"A Secret Love\", \"Documentary\"], [\"Icarus\", \"Documentary\"], [\"Marriage Story\", \"Drama\"], [\"The Ivory Game\", \"Documentary\"], [\"Struggle: The Life and Lost Art of Szukaiski\", \"Documentary\"], [\"Chasing Coral \", \"Documentary\"], [\"My Octopus Teacher\", \"Documentary\"], [\"Rising Phoenix\", \"Documentary\"], [\"13th\", \"Documentary\"], [\"Disclosure: Trans Lives on Screen\", \"Documentary\"], [\"Klaus\", \"Animation/Christmas/Comedy/Adventure\"], [\"Seaspiracy\", \"Documentary\"], [\"The Three Deaths of Marisela Escobedo\", \"Documentary\"], [\"Cuba and the Cameraman \", \"Documentary\"], [\"Dancing with the Birds\", \"Documentary\"], [\"Ben Platt: Live from Radio City Music Hall\", \"Concert Film\"], [\"Taylor Swift: Reputation Stadium Tour\", \"Concert Film\"], [\"Winter on Fire: Ukraine's Fight for Freedom\", \"Documentary\"], [\"Springsteen on Broadway\", \"One-man show\"], [\"Emicida: AmarElo - It's All For Yesterday\", \"Documentary\"], [\"David Attenborough: A Life on Our Planet\", \"Documentary\"]], \"hoverlabel\": {\"namelength\": 0}, \"hovertemplate\": \"Runtime=%{x}<br>Title=%{customdata[0]}<br>Genre=%{customdata[1]}\", \"legendgroup\": \"\", \"marker\": {\"color\": \"#636efa\"}, \"name\": \"\", \"notched\": false, \"offsetgroup\": \"\", \"orientation\": \"v\", \"showlegend\": false, \"type\": \"box\", \"x\": [58, 81, 79, 94, 90, 147, 112, 149, 73, 139, 58, 112, 97, 101, 90, 25, 144, 115, 102, 100, 64, 97, 99, 120, 105, 89, 97, 107, 99, 95, 37, 89, 83, 46, 85, 88, 86, 105, 95, 80, 4, 93, 100, 106, 97, 106, 103, 80, 101, 119, 80, 89, 94, 93, 96, 113, 86, 100, 102, 86, 104, 88, 97, 105, 90, 99, 10, 106, 98, 94, 112, 117, 70, 81, 103, 94, 98, 131, 87, 60, 112, 102, 99, 116, 92, 83, 97, 112, 116, 102, 121, 95, 93, 92, 98, 85, 78, 120, 92, 101, 119, 101, 112, 96, 114, 97, 101, 56, 100, 94, 94, 21, 104, 63, 100, 126, 106, 86, 142, 108, 102, 92, 83, 94, 92, 103, 89, 95, 103, 97, 125, 91, 90, 49, 98, 107, 118, 94, 103, 86, 83, 97, 99, 104, 102, 89, 98, 125, 89, 94, 94, 85, 34, 86, 91, 108, 95, 100, 90, 112, 86, 124, 107, 92, 121, 90, 104, 92, 114, 98, 95, 78, 107, 92, 95, 96, 118, 105, 94, 52, 105, 95, 100, 97, 89, 102, 96, 131, 89, 93, 111, 75, 120, 96, 148, 94, 107, 32, 104, 23, 111, 83, 53, 95, 132, 98, 108, 106, 104, 90, 106, 90, 97, 113, 123, 115, 105, 101, 102, 122, 128, 82, 102, 80, 94, 123, 104, 85, 84, 103, 95, 100, 89, 116, 118, 96, 114, 99, 87, 92, 90, 95, 96, 93, 42, 92, 106, 151, 101, 114, 90, 115, 92, 72, 139, 98, 92, 111, 98, 104, 95, 88, 102, 30, 99, 129, 87, 117, 104, 111, 107, 97, 98, 90, 101, 72, 83, 118, 44, 113, 86, 108, 85, 102, 151, 98, 87, 120, 134, 109, 85, 103, 94, 97, 88, 37, 112, 102, 100, 96, 113, 16, 119, 97, 81, 98, 95, 96, 107, 41, 87, 101, 97, 103, 90, 125, 116, 99, 82, 97, 28, 108, 93, 74, 60, 9, 21, 100, 155, 55, 123, 103, 93, 119, 40, 120, 98, 104, 91, 95, 101, 105, 83, 91, 83, 17, 86, 124, 94, 102, 118, 79, 134, 126, 98, 89, 58, 83, 136, 98, 114, 99, 130, 32, 104, 142, 92, 86, 106, 95, 91, 89, 117, 90, 117, 80, 87, 101, 19, 106, 54, 111, 132, 97, 106, 111, 124, 116, 112, 144, 76, 101, 92, 19, 39, 102, 89, 105, 101, 70, 96, 85, 39, 79, 73, 114, 121, 28, 95, 122, 23, 107, 98, 108, 92, 100, 97, 7, 96, 100, 132, 103, 121, 114, 57, 95, 83, 17, 105, 131, 30, 112, 86, 100, 14, 109, 28, 64, 94, 31, 99, 108, 48, 84, 70, 27, 45, 117, 104, 108, 121, 36, 30, 47, 110, 92, 80, 49, 73, 40, 96, 106, 97, 94, 78, 81, 87, 91, 91, 95, 126, 31, 58, 41, 138, 112, 114, 125, 99, 82, 98, 136, 97, 107, 92, 39, 133, 89, 124, 99, 101, 97, 124, 129, 121, 140, 13, 108, 11, 118, 121, 24, 100, 101, 105, 96, 47, 121, 100, 149, 64, 64, 114, 15, 79, 90, 132, 105, 97, 83, 110, 39, 40, 85, 26, 87, 97, 118, 23, 40, 98, 80, 108, 79, 74, 90, 137, 71, 98, 70, 99, 40, 104, 149, 124, 144, 85, 100, 94, 125, 84, 117, 15, 136, 76, 108, 94, 90, 72, 135, 12, 209, 130, 82, 120, 136, 112, 105, 89, 85, 106, 100, 107, 97, 89, 109, 114, 51, 85, 125, 91, 153, 89, 83], \"x0\": \" \", \"xaxis\": \"x\", \"y0\": \" \", \"yaxis\": \"y\"}],\n",
              "                        {\"boxmode\": \"group\", \"legend\": {\"tracegroupgap\": 0}, \"margin\": {\"t\": 60}, \"template\": {\"data\": {\"bar\": [{\"error_x\": {\"color\": \"#2a3f5f\"}, \"error_y\": {\"color\": \"#2a3f5f\"}, \"marker\": {\"line\": {\"color\": \"#E5ECF6\", \"width\": 0.5}}, \"type\": \"bar\"}], \"barpolar\": [{\"marker\": {\"line\": {\"color\": \"#E5ECF6\", \"width\": 0.5}}, \"type\": \"barpolar\"}], \"carpet\": [{\"aaxis\": {\"endlinecolor\": \"#2a3f5f\", \"gridcolor\": \"white\", \"linecolor\": \"white\", \"minorgridcolor\": \"white\", \"startlinecolor\": \"#2a3f5f\"}, \"baxis\": {\"endlinecolor\": \"#2a3f5f\", \"gridcolor\": \"white\", \"linecolor\": \"white\", \"minorgridcolor\": \"white\", \"startlinecolor\": \"#2a3f5f\"}, \"type\": \"carpet\"}], \"choropleth\": [{\"colorbar\": {\"outlinewidth\": 0, \"ticks\": \"\"}, \"type\": \"choropleth\"}], \"contour\": [{\"colorbar\": {\"outlinewidth\": 0, \"ticks\": \"\"}, \"colorscale\": [[0.0, \"#0d0887\"], [0.1111111111111111, \"#46039f\"], [0.2222222222222222, \"#7201a8\"], [0.3333333333333333, \"#9c179e\"], [0.4444444444444444, \"#bd3786\"], [0.5555555555555556, \"#d8576b\"], [0.6666666666666666, \"#ed7953\"], [0.7777777777777778, \"#fb9f3a\"], [0.8888888888888888, \"#fdca26\"], [1.0, \"#f0f921\"]], \"type\": \"contour\"}], \"contourcarpet\": [{\"colorbar\": {\"outlinewidth\": 0, \"ticks\": \"\"}, \"type\": \"contourcarpet\"}], \"heatmap\": [{\"colorbar\": {\"outlinewidth\": 0, \"ticks\": \"\"}, \"colorscale\": [[0.0, \"#0d0887\"], [0.1111111111111111, \"#46039f\"], [0.2222222222222222, \"#7201a8\"], [0.3333333333333333, \"#9c179e\"], [0.4444444444444444, \"#bd3786\"], [0.5555555555555556, \"#d8576b\"], [0.6666666666666666, \"#ed7953\"], [0.7777777777777778, \"#fb9f3a\"], [0.8888888888888888, \"#fdca26\"], [1.0, \"#f0f921\"]], \"type\": \"heatmap\"}], \"heatmapgl\": [{\"colorbar\": {\"outlinewidth\": 0, \"ticks\": \"\"}, \"colorscale\": [[0.0, \"#0d0887\"], [0.1111111111111111, \"#46039f\"], [0.2222222222222222, \"#7201a8\"], [0.3333333333333333, \"#9c179e\"], [0.4444444444444444, \"#bd3786\"], [0.5555555555555556, \"#d8576b\"], [0.6666666666666666, \"#ed7953\"], [0.7777777777777778, \"#fb9f3a\"], [0.8888888888888888, \"#fdca26\"], [1.0, \"#f0f921\"]], \"type\": \"heatmapgl\"}], \"histogram\": [{\"marker\": {\"colorbar\": {\"outlinewidth\": 0, \"ticks\": \"\"}}, \"type\": \"histogram\"}], \"histogram2d\": [{\"colorbar\": {\"outlinewidth\": 0, \"ticks\": \"\"}, \"colorscale\": [[0.0, \"#0d0887\"], [0.1111111111111111, \"#46039f\"], [0.2222222222222222, \"#7201a8\"], [0.3333333333333333, \"#9c179e\"], [0.4444444444444444, \"#bd3786\"], [0.5555555555555556, \"#d8576b\"], [0.6666666666666666, \"#ed7953\"], [0.7777777777777778, \"#fb9f3a\"], [0.8888888888888888, \"#fdca26\"], [1.0, \"#f0f921\"]], \"type\": \"histogram2d\"}], \"histogram2dcontour\": [{\"colorbar\": {\"outlinewidth\": 0, \"ticks\": \"\"}, \"colorscale\": [[0.0, \"#0d0887\"], [0.1111111111111111, \"#46039f\"], [0.2222222222222222, \"#7201a8\"], [0.3333333333333333, \"#9c179e\"], [0.4444444444444444, \"#bd3786\"], [0.5555555555555556, \"#d8576b\"], [0.6666666666666666, \"#ed7953\"], [0.7777777777777778, \"#fb9f3a\"], [0.8888888888888888, \"#fdca26\"], [1.0, \"#f0f921\"]], \"type\": \"histogram2dcontour\"}], \"mesh3d\": [{\"colorbar\": {\"outlinewidth\": 0, \"ticks\": \"\"}, \"type\": \"mesh3d\"}], \"parcoords\": [{\"line\": {\"colorbar\": {\"outlinewidth\": 0, \"ticks\": \"\"}}, \"type\": \"parcoords\"}], \"pie\": [{\"automargin\": true, \"type\": \"pie\"}], \"scatter\": [{\"marker\": {\"colorbar\": {\"outlinewidth\": 0, \"ticks\": \"\"}}, \"type\": \"scatter\"}], \"scatter3d\": [{\"line\": {\"colorbar\": {\"outlinewidth\": 0, \"ticks\": \"\"}}, \"marker\": {\"colorbar\": {\"outlinewidth\": 0, \"ticks\": \"\"}}, \"type\": \"scatter3d\"}], \"scattercarpet\": [{\"marker\": {\"colorbar\": {\"outlinewidth\": 0, \"ticks\": \"\"}}, \"type\": \"scattercarpet\"}], \"scattergeo\": [{\"marker\": {\"colorbar\": {\"outlinewidth\": 0, \"ticks\": \"\"}}, \"type\": \"scattergeo\"}], \"scattergl\": [{\"marker\": {\"colorbar\": {\"outlinewidth\": 0, \"ticks\": \"\"}}, \"type\": \"scattergl\"}], \"scattermapbox\": [{\"marker\": {\"colorbar\": {\"outlinewidth\": 0, \"ticks\": \"\"}}, \"type\": \"scattermapbox\"}], \"scatterpolar\": [{\"marker\": {\"colorbar\": {\"outlinewidth\": 0, \"ticks\": \"\"}}, \"type\": \"scatterpolar\"}], \"scatterpolargl\": [{\"marker\": {\"colorbar\": {\"outlinewidth\": 0, \"ticks\": \"\"}}, \"type\": \"scatterpolargl\"}], \"scatterternary\": [{\"marker\": {\"colorbar\": {\"outlinewidth\": 0, \"ticks\": \"\"}}, \"type\": \"scatterternary\"}], \"surface\": [{\"colorbar\": {\"outlinewidth\": 0, \"ticks\": \"\"}, \"colorscale\": [[0.0, \"#0d0887\"], [0.1111111111111111, \"#46039f\"], [0.2222222222222222, \"#7201a8\"], [0.3333333333333333, \"#9c179e\"], [0.4444444444444444, \"#bd3786\"], [0.5555555555555556, \"#d8576b\"], [0.6666666666666666, \"#ed7953\"], [0.7777777777777778, \"#fb9f3a\"], [0.8888888888888888, \"#fdca26\"], [1.0, \"#f0f921\"]], \"type\": \"surface\"}], \"table\": [{\"cells\": {\"fill\": {\"color\": \"#EBF0F8\"}, \"line\": {\"color\": \"white\"}}, \"header\": {\"fill\": {\"color\": \"#C8D4E3\"}, \"line\": {\"color\": \"white\"}}, \"type\": \"table\"}]}, \"layout\": {\"annotationdefaults\": {\"arrowcolor\": \"#2a3f5f\", \"arrowhead\": 0, \"arrowwidth\": 1}, \"coloraxis\": {\"colorbar\": {\"outlinewidth\": 0, \"ticks\": \"\"}}, \"colorscale\": {\"diverging\": [[0, \"#8e0152\"], [0.1, \"#c51b7d\"], [0.2, \"#de77ae\"], [0.3, \"#f1b6da\"], [0.4, \"#fde0ef\"], [0.5, \"#f7f7f7\"], [0.6, \"#e6f5d0\"], [0.7, \"#b8e186\"], [0.8, \"#7fbc41\"], [0.9, \"#4d9221\"], [1, \"#276419\"]], \"sequential\": [[0.0, \"#0d0887\"], [0.1111111111111111, \"#46039f\"], [0.2222222222222222, \"#7201a8\"], [0.3333333333333333, \"#9c179e\"], [0.4444444444444444, \"#bd3786\"], [0.5555555555555556, \"#d8576b\"], [0.6666666666666666, \"#ed7953\"], [0.7777777777777778, \"#fb9f3a\"], [0.8888888888888888, \"#fdca26\"], [1.0, \"#f0f921\"]], \"sequentialminus\": [[0.0, \"#0d0887\"], [0.1111111111111111, \"#46039f\"], [0.2222222222222222, \"#7201a8\"], [0.3333333333333333, \"#9c179e\"], [0.4444444444444444, \"#bd3786\"], [0.5555555555555556, \"#d8576b\"], [0.6666666666666666, \"#ed7953\"], [0.7777777777777778, \"#fb9f3a\"], [0.8888888888888888, \"#fdca26\"], [1.0, \"#f0f921\"]]}, \"colorway\": [\"#636efa\", \"#EF553B\", \"#00cc96\", \"#ab63fa\", \"#FFA15A\", \"#19d3f3\", \"#FF6692\", \"#B6E880\", \"#FF97FF\", \"#FECB52\"], \"font\": {\"color\": \"#2a3f5f\"}, \"geo\": {\"bgcolor\": \"white\", \"lakecolor\": \"white\", \"landcolor\": \"#E5ECF6\", \"showlakes\": true, \"showland\": true, \"subunitcolor\": \"white\"}, \"hoverlabel\": {\"align\": \"left\"}, \"hovermode\": \"closest\", \"mapbox\": {\"style\": \"light\"}, \"paper_bgcolor\": \"white\", \"plot_bgcolor\": \"#E5ECF6\", \"polar\": {\"angularaxis\": {\"gridcolor\": \"white\", \"linecolor\": \"white\", \"ticks\": \"\"}, \"bgcolor\": \"#E5ECF6\", \"radialaxis\": {\"gridcolor\": \"white\", \"linecolor\": \"white\", \"ticks\": \"\"}}, \"scene\": {\"xaxis\": {\"backgroundcolor\": \"#E5ECF6\", \"gridcolor\": \"white\", \"gridwidth\": 2, \"linecolor\": \"white\", \"showbackground\": true, \"ticks\": \"\", \"zerolinecolor\": \"white\"}, \"yaxis\": {\"backgroundcolor\": \"#E5ECF6\", \"gridcolor\": \"white\", \"gridwidth\": 2, \"linecolor\": \"white\", \"showbackground\": true, \"ticks\": \"\", \"zerolinecolor\": \"white\"}, \"zaxis\": {\"backgroundcolor\": \"#E5ECF6\", \"gridcolor\": \"white\", \"gridwidth\": 2, \"linecolor\": \"white\", \"showbackground\": true, \"ticks\": \"\", \"zerolinecolor\": \"white\"}}, \"shapedefaults\": {\"line\": {\"color\": \"#2a3f5f\"}}, \"ternary\": {\"aaxis\": {\"gridcolor\": \"white\", \"linecolor\": \"white\", \"ticks\": \"\"}, \"baxis\": {\"gridcolor\": \"white\", \"linecolor\": \"white\", \"ticks\": \"\"}, \"bgcolor\": \"#E5ECF6\", \"caxis\": {\"gridcolor\": \"white\", \"linecolor\": \"white\", \"ticks\": \"\"}}, \"title\": {\"x\": 0.05}, \"xaxis\": {\"automargin\": true, \"gridcolor\": \"white\", \"linecolor\": \"white\", \"ticks\": \"\", \"title\": {\"standoff\": 15}, \"zerolinecolor\": \"white\", \"zerolinewidth\": 2}, \"yaxis\": {\"automargin\": true, \"gridcolor\": \"white\", \"linecolor\": \"white\", \"ticks\": \"\", \"title\": {\"standoff\": 15}, \"zerolinecolor\": \"white\", \"zerolinewidth\": 2}}}, \"xaxis\": {\"anchor\": \"y\", \"domain\": [0.0, 1.0], \"title\": {\"text\": \"Runtime\"}}, \"yaxis\": {\"anchor\": \"x\", \"domain\": [0.0, 1.0]}},\n",
              "                        {\"responsive\": true}\n",
              "                    ).then(function(){\n",
              "                            \n",
              "var gd = document.getElementById('d95d30b7-e1d5-489b-8dfa-80176db26dfd');\n",
              "var x = new MutationObserver(function (mutations, observer) {{\n",
              "        var display = window.getComputedStyle(gd).display;\n",
              "        if (!display || display === 'none') {{\n",
              "            console.log([gd, 'removed!']);\n",
              "            Plotly.purge(gd);\n",
              "            observer.disconnect();\n",
              "        }}\n",
              "}});\n",
              "\n",
              "// Listen for the removal of the full notebook cells\n",
              "var notebookContainer = gd.closest('#notebook-container');\n",
              "if (notebookContainer) {{\n",
              "    x.observe(notebookContainer, {childList: true});\n",
              "}}\n",
              "\n",
              "// Listen for the clearing of the current output cell\n",
              "var outputEl = gd.closest('.output');\n",
              "if (outputEl) {{\n",
              "    x.observe(outputEl, {childList: true});\n",
              "}}\n",
              "\n",
              "                        })\n",
              "                };\n",
              "                \n",
              "            </script>\n",
              "        </div>\n",
              "</body>\n",
              "</html>"
            ]
          },
          "metadata": {}
        }
      ]
    },
    {
      "cell_type": "code",
      "metadata": {
        "colab": {
          "base_uri": "https://localhost:8080/"
        },
        "id": "dL3-zz6Yu2P3",
        "outputId": "5c554812-a3a9-422d-e3a8-ba43ed8fdad3"
      },
      "source": [
        "df[df.Runtime == df.Runtime.max()][\"Title\"]"
      ],
      "execution_count": 32,
      "outputs": [
        {
          "output_type": "execute_result",
          "data": {
            "text/plain": [
              "561    The Irishman\n",
              "Name: Title, dtype: object"
            ]
          },
          "metadata": {},
          "execution_count": 32
        }
      ]
    },
    {
      "cell_type": "code",
      "metadata": {
        "colab": {
          "base_uri": "https://localhost:8080/"
        },
        "id": "zRpeH2mPwNQp",
        "outputId": "40cee83c-c4ef-4a74-96c1-f72bb28cbb88"
      },
      "source": [
        "df[df.Runtime == df.Runtime.min()][\"Title\"]"
      ],
      "execution_count": 33,
      "outputs": [
        {
          "output_type": "execute_result",
          "data": {
            "text/plain": [
              "40    Sol Levante\n",
              "Name: Title, dtype: object"
            ]
          },
          "metadata": {},
          "execution_count": 33
        }
      ]
    },
    {
      "cell_type": "code",
      "metadata": {
        "id": "VXEoUcsawVAS"
      },
      "source": [
        "#imdb scores"
      ],
      "execution_count": 34,
      "outputs": []
    },
    {
      "cell_type": "code",
      "metadata": {
        "colab": {
          "base_uri": "https://localhost:8080/"
        },
        "id": "_yDYnym9wef1",
        "outputId": "27515202-f8aa-4922-e7e2-92a0c11522c5"
      },
      "source": [
        "df[\"IMDB Score\"].describe()"
      ],
      "execution_count": 35,
      "outputs": [
        {
          "output_type": "execute_result",
          "data": {
            "text/plain": [
              "count    584.000000\n",
              "mean       6.271747\n",
              "std        0.979256\n",
              "min        2.500000\n",
              "25%        5.700000\n",
              "50%        6.350000\n",
              "75%        7.000000\n",
              "max        9.000000\n",
              "Name: IMDB Score, dtype: float64"
            ]
          },
          "metadata": {},
          "execution_count": 35
        }
      ]
    },
    {
      "cell_type": "code",
      "metadata": {
        "colab": {
          "base_uri": "https://localhost:8080/",
          "height": 542
        },
        "id": "tMj9uTJbwjz3",
        "outputId": "84a847c4-c3f5-49f5-f73d-c0c6b3f3c916"
      },
      "source": [
        "fig = px.histogram(data_frame=df, x=df[\"IMDB Score\"], title=\"IMDB Scores of the Programs\")\n",
        "\n",
        "fig.show()"
      ],
      "execution_count": 36,
      "outputs": [
        {
          "output_type": "display_data",
          "data": {
            "text/html": [
              "<html>\n",
              "<head><meta charset=\"utf-8\" /></head>\n",
              "<body>\n",
              "    <div>\n",
              "            <script src=\"https://cdnjs.cloudflare.com/ajax/libs/mathjax/2.7.5/MathJax.js?config=TeX-AMS-MML_SVG\"></script><script type=\"text/javascript\">if (window.MathJax) {MathJax.Hub.Config({SVG: {font: \"STIX-Web\"}});}</script>\n",
              "                <script type=\"text/javascript\">window.PlotlyConfig = {MathJaxConfig: 'local'};</script>\n",
              "        <script src=\"https://cdn.plot.ly/plotly-latest.min.js\"></script>    \n",
              "            <div id=\"2db1b8a5-876d-4044-a083-48e681b32e86\" class=\"plotly-graph-div\" style=\"height:525px; width:100%;\"></div>\n",
              "            <script type=\"text/javascript\">\n",
              "                \n",
              "                    window.PLOTLYENV=window.PLOTLYENV || {};\n",
              "                    \n",
              "                if (document.getElementById(\"2db1b8a5-876d-4044-a083-48e681b32e86\")) {\n",
              "                    Plotly.newPlot(\n",
              "                        '2db1b8a5-876d-4044-a083-48e681b32e86',\n",
              "                        [{\"alignmentgroup\": \"True\", \"bingroup\": \"x\", \"hoverlabel\": {\"namelength\": 0}, \"hovertemplate\": \"IMDB Score=%{x}<br>count=%{y}\", \"legendgroup\": \"\", \"marker\": {\"color\": \"#636efa\"}, \"name\": \"\", \"offsetgroup\": \"\", \"orientation\": \"v\", \"showlegend\": false, \"type\": \"histogram\", \"x\": [2.5, 2.6, 2.6, 3.2, 3.4, 3.5, 3.7, 3.7, 3.9, 4.1, 4.1, 4.1, 4.1, 4.2, 4.2, 4.3, 4.3, 4.3, 4.3, 4.4, 4.4, 4.4, 4.4, 4.4, 4.4, 4.5, 4.5, 4.5, 4.5, 4.6, 4.6, 4.6, 4.6, 4.6, 4.6, 4.6, 4.6, 4.7, 4.7, 4.7, 4.7, 4.7, 4.7, 4.8, 4.8, 4.8, 4.8, 4.8, 4.8, 4.8, 4.9, 4.9, 4.9, 4.9, 5.0, 5.0, 5.0, 5.0, 5.0, 5.1, 5.1, 5.1, 5.1, 5.1, 5.1, 5.2, 5.2, 5.2, 5.2, 5.2, 5.2, 5.2, 5.2, 5.2, 5.2, 5.2, 5.2, 5.2, 5.2, 5.2, 5.2, 5.2, 5.2, 5.2, 5.3, 5.3, 5.3, 5.3, 5.3, 5.3, 5.3, 5.3, 5.3, 5.3, 5.4, 5.4, 5.4, 5.4, 5.4, 5.4, 5.4, 5.4, 5.4, 5.4, 5.4, 5.4, 5.4, 5.5, 5.5, 5.5, 5.5, 5.5, 5.5, 5.5, 5.5, 5.5, 5.5, 5.5, 5.5, 5.5, 5.5, 5.5, 5.5, 5.5, 5.5, 5.5, 5.6, 5.6, 5.6, 5.6, 5.6, 5.6, 5.6, 5.6, 5.6, 5.6, 5.6, 5.6, 5.6, 5.6, 5.6, 5.7, 5.7, 5.7, 5.7, 5.7, 5.7, 5.7, 5.7, 5.7, 5.7, 5.7, 5.7, 5.7, 5.7, 5.7, 5.7, 5.7, 5.7, 5.7, 5.7, 5.8, 5.8, 5.8, 5.8, 5.8, 5.8, 5.8, 5.8, 5.8, 5.8, 5.8, 5.8, 5.8, 5.8, 5.8, 5.8, 5.8, 5.8, 5.8, 5.8, 5.8, 5.8, 5.8, 5.8, 5.8, 5.8, 5.8, 5.8, 5.8, 5.8, 5.9, 5.9, 5.9, 5.9, 5.9, 5.9, 5.9, 5.9, 5.9, 5.9, 5.9, 5.9, 5.9, 5.9, 5.9, 5.9, 6.0, 6.0, 6.0, 6.0, 6.0, 6.0, 6.0, 6.0, 6.0, 6.0, 6.0, 6.0, 6.0, 6.1, 6.1, 6.1, 6.1, 6.1, 6.1, 6.1, 6.1, 6.1, 6.1, 6.1, 6.1, 6.1, 6.1, 6.1, 6.1, 6.1, 6.1, 6.1, 6.1, 6.1, 6.1, 6.1, 6.1, 6.2, 6.2, 6.2, 6.2, 6.2, 6.2, 6.2, 6.2, 6.2, 6.2, 6.2, 6.2, 6.2, 6.2, 6.2, 6.2, 6.2, 6.2, 6.3, 6.3, 6.3, 6.3, 6.3, 6.3, 6.3, 6.3, 6.3, 6.3, 6.3, 6.3, 6.3, 6.3, 6.3, 6.3, 6.3, 6.3, 6.3, 6.3, 6.3, 6.3, 6.3, 6.3, 6.3, 6.3, 6.3, 6.3, 6.3, 6.3, 6.4, 6.4, 6.4, 6.4, 6.4, 6.4, 6.4, 6.4, 6.4, 6.4, 6.4, 6.4, 6.4, 6.4, 6.4, 6.4, 6.4, 6.4, 6.4, 6.4, 6.4, 6.4, 6.4, 6.4, 6.4, 6.4, 6.4, 6.4, 6.5, 6.5, 6.5, 6.5, 6.5, 6.5, 6.5, 6.5, 6.5, 6.5, 6.5, 6.5, 6.5, 6.5, 6.5, 6.5, 6.5, 6.5, 6.5, 6.5, 6.5, 6.5, 6.5, 6.5, 6.5, 6.5, 6.6, 6.6, 6.6, 6.6, 6.6, 6.6, 6.6, 6.6, 6.6, 6.6, 6.6, 6.6, 6.6, 6.6, 6.6, 6.6, 6.6, 6.6, 6.7, 6.7, 6.7, 6.7, 6.7, 6.7, 6.7, 6.7, 6.7, 6.7, 6.7, 6.7, 6.7, 6.7, 6.7, 6.7, 6.7, 6.7, 6.7, 6.7, 6.7, 6.7, 6.7, 6.7, 6.7, 6.8, 6.8, 6.8, 6.8, 6.8, 6.8, 6.8, 6.8, 6.8, 6.8, 6.8, 6.8, 6.8, 6.8, 6.8, 6.8, 6.8, 6.8, 6.8, 6.8, 6.8, 6.8, 6.8, 6.8, 6.9, 6.9, 6.9, 6.9, 6.9, 6.9, 6.9, 6.9, 6.9, 6.9, 6.9, 6.9, 6.9, 6.9, 6.9, 6.9, 6.9, 6.9, 6.9, 7.0, 7.0, 7.0, 7.0, 7.0, 7.0, 7.0, 7.0, 7.0, 7.0, 7.0, 7.0, 7.0, 7.0, 7.0, 7.0, 7.0, 7.0, 7.0, 7.1, 7.1, 7.1, 7.1, 7.1, 7.1, 7.1, 7.1, 7.1, 7.1, 7.1, 7.1, 7.1, 7.1, 7.1, 7.1, 7.1, 7.1, 7.1, 7.1, 7.1, 7.1, 7.1, 7.1, 7.1, 7.1, 7.1, 7.1, 7.2, 7.2, 7.2, 7.2, 7.2, 7.2, 7.2, 7.2, 7.2, 7.2, 7.2, 7.2, 7.2, 7.2, 7.2, 7.2, 7.2, 7.2, 7.2, 7.2, 7.3, 7.3, 7.3, 7.3, 7.3, 7.3, 7.3, 7.3, 7.3, 7.3, 7.3, 7.3, 7.3, 7.3, 7.3, 7.3, 7.3, 7.3, 7.3, 7.3, 7.3, 7.4, 7.4, 7.4, 7.4, 7.4, 7.4, 7.4, 7.4, 7.4, 7.4, 7.4, 7.4, 7.5, 7.5, 7.5, 7.5, 7.5, 7.5, 7.5, 7.5, 7.5, 7.5, 7.6, 7.6, 7.6, 7.6, 7.6, 7.6, 7.6, 7.6, 7.6, 7.6, 7.7, 7.7, 7.7, 7.7, 7.7, 7.7, 7.7, 7.7, 7.8, 7.8, 7.8, 7.9, 7.9, 7.9, 7.9, 8.0, 8.1, 8.1, 8.1, 8.2, 8.2, 8.2, 8.2, 8.2, 8.3, 8.3, 8.4, 8.4, 8.4, 8.5, 8.6, 9.0], \"xaxis\": \"x\", \"yaxis\": \"y\"}],\n",
              "                        {\"barmode\": \"relative\", \"legend\": {\"tracegroupgap\": 0}, \"template\": {\"data\": {\"bar\": [{\"error_x\": {\"color\": \"#2a3f5f\"}, \"error_y\": {\"color\": \"#2a3f5f\"}, \"marker\": {\"line\": {\"color\": \"#E5ECF6\", \"width\": 0.5}}, \"type\": \"bar\"}], \"barpolar\": [{\"marker\": {\"line\": {\"color\": \"#E5ECF6\", \"width\": 0.5}}, \"type\": \"barpolar\"}], \"carpet\": [{\"aaxis\": {\"endlinecolor\": \"#2a3f5f\", \"gridcolor\": \"white\", \"linecolor\": \"white\", \"minorgridcolor\": \"white\", \"startlinecolor\": \"#2a3f5f\"}, \"baxis\": {\"endlinecolor\": \"#2a3f5f\", \"gridcolor\": \"white\", \"linecolor\": \"white\", \"minorgridcolor\": \"white\", \"startlinecolor\": \"#2a3f5f\"}, \"type\": \"carpet\"}], \"choropleth\": [{\"colorbar\": {\"outlinewidth\": 0, \"ticks\": \"\"}, \"type\": \"choropleth\"}], \"contour\": [{\"colorbar\": {\"outlinewidth\": 0, \"ticks\": \"\"}, \"colorscale\": [[0.0, \"#0d0887\"], [0.1111111111111111, \"#46039f\"], [0.2222222222222222, \"#7201a8\"], [0.3333333333333333, \"#9c179e\"], [0.4444444444444444, \"#bd3786\"], [0.5555555555555556, \"#d8576b\"], [0.6666666666666666, \"#ed7953\"], [0.7777777777777778, \"#fb9f3a\"], [0.8888888888888888, \"#fdca26\"], [1.0, \"#f0f921\"]], \"type\": \"contour\"}], \"contourcarpet\": [{\"colorbar\": {\"outlinewidth\": 0, \"ticks\": \"\"}, \"type\": \"contourcarpet\"}], \"heatmap\": [{\"colorbar\": {\"outlinewidth\": 0, \"ticks\": \"\"}, \"colorscale\": [[0.0, \"#0d0887\"], [0.1111111111111111, \"#46039f\"], [0.2222222222222222, \"#7201a8\"], [0.3333333333333333, \"#9c179e\"], [0.4444444444444444, \"#bd3786\"], [0.5555555555555556, \"#d8576b\"], [0.6666666666666666, \"#ed7953\"], [0.7777777777777778, \"#fb9f3a\"], [0.8888888888888888, \"#fdca26\"], [1.0, \"#f0f921\"]], \"type\": \"heatmap\"}], \"heatmapgl\": [{\"colorbar\": {\"outlinewidth\": 0, \"ticks\": \"\"}, \"colorscale\": [[0.0, \"#0d0887\"], [0.1111111111111111, \"#46039f\"], [0.2222222222222222, \"#7201a8\"], [0.3333333333333333, \"#9c179e\"], [0.4444444444444444, \"#bd3786\"], [0.5555555555555556, \"#d8576b\"], [0.6666666666666666, \"#ed7953\"], [0.7777777777777778, \"#fb9f3a\"], [0.8888888888888888, \"#fdca26\"], [1.0, \"#f0f921\"]], \"type\": \"heatmapgl\"}], \"histogram\": [{\"marker\": {\"colorbar\": {\"outlinewidth\": 0, \"ticks\": \"\"}}, \"type\": \"histogram\"}], \"histogram2d\": [{\"colorbar\": {\"outlinewidth\": 0, \"ticks\": \"\"}, \"colorscale\": [[0.0, \"#0d0887\"], [0.1111111111111111, \"#46039f\"], [0.2222222222222222, \"#7201a8\"], [0.3333333333333333, \"#9c179e\"], [0.4444444444444444, \"#bd3786\"], [0.5555555555555556, \"#d8576b\"], [0.6666666666666666, \"#ed7953\"], [0.7777777777777778, \"#fb9f3a\"], [0.8888888888888888, \"#fdca26\"], [1.0, \"#f0f921\"]], \"type\": \"histogram2d\"}], \"histogram2dcontour\": [{\"colorbar\": {\"outlinewidth\": 0, \"ticks\": \"\"}, \"colorscale\": [[0.0, \"#0d0887\"], [0.1111111111111111, \"#46039f\"], [0.2222222222222222, \"#7201a8\"], [0.3333333333333333, \"#9c179e\"], [0.4444444444444444, \"#bd3786\"], [0.5555555555555556, \"#d8576b\"], [0.6666666666666666, \"#ed7953\"], [0.7777777777777778, \"#fb9f3a\"], [0.8888888888888888, \"#fdca26\"], [1.0, \"#f0f921\"]], \"type\": \"histogram2dcontour\"}], \"mesh3d\": [{\"colorbar\": {\"outlinewidth\": 0, \"ticks\": \"\"}, \"type\": \"mesh3d\"}], \"parcoords\": [{\"line\": {\"colorbar\": {\"outlinewidth\": 0, \"ticks\": \"\"}}, \"type\": \"parcoords\"}], \"pie\": [{\"automargin\": true, \"type\": \"pie\"}], \"scatter\": [{\"marker\": {\"colorbar\": {\"outlinewidth\": 0, \"ticks\": \"\"}}, \"type\": \"scatter\"}], \"scatter3d\": [{\"line\": {\"colorbar\": {\"outlinewidth\": 0, \"ticks\": \"\"}}, \"marker\": {\"colorbar\": {\"outlinewidth\": 0, \"ticks\": \"\"}}, \"type\": \"scatter3d\"}], \"scattercarpet\": [{\"marker\": {\"colorbar\": {\"outlinewidth\": 0, \"ticks\": \"\"}}, \"type\": \"scattercarpet\"}], \"scattergeo\": [{\"marker\": {\"colorbar\": {\"outlinewidth\": 0, \"ticks\": \"\"}}, \"type\": \"scattergeo\"}], \"scattergl\": [{\"marker\": {\"colorbar\": {\"outlinewidth\": 0, \"ticks\": \"\"}}, \"type\": \"scattergl\"}], \"scattermapbox\": [{\"marker\": {\"colorbar\": {\"outlinewidth\": 0, \"ticks\": \"\"}}, \"type\": \"scattermapbox\"}], \"scatterpolar\": [{\"marker\": {\"colorbar\": {\"outlinewidth\": 0, \"ticks\": \"\"}}, \"type\": \"scatterpolar\"}], \"scatterpolargl\": [{\"marker\": {\"colorbar\": {\"outlinewidth\": 0, \"ticks\": \"\"}}, \"type\": \"scatterpolargl\"}], \"scatterternary\": [{\"marker\": {\"colorbar\": {\"outlinewidth\": 0, \"ticks\": \"\"}}, \"type\": \"scatterternary\"}], \"surface\": [{\"colorbar\": {\"outlinewidth\": 0, \"ticks\": \"\"}, \"colorscale\": [[0.0, \"#0d0887\"], [0.1111111111111111, \"#46039f\"], [0.2222222222222222, \"#7201a8\"], [0.3333333333333333, \"#9c179e\"], [0.4444444444444444, \"#bd3786\"], [0.5555555555555556, \"#d8576b\"], [0.6666666666666666, \"#ed7953\"], [0.7777777777777778, \"#fb9f3a\"], [0.8888888888888888, \"#fdca26\"], [1.0, \"#f0f921\"]], \"type\": \"surface\"}], \"table\": [{\"cells\": {\"fill\": {\"color\": \"#EBF0F8\"}, \"line\": {\"color\": \"white\"}}, \"header\": {\"fill\": {\"color\": \"#C8D4E3\"}, \"line\": {\"color\": \"white\"}}, \"type\": \"table\"}]}, \"layout\": {\"annotationdefaults\": {\"arrowcolor\": \"#2a3f5f\", \"arrowhead\": 0, \"arrowwidth\": 1}, \"coloraxis\": {\"colorbar\": {\"outlinewidth\": 0, \"ticks\": \"\"}}, \"colorscale\": {\"diverging\": [[0, \"#8e0152\"], [0.1, \"#c51b7d\"], [0.2, \"#de77ae\"], [0.3, \"#f1b6da\"], [0.4, \"#fde0ef\"], [0.5, \"#f7f7f7\"], [0.6, \"#e6f5d0\"], [0.7, \"#b8e186\"], [0.8, \"#7fbc41\"], [0.9, \"#4d9221\"], [1, \"#276419\"]], \"sequential\": [[0.0, \"#0d0887\"], [0.1111111111111111, \"#46039f\"], [0.2222222222222222, \"#7201a8\"], [0.3333333333333333, \"#9c179e\"], [0.4444444444444444, \"#bd3786\"], [0.5555555555555556, \"#d8576b\"], [0.6666666666666666, \"#ed7953\"], [0.7777777777777778, \"#fb9f3a\"], [0.8888888888888888, \"#fdca26\"], [1.0, \"#f0f921\"]], \"sequentialminus\": [[0.0, \"#0d0887\"], [0.1111111111111111, \"#46039f\"], [0.2222222222222222, \"#7201a8\"], [0.3333333333333333, \"#9c179e\"], [0.4444444444444444, \"#bd3786\"], [0.5555555555555556, \"#d8576b\"], [0.6666666666666666, \"#ed7953\"], [0.7777777777777778, \"#fb9f3a\"], [0.8888888888888888, \"#fdca26\"], [1.0, \"#f0f921\"]]}, \"colorway\": [\"#636efa\", \"#EF553B\", \"#00cc96\", \"#ab63fa\", \"#FFA15A\", \"#19d3f3\", \"#FF6692\", \"#B6E880\", \"#FF97FF\", \"#FECB52\"], \"font\": {\"color\": \"#2a3f5f\"}, \"geo\": {\"bgcolor\": \"white\", \"lakecolor\": \"white\", \"landcolor\": \"#E5ECF6\", \"showlakes\": true, \"showland\": true, \"subunitcolor\": \"white\"}, \"hoverlabel\": {\"align\": \"left\"}, \"hovermode\": \"closest\", \"mapbox\": {\"style\": \"light\"}, \"paper_bgcolor\": \"white\", \"plot_bgcolor\": \"#E5ECF6\", \"polar\": {\"angularaxis\": {\"gridcolor\": \"white\", \"linecolor\": \"white\", \"ticks\": \"\"}, \"bgcolor\": \"#E5ECF6\", \"radialaxis\": {\"gridcolor\": \"white\", \"linecolor\": \"white\", \"ticks\": \"\"}}, \"scene\": {\"xaxis\": {\"backgroundcolor\": \"#E5ECF6\", \"gridcolor\": \"white\", \"gridwidth\": 2, \"linecolor\": \"white\", \"showbackground\": true, \"ticks\": \"\", \"zerolinecolor\": \"white\"}, \"yaxis\": {\"backgroundcolor\": \"#E5ECF6\", \"gridcolor\": \"white\", \"gridwidth\": 2, \"linecolor\": \"white\", \"showbackground\": true, \"ticks\": \"\", \"zerolinecolor\": \"white\"}, \"zaxis\": {\"backgroundcolor\": \"#E5ECF6\", \"gridcolor\": \"white\", \"gridwidth\": 2, \"linecolor\": \"white\", \"showbackground\": true, \"ticks\": \"\", \"zerolinecolor\": \"white\"}}, \"shapedefaults\": {\"line\": {\"color\": \"#2a3f5f\"}}, \"ternary\": {\"aaxis\": {\"gridcolor\": \"white\", \"linecolor\": \"white\", \"ticks\": \"\"}, \"baxis\": {\"gridcolor\": \"white\", \"linecolor\": \"white\", \"ticks\": \"\"}, \"bgcolor\": \"#E5ECF6\", \"caxis\": {\"gridcolor\": \"white\", \"linecolor\": \"white\", \"ticks\": \"\"}}, \"title\": {\"x\": 0.05}, \"xaxis\": {\"automargin\": true, \"gridcolor\": \"white\", \"linecolor\": \"white\", \"ticks\": \"\", \"title\": {\"standoff\": 15}, \"zerolinecolor\": \"white\", \"zerolinewidth\": 2}, \"yaxis\": {\"automargin\": true, \"gridcolor\": \"white\", \"linecolor\": \"white\", \"ticks\": \"\", \"title\": {\"standoff\": 15}, \"zerolinecolor\": \"white\", \"zerolinewidth\": 2}}}, \"title\": {\"text\": \"IMDB Scores of the Programs\"}, \"xaxis\": {\"anchor\": \"y\", \"domain\": [0.0, 1.0], \"title\": {\"text\": \"IMDB Score\"}}, \"yaxis\": {\"anchor\": \"x\", \"domain\": [0.0, 1.0], \"title\": {\"text\": \"count\"}}},\n",
              "                        {\"responsive\": true}\n",
              "                    ).then(function(){\n",
              "                            \n",
              "var gd = document.getElementById('2db1b8a5-876d-4044-a083-48e681b32e86');\n",
              "var x = new MutationObserver(function (mutations, observer) {{\n",
              "        var display = window.getComputedStyle(gd).display;\n",
              "        if (!display || display === 'none') {{\n",
              "            console.log([gd, 'removed!']);\n",
              "            Plotly.purge(gd);\n",
              "            observer.disconnect();\n",
              "        }}\n",
              "}});\n",
              "\n",
              "// Listen for the removal of the full notebook cells\n",
              "var notebookContainer = gd.closest('#notebook-container');\n",
              "if (notebookContainer) {{\n",
              "    x.observe(notebookContainer, {childList: true});\n",
              "}}\n",
              "\n",
              "// Listen for the clearing of the current output cell\n",
              "var outputEl = gd.closest('.output');\n",
              "if (outputEl) {{\n",
              "    x.observe(outputEl, {childList: true});\n",
              "}}\n",
              "\n",
              "                        })\n",
              "                };\n",
              "                \n",
              "            </script>\n",
              "        </div>\n",
              "</body>\n",
              "</html>"
            ]
          },
          "metadata": {}
        }
      ]
    },
    {
      "cell_type": "code",
      "metadata": {
        "colab": {
          "base_uri": "https://localhost:8080/",
          "height": 542
        },
        "id": "0ZQv2zCuwzy5",
        "outputId": "0e97539e-3e26-4c3a-8b73-24e117222532"
      },
      "source": [
        "fig = px.box(data_frame=df, x=df[\"IMDB Score\"], hover_data=df[[\"Title\", \"Genre\"]])\n",
        "fig.update_traces(overwrite=False)\n",
        "\n",
        "fig.show()"
      ],
      "execution_count": 37,
      "outputs": [
        {
          "output_type": "display_data",
          "data": {
            "text/html": [
              "<html>\n",
              "<head><meta charset=\"utf-8\" /></head>\n",
              "<body>\n",
              "    <div>\n",
              "            <script src=\"https://cdnjs.cloudflare.com/ajax/libs/mathjax/2.7.5/MathJax.js?config=TeX-AMS-MML_SVG\"></script><script type=\"text/javascript\">if (window.MathJax) {MathJax.Hub.Config({SVG: {font: \"STIX-Web\"}});}</script>\n",
              "                <script type=\"text/javascript\">window.PlotlyConfig = {MathJaxConfig: 'local'};</script>\n",
              "        <script src=\"https://cdn.plot.ly/plotly-latest.min.js\"></script>    \n",
              "            <div id=\"b01c2753-6638-4cd8-a651-69b64f26212e\" class=\"plotly-graph-div\" style=\"height:525px; width:100%;\"></div>\n",
              "            <script type=\"text/javascript\">\n",
              "                \n",
              "                    window.PLOTLYENV=window.PLOTLYENV || {};\n",
              "                    \n",
              "                if (document.getElementById(\"b01c2753-6638-4cd8-a651-69b64f26212e\")) {\n",
              "                    Plotly.newPlot(\n",
              "                        'b01c2753-6638-4cd8-a651-69b64f26212e',\n",
              "                        [{\"alignmentgroup\": \"True\", \"customdata\": [[\"Enter the Anime\", \"Documentary\"], [\"Dark Forces\", \"Thriller\"], [\"The App\", \"Science fiction/Drama\"], [\"The Open House\", \"Horror thriller\"], [\"Kaali Khuhi\", \"Mystery\"], [\"Drive\", \"Action\"], [\"Leyla Everlasting\", \"Comedy\"], [\"The Last Days of American Crime\", \"Heist film/Thriller\"], [\"Paradox\", \"Musical/Western/Fantasy\"], [\"Sardar Ka Grandson\", \"Comedy\"], [\"Searching for Sheela\", \"Documentary\"], [\"The Call\", \"Drama\"], [\"Whipped\", \"Romantic comedy\"], [\"All Because of You\", \"Action comedy\"], [\"Mercy\", \"Thriller\"], [\"After the Raid\", \"Documentary\"], [\"Ghost Stories\", \"Horror anthology\"], [\"The Last Thing He Wanted\", \"Political thriller\"], [\"What Happened to Mr. Cha?\", \"Comedy\"], [\"Death Note\", \"Horror thriller\"], [\"Hello Privilege. It's Me, Chelsea\", \"Documentary\"], [\"Secret Obsession\", \"Thriller\"], [\"Sextuplets\", \"Comedy\"], [\"The Girl on the Train\", \"Thriller\"], [\"Thunder Force\", \"Superhero-Comedy\"], [\"Fatal Affair\", \"Thriller\"], [\"Just Say Yes\", \"Romantic comedy\"], [\"Seriously Single\", \"Comedy\"], [\"The Misadventures of Hedi and Cokeman\", \"Comedy\"], [\"5 Star Christmas\", \"Comedy\"], [\"After Maria\", \"Documentary\"], [\"I Am the Pretty Thing That Lives in the House\", \"Horror\"], [\"Paris Is Us\", \"Romance drama\"], [\"Porta dos Fundos: The First Temptation of Christ\", \"Comedy\"], [\"Rattlesnake\", \"Horror\"], [\"The Players\", \"Comedy\"], [\"We Are One\", \"Documentary\"], [\"Finding Agnes\", \"Drama\"], [\"IO\", \"Science fiction/Drama\"], [\"Sentinelle\", \"Action\"], [\"Sol Levante\", \"Anime / Short\"], [\"The Binding\", \"Drama\"], [\"We Can Be Heroes\", \"Superhero\"], [\"Christmas Crossfire\", \"Thriller\"], [\"Coin Heist\", \"Heist\"], [\"Mrs. Serial Killer\", \"Thriller\"], [\"Nobody Sleeps in the Woods Tonight\", \"Horror\"], [\"Take the 10\", \"Comedy\"], [\"The Main Event\", \"Comedy\"], [\"The Ridiculous 6\", \"Western\"], [\"Earth and Blood\", \"Action\"], [\"Fearless\", \"Animation/Superhero\"], [\"Holiday Rush\", \"Family film\"], [\"The Day of the Lord\", \"Drama\"], [\"Airplane Mode\", \"Comedy\"], [\"How It Ends\", \"Action-thriller\"], [\"Love Like the Falling Rain\", \"Drama\"], [\"Rebirth\", \"Thriller\"], [\"Squared Love\", \"Romantic comedy\"], [\"Cadaver\", \"Horror\"], [\"Clinical\", \"Thriller\"], [\"Coffee & Kareem\", \"Action comedy\"], [\"Dude\", \"Teen comedy-drama\"], [\"Geez & Ann\", \"Romantic drama\"], [\"The Larva Island Movie\", \"Animation\"], [\"#REALITYHIGH\", \"Comedy\"], [\"American Factory: A Conversation with the Obamas \", \"Aftershow / Interview\"], [\"Desperados\", \"Romantic comedy\"], [\"Dolly Parton's Christmas on the Square\", \"Christmas musical\"], [\"Father of the Year\", \"Comedy\"], [\"Firebrand\", \"Drama\"], [\"Ghost Lab\", \"Horror\"], [\"Girlfriend's Day\", \"Comedy\"], [\"Handsome: A Netflix Mystery Movie\", \"Comedy\"], [\"Hubie Halloween\", \"Comedy\"], [\"Ibiza\", \"Comedy\"], [\"Rim of the World\", \"Science fiction adventure\"], [\"Sandy Wexler\", \"Comedy\"], [\"See You Yesterday\", \"Science fiction\"], [\"Still Laugh-In: The Stars Celebrate\", \"Variety show\"], [\"Strip Down, Rise Up\", \"Documentary\"], [\"Tall Girl\", \"Comedy-drama\"], [\"The Beast\", \"Drama\"], [\"The Week Of\", \"Comedy\"], [\"A Christmas Prince: The Royal Wedding\", \"Romantic comedy\"], [\"Back to School\", \"Comedy\"], [\"Dangerous Lies\", \"Thriller\"], [\"Gunjan Saxena: The Kargil Girl\", \"Drama\"], [\"Intuition\", \"Thriller\"], [\"The Most Assassinated Woman in the World\", \"Thriller\"], [\"Things Heard & Seen\", \"Horror\"], [\"To Each, Her Own\", \"Romantic comedy\"], [\"Who Would You Take to a Deserted Island?\", \"Drama\"], [\"XOXO\", \"Drama\"], [\"A Babysitter's Guide to Monster Hunting\", \"Comedy/Fantasy/Family\"], [\"A Christmas Prince: The Royal Baby\", \"Romantic comedy\"], [\"Despite Everything\", \"Comedy\"], [\"Dolly Kitty and Those Twinkling Stars\", \"Drama\"], [\"Freaks: You're One of Us\", \"Supernatural drama\"], [\"Game Over, Man!\", \"Action/Comedy\"], [\"Guilty\", \"Thriller\"], [\"In the Tall Grass\", \"Horror\"], [\"Madame Claude\", \"Drama\"], [\"Naked\", \"Comedy\"], [\"Outside the Wire\", \"Action/Science fiction\"], [\"The Princess Switch: Switched Again\", \"Romantic comedy\"], [\"Under the Riccione Sun\", \"Romantic teenage drama\"], [\"A Very Murray Christmas\", \"Comedy / Musical\"], [\"Been So Long\", \"Musical\"], [\"Dead Kids\", \"Thriller\"], [\"Get the Grift\", \"Comedy\"], [\"Ghosts of Sugar Land\", \"Documentary\"], [\"House Arrest\", \"Comedy\"], [\"Kevin Hart's Guide to Black History\", \"Variety show\"], [\"Love Wedding Repeat\", \"Romantic comedy\"], [\"Mute\", \"Science fiction/Mystery\"], [\"\\u00d2l\\u00f2t?r\\u00e9\", \"Crime drama\"], [\"Red Dot\", \"Thriller\"], [\"Ride or Die\", \"Psychological thriller drama\"], [\"Step Sisters\", \"Comedy\"], [\"The Cloverfield Paradox\", \"Science fiction\"], [\"The Knight Before Christmas\", \"Romantic comedy\"], [\"The Legacy of a Whitetail Deer Hunter\", \"Adventure/Comedy\"], [\"The Package\", \"Black comedy\"], [\"Unicorn Store\", \"Comedy\"], [\"Wine Country\", \"Comedy\"], [\"Bomb Scared\", \"Black comedy\"], [\"Brahman Naman\", \"Comedy\"], [\"Double Dad\", \"Comedy-drama\"], [\"Falling Inn Love\", \"Romantic comedy\"], [\"Hold the Dark\", \"Thriller\"], [\"Love, Guaranteed\", \"Romantic comedy\"], [\"One-Way to Tomorrow\", \"Romance\"], [\"Sarah Cooper: Everything's Fine\", \"Variety show\"], [\"The Last Laugh\", \"Comedy-drama\"], [\"The Last Paradiso\", \"Romantic drama\"], [\"The Midnight Sky\", \"Science fiction\"], [\"The Paramedic\", \"Thriller\"], [\"The Sleepover\", \"Comedy\"], [\"Vampires vs. the Bronx\", \"Horror comedy\"], [\"Why Did You Kill Me?\", \"Documentary\"], [\"A Week Away\", \"Christian musical\"], [\"Caught by a Wave\", \"Romantic teen drama\"], [\"Christmas Inheritance\", \"Romantic drama\"], [\"Dad Wanted\", \"Family\"], [\"El Camino Christmas\", \"Dark comedy\"], [\"Eli\", \"Horror\"], [\"Ginny Weds Sunny\", \"Romantic comedy\"], [\"Good Sam\", \"Drama\"], [\"Lionheart\", \"Comedy\"], [\"Little Evil\", \"Comedy horror\"], [\"One Take\", \"Documentary\"], [\"Out of Many, One\", \"Documentary\"], [\"Point Blank\", \"Action\"], [\"Prime Time\", \"Thriller\"], [\"The Do-Over\", \"Action comedy\"], [\"The Holiday Calendar\", \"Romantic comedy\"], [\"The Woman in the Window\", \"Psychological thriller\"], [\"The Wrong Missy\", \"Comedy\"], [\"Velvet Buzzsaw\", \"Thriller\"], [\"Yes Day\", \"Comedy\"], [\"15 August\", \"Comedy-drama\"], [\"A California Christmas\", \"Romantic comedy\"], [\"A Christmas Prince\", \"Romantic comedy\"], [\"All Day and a Night\", \"Drama\"], [\"American Son\", \"Drama\"], [\"Barry\", \"Biopic\"], [\"Candy Jar\", \"Comedy\"], [\"Choked: Paisa Bolta Hai\", \"Drama\"], [\"Class of '83\", \"Drama\"], [\"Extinction\", \"Science fiction/Thriller\"], [\"Happy Anniversary\", \"Romantic comedy\"], [\"I Am All Girls\", \"Thriller\"], [\"Let It Snow\", \"Romantic comedy\"], [\"Mascots\", \"Mockumentary\"], [\"Operation Christmas Drop\", \"Romantic comedy\"], [\"Rajma Chawal\", \"Comedy-drama\"], [\"Rich in Love\", \"Romantic comedy\"], [\"Rising High\", \"Satire\"], [\"Rodney King\", \"One-man show\"], [\"Sierra Burgess Is a Loser\", \"Romantic comedy-drama\"], [\"Small Crimes\", \"Dark comedy\"], [\"Special Correspondents\", \"Satire\"], [\"TAU\", \"Science fiction/Thriller\"], [\"The After Party\", \"Comedy\"], [\"The Babysitter: Killer Queen\", \"Comedy/Horror\"], [\"The Claus Family\", \"Fantasy\"], [\"The Kissing Booth 2\", \"Romantic comedy\"], [\"The Perfect Date\", \"Romantic comedy\"], [\"What We Wanted\", \"Drama\"], [\"You've Got This\", \"Romantic comedy\"], [\"6 Balloons\", \"Drama\"], [\"A Fall from Grace\", \"Thriller\"], [\"Amateur\", \"Sports-drama\"], [\"Army of the Dead\", \"Zombie/Heist\"], [\"Cam\", \"Psychological horror\"], [\"Earthquake Bird\", \"Mystery\"], [\"Frankenstein's Monster's Monster, Frankenstein\", \"Mockumentary\"], [\"Horse Girl\", \"Drama\"], [\"Notes from Dunblane: Lesson from a School Shooting\", \"Documentary\"], [\"Maska\", \"Romantic comedy\"], [\"The Decline\", \"Thriller\"], [\"The Minimalists: Less Is Now\", \"Documentary\"], [\"The Polka King\", \"Comedy-drama\"], [\"The Prom\", \"Musical\"], [\"True Memoirs of an International Assassin\", \"Action comedy\"], [\"Ultras\", \"Sports film\"], [\"Come Sunday\", \"Biopic\"], [\"Forgive Us Our Debts\", \"Drama\"], [\"iBoy\", \"Science fiction/Thriller\"], [\"Lovefucked\", \"Drama\"], [\"Juanita\", \"Drama\"], [\"Murder Mystery\", \"Comedy mystery\"], [\"Project Power\", \"Superhero\"], [\"Rebecca\", \"Romantic thriller\"], [\"The Christmas Chronicles: Part Two\", \"Christmas comedy\"], [\"The Kissing Booth\", \"Romantic comedy\"], [\"The Princess Switch\", \"Romantic comedy\"], [\"To All the Boys: P.S. I Still Love You\", \"Romantic comedy\"], [\"War Machine\", \"War-Comedy\"], [\"6 Underground\", \"Action\"], [\"Between Two Ferns: The Movie\", \"Comedy\"], [\"Burning Sands\", \"Drama\"], [\"Casting JonBenet\", \"Documentary\"], [\"Deidra & Laney Rob a Train\", \"Drama\"], [\"Finding 'Ohana\", \"Family\"], [\"Holidate\", \"Romantic comedy/Holiday\"], [\"Holiday in the Wild\", \"Adventure-romance\"], [\"Hot Girls Wanted\", \"Documentary\"], [\"Like Father\", \"Comedy\"], [\"Lost Girls\", \"Crime drama\"], [\"Otherhood\", \"Comedy\"], [\"Pee-wee's Big Holiday\", \"Adventure\"], [\"Rogue City\", \"Crime drama\"], [\"Sergio\", \"Biopic\"], [\"Stuck Apart\", \"Drama\"], [\"Tersanjung the Movie\", \"Drama\"], [\"The Killer\", \"Western\"], [\"The Lovebirds\", \"Romantic comedy\"], [\"The Most Hated Woman in America\", \"Biopic\"], [\"The Perfection\", \"Horror-thriller\"], [\"Tribhanga \\u0096 Tedhi Medhi Crazy\", \"Drama\"], [\"Unknown Origins\", \"Thriller\"], [\"Work It\", \"Dance comedy\"], [\"Alien Xmas\", \"Stop Motion\"], [\"Baggio: The Divine Ponytail\", \"Biopic\"], [\"Below Zero\", \"Drama\"], [\"Citation\", \"Drama\"], [\"Crazy Awesome Teachers\", \"Comedy-drama\"], [\"Have You Ever Seen Fireflies?\", \"Comedy\"], [\"High Flying Bird\", \"Sports-drama\"], [\"In the Shadow of the Moon\", \"Thriller\"], [\"Lost Bullet\", \"Thriller\"], [\"Octonauts & the Caves of Sac Actun\", \"Animation\"], [\"Offering to the Storm\", \"Thriller\"], [\"Roxanne Roxanne\", \"Biopic\"], [\"Someone Great\", \"Romantic comedy\"], [\"Spenser Confidential\", \"Action comedy\"], [\"The Land of Steady Habits\", \"Drama\"], [\"The Rachel Divide\", \"Documentary\"], [\"Voyuer \", \"Documentary\"], [\"Win It All\", \"Comedy\"], [\"1922\", \"Horror/Crime drama\"], [\"A Tale of Two Kitchens\", \"Documentary\"], [\"Alex Strangelove\", \"Romantic comedy\"], [\"Apostle\", \"Horror-thriller\"], [\"Benji\", \"Family film\"], [\"Bright\", \"Urban fantasy\"], [\"Cargo\", \"Drama/Horror\"], [\"Concrete Cowboy\", \"Drama\"], [\"Feel the Beat\", \"Family/Comedy-drama\"], [\"Get the Goat\", \"Comedy\"], [\"I Am Not an Easy Man\", \"Romantic comedy\"], [\"June & Kopi\", \"Drama\"], [\"Music Teacher\", \"Drama\"], [\"Nail Bomber: Manhunt\", \"Documentary\"], [\"Notes for My Son\", \"Drama\"], [\"Polar\", \"Action\"], [\"Porta dos Fundos: The Last Hangover\", \"Comedy\"], [\"Sand Castle\", \"War\"], [\"Shimmer Lake\", \"Crime thriller\"], [\"Spectral\", \"Science fiction/Action\"], [\"The Babysitter\", \"Teen comedy horror\"], [\"The Discovery\", \"Science fiction/Drama\"], [\"The Forest of Love\", \"Drama\"], [\"The Laundromat\", \"Comedy-drama\"], [\"The Legend of Cocaine Island\", \"Documentary\"], [\"The Outsider\", \"Crime drama\"], [\"Time to Hunt\", \"Thriller\"], [\"To All the Boys: Always and Forever\", \"Romantic comedy\"], [\"Travis Scott: Look Mom I Can Fly\", \"Documentary\"], [\"Uncorked\", \"Drama\"], [\"Anelka: Misunderstood\", \"Documentary\"], [\"Ariana Grande: Excuse Me, I Love You\", \"Concert Film\"], [\"ARQ\", \"Science fiction/Thriller\"], [\"Birders\", \"Documentary\"], [\"Como Ca\\u00eddo del Cielo\", \"Musical comedy\"], [\"First Match\", \"Sports-drama\"], [\"Fractured\", \"Thriller\"], [\"Irreplaceable You\", \"Drama\"], [\"Isi & Ossi\", \"Romantic comedy\"], [\"John Was Trying to Contact Aliens\", \"Documentary\"], [\"Layla Majnun\", \"Romantic drama\"], [\"Murder to Mercy: The Cyntoia Brown Story\", \"Documentary\"], [\"My Own Man\", \"Documentary\"], [\"Nappily Ever After\", \"Comedy-drama\"], [\"Over the Moon\", \"Animation/Musical/Adventure\"], [\"Street Flow\", \"Drama\"], [\"Strong Island\", \"Documentary\"], [\"Sturgill Simpson Presents: Sound & Fury\", \"Animation / Musicial\"], [\"Take Your Pills\", \"Documentary\"], [\"The Heartbreak Club\", \"Comedy-drama\"], [\"The Mars Generation\", \"Documentary\"], [\"The Occupant\", \"Thriller\"], [\"The Willoughbys\", \"Animation/Comedy/Adventure\"], [\"Triple Frontier\", \"Action-thriller\"], [\"Two Catalonias\", \"Documentary\"], [\"Walk. Ride. Rodeo.\", \"Drama\"], [\"Wheelman\", \"Action thriller\"], [\"When We First Met\", \"Romantic comedy\"], [\"A 3 Minute Hug\", \"Documentary\"], [\"All the Bright Places\", \"Romance\"], [\"All Together Now\", \"Drama\"], [\"Altered Carbon: Resleeved\", \"Anime/Science fiction\"], [\"Antoine Griezmann: The Making of a Legend\", \"Documentary\"], [\"Canvas \", \"Animation / Short\"], [\"Chadwick Boseman: Portrait of an Artist\", \"Documentary\"], [\"Chopsticks\", \"Comedy\"], [\"Da 5 Bloods\", \"War drama\"], [\"Dolly Parton: A MusiCares Tribute\", \"Documentary\"], [\"Eurovision Song Contest: The Story of Fire Saga\", \"Musical comedy\"], [\"Gerald's Game\", \"Horror thriller\"], [\"His House\", \"Thriller\"], [\"Jingle Jangle: A Christmas Journey\", \"Family/Christmas musical\"], [\"Life Overtakes Me\", \"Documentary\"], [\"Lust Stories\", \"Drama\"], [\"Monster\", \"Drama\"], [\"Mowgli: Legend of the Jungle\", \"Adventure\"], [\"Nobody Knows I'm Here\", \"Drama\"], [\"Nobody Speak: Trials of the Free Press\", \"Documentary\"], [\"Oxygen\", \"Science fiction thriller\"], [\"Set It Up\", \"Romantic comedy\"], [\"The Incredible Jessica James\", \"Comedy\"], [\"Tigertail\", \"Drama\"], [\"Tramps\", \"Romance\"], [\"What Did Jack Do?\", \"Drama / Short\"], [\"Bad Trip\", \"Hidden-camera prank comedy\"], [\"Bird Box\", \"Psychological thriller\"], [\"Bulbbul\", \"Horror\"], [\"Crazy About Her\", \"Romantic comedy\"], [\"Elisa & Marcela\", \"Romance\"], [\"I'll Sleep When I'm Dead\", \"Documentary\"], [\"I'm Thinking of Ending Things\", \"Psychological thriller\"], [\"It Takes a Lunatic\", \"Documentary\"], [\"Milestone\", \"Drama\"], [\"Recovery Boys\", \"Documentary\"], [\"ReMastered: Who Killed Jam Master Jay?\", \"Documentary\"], [\"Shawn Mendes: In Wonder\", \"Documentary\"], [\"Space Sweepers\", \"Science fiction\"], [\"The American Meme\", \"Documentary\"], [\"The Angel\", \"Spy thriller\"], [\"The Crimes That Bind\", \"Crime drama\"], [\"The Red Sea Diving Resort\", \"Spy thriller\"], [\"What Would Sophia Loren Do?\", \"Documentary\"], [\"A Whisker Away\", \"Anime/Fantasy\"], [\"Ajeeb Daastaans\", \"Drama\"], [\"Arlo the Alligator Boy\", \"Animated musical comedy\"], [\"Bikram: Yogi, Guru, Predator\", \"Documentary\"], [\"Blame!\", \"Anime/Science fiction\"], [\"Blue Miracle\", \"Drama\"], [\"CounterPunch \", \"Documentary\"], [\"Crack: Cocaine, Corruption & Conspiracy\", \"Documentary\"], [\"Extraction\", \"Action\"], [\"Giving Voice\", \"Documentary\"], [\"Hillbilly Elegy\", \"Drama\"], [\"Hope Frozen: A Quest to Live Twice\", \"Documentary\"], [\"Imperial Dreams\", \"Drama\"], [\"Just Another Christmas\", \"Comedy\"], [\"Little Miss Sumo\", \"Documentary\"], [\"Malcolm & Marie\", \"Romantic drama\"], [\"Michael Bolton's Big, Sexy, Valentine's Day Special\", \"Variety Show\"], [\"Moxie\", \"Drama\"], [\"Night in Paradise\", \"Drama\"], [\"Paper Lives\", \"Drama\"], [\"Parchis: The Documentary\", \"Documentary\"], [\"Tallulah\", \"Comedy-drama\"], [\"The Old Guard\", \"Superhero/Action\"], [\"Tony Robbins: I Am Not Your Guru\", \"Documentary\"], [\"Upstarts\", \"Drama\"], [\"22 July\", \"Drama\"], [\"7 a\\u00f1os\", \"Drama\"], [\"A Futile and Stupid Gesture\", \"Biographical/Comedy\"], [\"A Life of Speed: The Juan Manuel Fangio Story\", \"Documentary\"], [\"A Love Song for Latasha\", \"Documentary\"], [\"All in My Family\", \"Documentary\"], [\"Always Be My Maybe\", \"Romantic comedy\"], [\"Becoming\", \"Documentary\"], [\"Long Live Brij Mohan\", \"Comedy\"], [\"Calibre\", \"Thriller\"], [\"Death to 2020\", \"Comedy\"], [\"GIMS: On the Record\", \"Documentary\"], [\"Have a Good Trip: Adventures in Psychedelics\", \"Documentary\"], [\"Heroin(e) \", \"Documentary\"], [\"Mercury 13\", \"Documentary\"], [\"Saving Capitalism\", \"Documentary\"], [\"Serious Men\", \"Drama\"], [\"The Boys in the Band\", \"Drama\"], [\"The Boys in the Band: Something Personal\", \"Aftershow / Interview\"], [\"The Life Ahead\", \"Drama\"], [\"The Other Side of the Wind\", \"Drama\"], [\"The Trader\", \"Documentary\"], [\"To the Bone\", \"Drama\"], [\"Tony Parker: The Final Shot\", \"Documentary\"], [\"AK vs AK\", \"Thriller\"], [\"Amanda Knox\", \"Documentary\"], [\"Bigflo & Oil: Hip Hop Frenzy\", \"Documentary\"], [\"Biggie: I Got a Story to Tell\", \"Documentary\"], [\"Cops and Robbers\", \"Animation / Short\"], [\"I Don't Feel at Home in This World Anymore\", \"Drama\"], [\"Laerte-se\", \"Documentary\"], [\"Mank\", \"Biopic\"], [\"Our Souls at Night\", \"Romance\"], [\"Outlaw King\", \"Historical-epic\"], [\"Pagglait\", \"Comedy-drama\"], [\"ReMastered: Who Shot the Sheriff?\", \"Documentary\"], [\"Seeing Allred\", \"Documentary\"], [\"Spelling the Dream\", \"Documentary\"], [\"The Claudia Kishi Club\", \"Documentary\"], [\"The Half of It\", \"Romance\"], [\"The Highwaymen\", \"Crime drama\"], [\"The Lonely Island Presents: The Unauthorized Bash Brothers Experience\", \"Comedy / Musical\"], [\"The Meyerowitz Stories (New and Selected)\", \"Comedy-drama\"], [\"Feminists: What Were They Thinking?\", \"Documentary\"], [\"Gaga: Five Foot Two\", \"Documentary\"], [\"I'm No Longer Here: A Discussion with Guillermo del Toro and Alfonso Cuaron\", \"Aftershow / Interview\"], [\"Kingdom of Us\", \"Documentary\"], [\"Lorena, Light-Footed Woman\", \"Documentary\"], [\"Los Tigres del Norte at Folsom Prison\", \"Documentary\"], [\"Ma Rainey's Black Bottom\", \"Drama\"], [\"Ma Rainey's Black Bottom: A Legacy Brought to Screen\", \"Aftershow / Interview\"], [\"Operation Varsity Blues: The College Admissions Scandal\", \"Documentary\"], [\"Pele\", \"Documentary\"], [\"ReMastered: Devil at the Crossroads\", \"Documentary\"], [\"ReMastered: The Lion's Share\", \"Documentary\"], [\"ReMastered: The Miami Showband Massacre\", \"Documentary\"], [\"Resurface\", \"Documentary\"], [\"Rocko's Modern Life: Static Cling\", \"Animation / Comedy\"], [\"Rose Island\", \"Comedy\"], [\"The Christmas Chronicles\", \"Christmas/Fantasy/Adventure/Comedy\"], [\"The Dirt\", \"Biopic\"], [\"The Night Comes for Us\", \"Action-thriller\"], [\"13th: A Conversation with Oprah Winfrey & Ava DuVernay\", \"Aftershow / Interview\"], [\"Angela's Christmas\", \"Animation\"], [\"Angela's Christmas Wish\", \"Animation\"], [\"Beats\", \"Drama\"], [\"Circus of Books\", \"Documentary\"], [\"Dance Dreams: Hot Chocolate Nutcracker\", \"Documentary\"], [\"Derren Brown: Sacrifice\", \"Mentalism special\"], [\"El Pepe: A Supreme Life\", \"Documentary\"], [\"End Game\", \"Documentary\"], [\"Evelyn\", \"Documentary\"], [\"Ferry\", \"Crime drama\"], [\"Grass Is Greener\", \"Documentary\"], [\"Guillermo Vilas: Settling the Score\", \"Documentary\"], [\"Joshua: Teenager vs. Superpower\", \"Documentary\"], [\"Keith Richards: Under the Influence\", \"Documentary\"], [\"Knock Down the House\", \"Documentary\"], [\"Loudon Wainwright III: Surviving Twin\", \"One-man show\"], [\"My Beautiful Broken Brain\", \"Documentary\"], [\"One of Us\", \"Documentary\"], [\"Pieces of a Woman\", \"Drama\"], [\"Ram Dass, Going Home\", \"Documentary\"], [\"ReMastered: Tricky Dick & the Man in Black\", \"Documentary\"], [\"Rooting for Roona\", \"Documentary\"], [\"The Devil All the Time\", \"Psychological thriller\"], [\"The Dig\", \"Drama\"], [\"The Great Hack\", \"Documentary\"], [\"The White Tiger\", \"Drama\"], [\"To All the Boys I've Loved Before\", \"Romantic comedy\"], [\"American Murder: The Family Next Door\", \"Documentary\"], [\"Audrie & Daisy\", \"Documentary\"], [\"First They Killed My Father\", \"Drama\"], [\"Fyre: The Greatest Party That Never Happened\", \"Documentary\"], [\"Into the Inferno\", \"Documentary\"], [\"LA Originals\", \"Documentary\"], [\"Ladies First\", \"Documentary\"], [\"Love per Square Foot\", \"Romantic comedy\"], [\"Paddleton\", \"Drama-Comedy\"], [\"Private Life\", \"Drama\"], [\"Seventeen\", \"Coming-of-age comedy-drama\"], [\"Sometimes\", \"Drama\"], [\"Soni\", \"Crime drama\"], [\"The 40-Year-Old Version\", \"Comedy\"], [\"The Disciple\", \"Drama\"], [\"The Edge of Democracy\", \"Documentary\"], [\"The King\", \"Historical drama\"], [\"The Road to El Camino: A Breaking Bad Movie\", \"Making-of\"], [\"The Siege of Jadotville\", \"War\"], [\"Zion \", \"Documentary\"], [\"Dolemite Is My Name\", \"Biopic\"], [\"El Camino: A Breaking Bad Movie\", \"Crime drama\"], [\"Extremis\", \"Documentary\"], [\"Father Soldier Son\", \"Documentary\"], [\"Get Me Roger Stone\", \"Documentary\"], [\"I'm No Longer Here\", \"Drama\"], [\"Mucho Mucho Amor: The Legend of Walter Mercado \", \"Documentary\"], [\"Octonauts & the Great Barrier Reef\", \"Animation\"], [\"Okja\", \"Action-adventure\"], [\"On My Skin\", \"Crime drama\"], [\"Raat Akeli Hai\", \"Thriller\"], [\"ReMastered: Massacre at the Stadium\", \"Documentary\"], [\"ReMastered: The Two Killings of Sam Cooke\", \"Documentary\"], [\"Secrets of the Saqqara Tomb\", \"Documentary\"], [\"Sitara: Let Girls Dream\", \"Animation / Short\"], [\"Sky Ladder: The Art of Cai Guo-Qiang\", \"Documentary\"], [\"Team Foxcatcher\", \"Documentary\"], [\"The Ballad of Buster Scruggs\", \"Western\"], [\"The Death and Life of Marsha P. Johnson\", \"Documentary\"], [\"The Fundamentals of Caring\", \"Comedy-drama\"], [\"The Other One: The Long Strange Trip of Bob Weir\", \"Documentary\"], [\"American Factory\", \"Documentary\"], [\"Fire in Paradise\", \"Documentary\"], [\"Long Shot\", \"Documentary\"], [\"Miss Americana\", \"Documentary\"], [\"Period. End of Sentence.\", \"Documentary\"], [\"Shawn Mendes: Live in Concert\", \"Concert Film\"], [\"Shirkers\", \"Documentary\"], [\"The Black Godfather\", \"Documentary\"], [\"The Irishman: In Conversation\", \"Aftershow / Interview\"], [\"The Speed Cubers\", \"Documentary\"], [\"They'll Love Me When I'm Dead\", \"Documentary\"], [\"Tig\", \"Documentary\"], [\"Barbra: The Music, The Mem'ries, The Magic!\", \"Concert Film\"], [\"Blackpink: Light Up the Sky\", \"Documentary\"], [\"City of Joy\", \"Documentary\"], [\"Dick Johnson Is Dead\", \"Documentary\"], [\"Homecoming: A Film by Beyonce \", \"Documentary\"], [\"Invader Zim: Enter the Florpus\", \"Animation / Science Fiction\"], [\"Joan Didion: The Center Will Not Hold\", \"Documentary\"], [\"John Mulaney & the Sack Lunch Bunch\", \"Variety show\"], [\"Reversing Roe\", \"Documentary\"], [\"The White Helmets\", \"Documentary\"], [\"Athlete A\", \"Documentary\"], [\"Ludo\", \"Anthology/Dark comedy\"], [\"Quincy\", \"Documentary\"], [\"Rolling Thunder Revue: A bob Dylan Story by Martin Scorsere\", \"Documentary\"], [\"Tell Me Who I Am\", \"Documentary\"], [\"The Bleeding Edge\", \"Documentary\"], [\"The Social Dilemma\", \"Documentary\"], [\"The Two Popes\", \"Drama\"], [\"What Happened, Miss Simone?\", \"Documentary\"], [\"Yeh Ballet\", \"Drama\"], [\"Anima\", \"Musical / Short\"], [\"Beasts of No Nation\", \"War drama\"], [\"Brene Brown: The Call to Courage\", \"Documentary\"], [\"Crip Camp: A Disability Revolution\", \"Documentary\"], [\"Jim & Andy: The Great Beyond - Featuring a Very Special, Contractually Obligated Mention of Tony Cliffton \", \"Documentary\"], [\"Justin Timberlake + The Tennessee Kids\", \"Concert Film\"], [\"Road to Roma\", \"Making-of\"], [\"Roma\", \"Drama\"], [\"If Anything Happens I Love You\", \"Animation / Short\"], [\"The Irishman\", \"Crime drama\"], [\"The Trial of the Chicago 7\", \"Drama\"], [\"A Secret Love\", \"Documentary\"], [\"Icarus\", \"Documentary\"], [\"Marriage Story\", \"Drama\"], [\"The Ivory Game\", \"Documentary\"], [\"Struggle: The Life and Lost Art of Szukaiski\", \"Documentary\"], [\"Chasing Coral \", \"Documentary\"], [\"My Octopus Teacher\", \"Documentary\"], [\"Rising Phoenix\", \"Documentary\"], [\"13th\", \"Documentary\"], [\"Disclosure: Trans Lives on Screen\", \"Documentary\"], [\"Klaus\", \"Animation/Christmas/Comedy/Adventure\"], [\"Seaspiracy\", \"Documentary\"], [\"The Three Deaths of Marisela Escobedo\", \"Documentary\"], [\"Cuba and the Cameraman \", \"Documentary\"], [\"Dancing with the Birds\", \"Documentary\"], [\"Ben Platt: Live from Radio City Music Hall\", \"Concert Film\"], [\"Taylor Swift: Reputation Stadium Tour\", \"Concert Film\"], [\"Winter on Fire: Ukraine's Fight for Freedom\", \"Documentary\"], [\"Springsteen on Broadway\", \"One-man show\"], [\"Emicida: AmarElo - It's All For Yesterday\", \"Documentary\"], [\"David Attenborough: A Life on Our Planet\", \"Documentary\"]], \"hoverlabel\": {\"namelength\": 0}, \"hovertemplate\": \"IMDB Score=%{x}<br>Title=%{customdata[0]}<br>Genre=%{customdata[1]}\", \"legendgroup\": \"\", \"marker\": {\"color\": \"#636efa\"}, \"name\": \"\", \"notched\": false, \"offsetgroup\": \"\", \"orientation\": \"v\", \"showlegend\": false, \"type\": \"box\", \"x\": [2.5, 2.6, 2.6, 3.2, 3.4, 3.5, 3.7, 3.7, 3.9, 4.1, 4.1, 4.1, 4.1, 4.2, 4.2, 4.3, 4.3, 4.3, 4.3, 4.4, 4.4, 4.4, 4.4, 4.4, 4.4, 4.5, 4.5, 4.5, 4.5, 4.6, 4.6, 4.6, 4.6, 4.6, 4.6, 4.6, 4.6, 4.7, 4.7, 4.7, 4.7, 4.7, 4.7, 4.8, 4.8, 4.8, 4.8, 4.8, 4.8, 4.8, 4.9, 4.9, 4.9, 4.9, 5.0, 5.0, 5.0, 5.0, 5.0, 5.1, 5.1, 5.1, 5.1, 5.1, 5.1, 5.2, 5.2, 5.2, 5.2, 5.2, 5.2, 5.2, 5.2, 5.2, 5.2, 5.2, 5.2, 5.2, 5.2, 5.2, 5.2, 5.2, 5.2, 5.2, 5.3, 5.3, 5.3, 5.3, 5.3, 5.3, 5.3, 5.3, 5.3, 5.3, 5.4, 5.4, 5.4, 5.4, 5.4, 5.4, 5.4, 5.4, 5.4, 5.4, 5.4, 5.4, 5.4, 5.5, 5.5, 5.5, 5.5, 5.5, 5.5, 5.5, 5.5, 5.5, 5.5, 5.5, 5.5, 5.5, 5.5, 5.5, 5.5, 5.5, 5.5, 5.5, 5.6, 5.6, 5.6, 5.6, 5.6, 5.6, 5.6, 5.6, 5.6, 5.6, 5.6, 5.6, 5.6, 5.6, 5.6, 5.7, 5.7, 5.7, 5.7, 5.7, 5.7, 5.7, 5.7, 5.7, 5.7, 5.7, 5.7, 5.7, 5.7, 5.7, 5.7, 5.7, 5.7, 5.7, 5.7, 5.8, 5.8, 5.8, 5.8, 5.8, 5.8, 5.8, 5.8, 5.8, 5.8, 5.8, 5.8, 5.8, 5.8, 5.8, 5.8, 5.8, 5.8, 5.8, 5.8, 5.8, 5.8, 5.8, 5.8, 5.8, 5.8, 5.8, 5.8, 5.8, 5.8, 5.9, 5.9, 5.9, 5.9, 5.9, 5.9, 5.9, 5.9, 5.9, 5.9, 5.9, 5.9, 5.9, 5.9, 5.9, 5.9, 6.0, 6.0, 6.0, 6.0, 6.0, 6.0, 6.0, 6.0, 6.0, 6.0, 6.0, 6.0, 6.0, 6.1, 6.1, 6.1, 6.1, 6.1, 6.1, 6.1, 6.1, 6.1, 6.1, 6.1, 6.1, 6.1, 6.1, 6.1, 6.1, 6.1, 6.1, 6.1, 6.1, 6.1, 6.1, 6.1, 6.1, 6.2, 6.2, 6.2, 6.2, 6.2, 6.2, 6.2, 6.2, 6.2, 6.2, 6.2, 6.2, 6.2, 6.2, 6.2, 6.2, 6.2, 6.2, 6.3, 6.3, 6.3, 6.3, 6.3, 6.3, 6.3, 6.3, 6.3, 6.3, 6.3, 6.3, 6.3, 6.3, 6.3, 6.3, 6.3, 6.3, 6.3, 6.3, 6.3, 6.3, 6.3, 6.3, 6.3, 6.3, 6.3, 6.3, 6.3, 6.3, 6.4, 6.4, 6.4, 6.4, 6.4, 6.4, 6.4, 6.4, 6.4, 6.4, 6.4, 6.4, 6.4, 6.4, 6.4, 6.4, 6.4, 6.4, 6.4, 6.4, 6.4, 6.4, 6.4, 6.4, 6.4, 6.4, 6.4, 6.4, 6.5, 6.5, 6.5, 6.5, 6.5, 6.5, 6.5, 6.5, 6.5, 6.5, 6.5, 6.5, 6.5, 6.5, 6.5, 6.5, 6.5, 6.5, 6.5, 6.5, 6.5, 6.5, 6.5, 6.5, 6.5, 6.5, 6.6, 6.6, 6.6, 6.6, 6.6, 6.6, 6.6, 6.6, 6.6, 6.6, 6.6, 6.6, 6.6, 6.6, 6.6, 6.6, 6.6, 6.6, 6.7, 6.7, 6.7, 6.7, 6.7, 6.7, 6.7, 6.7, 6.7, 6.7, 6.7, 6.7, 6.7, 6.7, 6.7, 6.7, 6.7, 6.7, 6.7, 6.7, 6.7, 6.7, 6.7, 6.7, 6.7, 6.8, 6.8, 6.8, 6.8, 6.8, 6.8, 6.8, 6.8, 6.8, 6.8, 6.8, 6.8, 6.8, 6.8, 6.8, 6.8, 6.8, 6.8, 6.8, 6.8, 6.8, 6.8, 6.8, 6.8, 6.9, 6.9, 6.9, 6.9, 6.9, 6.9, 6.9, 6.9, 6.9, 6.9, 6.9, 6.9, 6.9, 6.9, 6.9, 6.9, 6.9, 6.9, 6.9, 7.0, 7.0, 7.0, 7.0, 7.0, 7.0, 7.0, 7.0, 7.0, 7.0, 7.0, 7.0, 7.0, 7.0, 7.0, 7.0, 7.0, 7.0, 7.0, 7.1, 7.1, 7.1, 7.1, 7.1, 7.1, 7.1, 7.1, 7.1, 7.1, 7.1, 7.1, 7.1, 7.1, 7.1, 7.1, 7.1, 7.1, 7.1, 7.1, 7.1, 7.1, 7.1, 7.1, 7.1, 7.1, 7.1, 7.1, 7.2, 7.2, 7.2, 7.2, 7.2, 7.2, 7.2, 7.2, 7.2, 7.2, 7.2, 7.2, 7.2, 7.2, 7.2, 7.2, 7.2, 7.2, 7.2, 7.2, 7.3, 7.3, 7.3, 7.3, 7.3, 7.3, 7.3, 7.3, 7.3, 7.3, 7.3, 7.3, 7.3, 7.3, 7.3, 7.3, 7.3, 7.3, 7.3, 7.3, 7.3, 7.4, 7.4, 7.4, 7.4, 7.4, 7.4, 7.4, 7.4, 7.4, 7.4, 7.4, 7.4, 7.5, 7.5, 7.5, 7.5, 7.5, 7.5, 7.5, 7.5, 7.5, 7.5, 7.6, 7.6, 7.6, 7.6, 7.6, 7.6, 7.6, 7.6, 7.6, 7.6, 7.7, 7.7, 7.7, 7.7, 7.7, 7.7, 7.7, 7.7, 7.8, 7.8, 7.8, 7.9, 7.9, 7.9, 7.9, 8.0, 8.1, 8.1, 8.1, 8.2, 8.2, 8.2, 8.2, 8.2, 8.3, 8.3, 8.4, 8.4, 8.4, 8.5, 8.6, 9.0], \"x0\": \" \", \"xaxis\": \"x\", \"y0\": \" \", \"yaxis\": \"y\"}],\n",
              "                        {\"boxmode\": \"group\", \"legend\": {\"tracegroupgap\": 0}, \"margin\": {\"t\": 60}, \"template\": {\"data\": {\"bar\": [{\"error_x\": {\"color\": \"#2a3f5f\"}, \"error_y\": {\"color\": \"#2a3f5f\"}, \"marker\": {\"line\": {\"color\": \"#E5ECF6\", \"width\": 0.5}}, \"type\": \"bar\"}], \"barpolar\": [{\"marker\": {\"line\": {\"color\": \"#E5ECF6\", \"width\": 0.5}}, \"type\": \"barpolar\"}], \"carpet\": [{\"aaxis\": {\"endlinecolor\": \"#2a3f5f\", \"gridcolor\": \"white\", \"linecolor\": \"white\", \"minorgridcolor\": \"white\", \"startlinecolor\": \"#2a3f5f\"}, \"baxis\": {\"endlinecolor\": \"#2a3f5f\", \"gridcolor\": \"white\", \"linecolor\": \"white\", \"minorgridcolor\": \"white\", \"startlinecolor\": \"#2a3f5f\"}, \"type\": \"carpet\"}], \"choropleth\": [{\"colorbar\": {\"outlinewidth\": 0, \"ticks\": \"\"}, \"type\": \"choropleth\"}], \"contour\": [{\"colorbar\": {\"outlinewidth\": 0, \"ticks\": \"\"}, \"colorscale\": [[0.0, \"#0d0887\"], [0.1111111111111111, \"#46039f\"], [0.2222222222222222, \"#7201a8\"], [0.3333333333333333, \"#9c179e\"], [0.4444444444444444, \"#bd3786\"], [0.5555555555555556, \"#d8576b\"], [0.6666666666666666, \"#ed7953\"], [0.7777777777777778, \"#fb9f3a\"], [0.8888888888888888, \"#fdca26\"], [1.0, \"#f0f921\"]], \"type\": \"contour\"}], \"contourcarpet\": [{\"colorbar\": {\"outlinewidth\": 0, \"ticks\": \"\"}, \"type\": \"contourcarpet\"}], \"heatmap\": [{\"colorbar\": {\"outlinewidth\": 0, \"ticks\": \"\"}, \"colorscale\": [[0.0, \"#0d0887\"], [0.1111111111111111, \"#46039f\"], [0.2222222222222222, \"#7201a8\"], [0.3333333333333333, \"#9c179e\"], [0.4444444444444444, \"#bd3786\"], [0.5555555555555556, \"#d8576b\"], [0.6666666666666666, \"#ed7953\"], [0.7777777777777778, \"#fb9f3a\"], [0.8888888888888888, \"#fdca26\"], [1.0, \"#f0f921\"]], \"type\": \"heatmap\"}], \"heatmapgl\": [{\"colorbar\": {\"outlinewidth\": 0, \"ticks\": \"\"}, \"colorscale\": [[0.0, \"#0d0887\"], [0.1111111111111111, \"#46039f\"], [0.2222222222222222, \"#7201a8\"], [0.3333333333333333, \"#9c179e\"], [0.4444444444444444, \"#bd3786\"], [0.5555555555555556, \"#d8576b\"], [0.6666666666666666, \"#ed7953\"], [0.7777777777777778, \"#fb9f3a\"], [0.8888888888888888, \"#fdca26\"], [1.0, \"#f0f921\"]], \"type\": \"heatmapgl\"}], \"histogram\": [{\"marker\": {\"colorbar\": {\"outlinewidth\": 0, \"ticks\": \"\"}}, \"type\": \"histogram\"}], \"histogram2d\": [{\"colorbar\": {\"outlinewidth\": 0, \"ticks\": \"\"}, \"colorscale\": [[0.0, \"#0d0887\"], [0.1111111111111111, \"#46039f\"], [0.2222222222222222, \"#7201a8\"], [0.3333333333333333, \"#9c179e\"], [0.4444444444444444, \"#bd3786\"], [0.5555555555555556, \"#d8576b\"], [0.6666666666666666, \"#ed7953\"], [0.7777777777777778, \"#fb9f3a\"], [0.8888888888888888, \"#fdca26\"], [1.0, \"#f0f921\"]], \"type\": \"histogram2d\"}], \"histogram2dcontour\": [{\"colorbar\": {\"outlinewidth\": 0, \"ticks\": \"\"}, \"colorscale\": [[0.0, \"#0d0887\"], [0.1111111111111111, \"#46039f\"], [0.2222222222222222, \"#7201a8\"], [0.3333333333333333, \"#9c179e\"], [0.4444444444444444, \"#bd3786\"], [0.5555555555555556, \"#d8576b\"], [0.6666666666666666, \"#ed7953\"], [0.7777777777777778, \"#fb9f3a\"], [0.8888888888888888, \"#fdca26\"], [1.0, \"#f0f921\"]], \"type\": \"histogram2dcontour\"}], \"mesh3d\": [{\"colorbar\": {\"outlinewidth\": 0, \"ticks\": \"\"}, \"type\": \"mesh3d\"}], \"parcoords\": [{\"line\": {\"colorbar\": {\"outlinewidth\": 0, \"ticks\": \"\"}}, \"type\": \"parcoords\"}], \"pie\": [{\"automargin\": true, \"type\": \"pie\"}], \"scatter\": [{\"marker\": {\"colorbar\": {\"outlinewidth\": 0, \"ticks\": \"\"}}, \"type\": \"scatter\"}], \"scatter3d\": [{\"line\": {\"colorbar\": {\"outlinewidth\": 0, \"ticks\": \"\"}}, \"marker\": {\"colorbar\": {\"outlinewidth\": 0, \"ticks\": \"\"}}, \"type\": \"scatter3d\"}], \"scattercarpet\": [{\"marker\": {\"colorbar\": {\"outlinewidth\": 0, \"ticks\": \"\"}}, \"type\": \"scattercarpet\"}], \"scattergeo\": [{\"marker\": {\"colorbar\": {\"outlinewidth\": 0, \"ticks\": \"\"}}, \"type\": \"scattergeo\"}], \"scattergl\": [{\"marker\": {\"colorbar\": {\"outlinewidth\": 0, \"ticks\": \"\"}}, \"type\": \"scattergl\"}], \"scattermapbox\": [{\"marker\": {\"colorbar\": {\"outlinewidth\": 0, \"ticks\": \"\"}}, \"type\": \"scattermapbox\"}], \"scatterpolar\": [{\"marker\": {\"colorbar\": {\"outlinewidth\": 0, \"ticks\": \"\"}}, \"type\": \"scatterpolar\"}], \"scatterpolargl\": [{\"marker\": {\"colorbar\": {\"outlinewidth\": 0, \"ticks\": \"\"}}, \"type\": \"scatterpolargl\"}], \"scatterternary\": [{\"marker\": {\"colorbar\": {\"outlinewidth\": 0, \"ticks\": \"\"}}, \"type\": \"scatterternary\"}], \"surface\": [{\"colorbar\": {\"outlinewidth\": 0, \"ticks\": \"\"}, \"colorscale\": [[0.0, \"#0d0887\"], [0.1111111111111111, \"#46039f\"], [0.2222222222222222, \"#7201a8\"], [0.3333333333333333, \"#9c179e\"], [0.4444444444444444, \"#bd3786\"], [0.5555555555555556, \"#d8576b\"], [0.6666666666666666, \"#ed7953\"], [0.7777777777777778, \"#fb9f3a\"], [0.8888888888888888, \"#fdca26\"], [1.0, \"#f0f921\"]], \"type\": \"surface\"}], \"table\": [{\"cells\": {\"fill\": {\"color\": \"#EBF0F8\"}, \"line\": {\"color\": \"white\"}}, \"header\": {\"fill\": {\"color\": \"#C8D4E3\"}, \"line\": {\"color\": \"white\"}}, \"type\": \"table\"}]}, \"layout\": {\"annotationdefaults\": {\"arrowcolor\": \"#2a3f5f\", \"arrowhead\": 0, \"arrowwidth\": 1}, \"coloraxis\": {\"colorbar\": {\"outlinewidth\": 0, \"ticks\": \"\"}}, \"colorscale\": {\"diverging\": [[0, \"#8e0152\"], [0.1, \"#c51b7d\"], [0.2, \"#de77ae\"], [0.3, \"#f1b6da\"], [0.4, \"#fde0ef\"], [0.5, \"#f7f7f7\"], [0.6, \"#e6f5d0\"], [0.7, \"#b8e186\"], [0.8, \"#7fbc41\"], [0.9, \"#4d9221\"], [1, \"#276419\"]], \"sequential\": [[0.0, \"#0d0887\"], [0.1111111111111111, \"#46039f\"], [0.2222222222222222, \"#7201a8\"], [0.3333333333333333, \"#9c179e\"], [0.4444444444444444, \"#bd3786\"], [0.5555555555555556, \"#d8576b\"], [0.6666666666666666, \"#ed7953\"], [0.7777777777777778, \"#fb9f3a\"], [0.8888888888888888, \"#fdca26\"], [1.0, \"#f0f921\"]], \"sequentialminus\": [[0.0, \"#0d0887\"], [0.1111111111111111, \"#46039f\"], [0.2222222222222222, \"#7201a8\"], [0.3333333333333333, \"#9c179e\"], [0.4444444444444444, \"#bd3786\"], [0.5555555555555556, \"#d8576b\"], [0.6666666666666666, \"#ed7953\"], [0.7777777777777778, \"#fb9f3a\"], [0.8888888888888888, \"#fdca26\"], [1.0, \"#f0f921\"]]}, \"colorway\": [\"#636efa\", \"#EF553B\", \"#00cc96\", \"#ab63fa\", \"#FFA15A\", \"#19d3f3\", \"#FF6692\", \"#B6E880\", \"#FF97FF\", \"#FECB52\"], \"font\": {\"color\": \"#2a3f5f\"}, \"geo\": {\"bgcolor\": \"white\", \"lakecolor\": \"white\", \"landcolor\": \"#E5ECF6\", \"showlakes\": true, \"showland\": true, \"subunitcolor\": \"white\"}, \"hoverlabel\": {\"align\": \"left\"}, \"hovermode\": \"closest\", \"mapbox\": {\"style\": \"light\"}, \"paper_bgcolor\": \"white\", \"plot_bgcolor\": \"#E5ECF6\", \"polar\": {\"angularaxis\": {\"gridcolor\": \"white\", \"linecolor\": \"white\", \"ticks\": \"\"}, \"bgcolor\": \"#E5ECF6\", \"radialaxis\": {\"gridcolor\": \"white\", \"linecolor\": \"white\", \"ticks\": \"\"}}, \"scene\": {\"xaxis\": {\"backgroundcolor\": \"#E5ECF6\", \"gridcolor\": \"white\", \"gridwidth\": 2, \"linecolor\": \"white\", \"showbackground\": true, \"ticks\": \"\", \"zerolinecolor\": \"white\"}, \"yaxis\": {\"backgroundcolor\": \"#E5ECF6\", \"gridcolor\": \"white\", \"gridwidth\": 2, \"linecolor\": \"white\", \"showbackground\": true, \"ticks\": \"\", \"zerolinecolor\": \"white\"}, \"zaxis\": {\"backgroundcolor\": \"#E5ECF6\", \"gridcolor\": \"white\", \"gridwidth\": 2, \"linecolor\": \"white\", \"showbackground\": true, \"ticks\": \"\", \"zerolinecolor\": \"white\"}}, \"shapedefaults\": {\"line\": {\"color\": \"#2a3f5f\"}}, \"ternary\": {\"aaxis\": {\"gridcolor\": \"white\", \"linecolor\": \"white\", \"ticks\": \"\"}, \"baxis\": {\"gridcolor\": \"white\", \"linecolor\": \"white\", \"ticks\": \"\"}, \"bgcolor\": \"#E5ECF6\", \"caxis\": {\"gridcolor\": \"white\", \"linecolor\": \"white\", \"ticks\": \"\"}}, \"title\": {\"x\": 0.05}, \"xaxis\": {\"automargin\": true, \"gridcolor\": \"white\", \"linecolor\": \"white\", \"ticks\": \"\", \"title\": {\"standoff\": 15}, \"zerolinecolor\": \"white\", \"zerolinewidth\": 2}, \"yaxis\": {\"automargin\": true, \"gridcolor\": \"white\", \"linecolor\": \"white\", \"ticks\": \"\", \"title\": {\"standoff\": 15}, \"zerolinecolor\": \"white\", \"zerolinewidth\": 2}}}, \"xaxis\": {\"anchor\": \"y\", \"domain\": [0.0, 1.0], \"title\": {\"text\": \"IMDB Score\"}}, \"yaxis\": {\"anchor\": \"x\", \"domain\": [0.0, 1.0]}},\n",
              "                        {\"responsive\": true}\n",
              "                    ).then(function(){\n",
              "                            \n",
              "var gd = document.getElementById('b01c2753-6638-4cd8-a651-69b64f26212e');\n",
              "var x = new MutationObserver(function (mutations, observer) {{\n",
              "        var display = window.getComputedStyle(gd).display;\n",
              "        if (!display || display === 'none') {{\n",
              "            console.log([gd, 'removed!']);\n",
              "            Plotly.purge(gd);\n",
              "            observer.disconnect();\n",
              "        }}\n",
              "}});\n",
              "\n",
              "// Listen for the removal of the full notebook cells\n",
              "var notebookContainer = gd.closest('#notebook-container');\n",
              "if (notebookContainer) {{\n",
              "    x.observe(notebookContainer, {childList: true});\n",
              "}}\n",
              "\n",
              "// Listen for the clearing of the current output cell\n",
              "var outputEl = gd.closest('.output');\n",
              "if (outputEl) {{\n",
              "    x.observe(outputEl, {childList: true});\n",
              "}}\n",
              "\n",
              "                        })\n",
              "                };\n",
              "                \n",
              "            </script>\n",
              "        </div>\n",
              "</body>\n",
              "</html>"
            ]
          },
          "metadata": {}
        }
      ]
    },
    {
      "cell_type": "code",
      "metadata": {
        "colab": {
          "base_uri": "https://localhost:8080/",
          "height": 80
        },
        "id": "kl9QEPW4w8wo",
        "outputId": "7b8926c9-09a3-4c1d-ce93-234b2df2c03c"
      },
      "source": [
        "df[df[\"IMDB Score\"] == df[\"IMDB Score\"].max()][[\"Title\", \"Genre\"]]"
      ],
      "execution_count": 38,
      "outputs": [
        {
          "output_type": "execute_result",
          "data": {
            "text/html": [
              "<div>\n",
              "<style scoped>\n",
              "    .dataframe tbody tr th:only-of-type {\n",
              "        vertical-align: middle;\n",
              "    }\n",
              "\n",
              "    .dataframe tbody tr th {\n",
              "        vertical-align: top;\n",
              "    }\n",
              "\n",
              "    .dataframe thead th {\n",
              "        text-align: right;\n",
              "    }\n",
              "</style>\n",
              "<table border=\"1\" class=\"dataframe\">\n",
              "  <thead>\n",
              "    <tr style=\"text-align: right;\">\n",
              "      <th></th>\n",
              "      <th>Title</th>\n",
              "      <th>Genre</th>\n",
              "    </tr>\n",
              "  </thead>\n",
              "  <tbody>\n",
              "    <tr>\n",
              "      <th>583</th>\n",
              "      <td>David Attenborough: A Life on Our Planet</td>\n",
              "      <td>Documentary</td>\n",
              "    </tr>\n",
              "  </tbody>\n",
              "</table>\n",
              "</div>"
            ],
            "text/plain": [
              "                                        Title        Genre\n",
              "583  David Attenborough: A Life on Our Planet  Documentary"
            ]
          },
          "metadata": {},
          "execution_count": 38
        }
      ]
    },
    {
      "cell_type": "code",
      "metadata": {
        "colab": {
          "base_uri": "https://localhost:8080/",
          "height": 80
        },
        "id": "3Px9SL_Dxa-E",
        "outputId": "65147612-ea03-4fe6-9ba4-42b6ec970f37"
      },
      "source": [
        "df[df[\"IMDB Score\"] == df[\"IMDB Score\"].min()][[\"Title\", \"Genre\"]]"
      ],
      "execution_count": 39,
      "outputs": [
        {
          "output_type": "execute_result",
          "data": {
            "text/html": [
              "<div>\n",
              "<style scoped>\n",
              "    .dataframe tbody tr th:only-of-type {\n",
              "        vertical-align: middle;\n",
              "    }\n",
              "\n",
              "    .dataframe tbody tr th {\n",
              "        vertical-align: top;\n",
              "    }\n",
              "\n",
              "    .dataframe thead th {\n",
              "        text-align: right;\n",
              "    }\n",
              "</style>\n",
              "<table border=\"1\" class=\"dataframe\">\n",
              "  <thead>\n",
              "    <tr style=\"text-align: right;\">\n",
              "      <th></th>\n",
              "      <th>Title</th>\n",
              "      <th>Genre</th>\n",
              "    </tr>\n",
              "  </thead>\n",
              "  <tbody>\n",
              "    <tr>\n",
              "      <th>0</th>\n",
              "      <td>Enter the Anime</td>\n",
              "      <td>Documentary</td>\n",
              "    </tr>\n",
              "  </tbody>\n",
              "</table>\n",
              "</div>"
            ],
            "text/plain": [
              "             Title        Genre\n",
              "0  Enter the Anime  Documentary"
            ]
          },
          "metadata": {},
          "execution_count": 39
        }
      ]
    },
    {
      "cell_type": "code",
      "metadata": {
        "id": "2wq5HenMxeob"
      },
      "source": [
        "#correlation between runtime and imdb score"
      ],
      "execution_count": 40,
      "outputs": []
    },
    {
      "cell_type": "code",
      "metadata": {
        "colab": {
          "base_uri": "https://localhost:8080/"
        },
        "id": "32rRFpwXxpdj",
        "outputId": "4d6d8c9e-0887-41a0-fac9-a3beecea50d0"
      },
      "source": [
        "df[\"Runtime\"].corr(df[\"IMDB Score\"])"
      ],
      "execution_count": 41,
      "outputs": [
        {
          "output_type": "execute_result",
          "data": {
            "text/plain": [
              "-0.04089629142078858"
            ]
          },
          "metadata": {},
          "execution_count": 41
        }
      ]
    },
    {
      "cell_type": "code",
      "metadata": {
        "colab": {
          "base_uri": "https://localhost:8080/",
          "height": 111
        },
        "id": "BL_ukKc8xvRQ",
        "outputId": "5b181cf3-00d0-4240-bcd4-519e5d96ff18"
      },
      "source": [
        "df[[\"IMDB Score\", \"Runtime\"]].corr()"
      ],
      "execution_count": 42,
      "outputs": [
        {
          "output_type": "execute_result",
          "data": {
            "text/html": [
              "<div>\n",
              "<style scoped>\n",
              "    .dataframe tbody tr th:only-of-type {\n",
              "        vertical-align: middle;\n",
              "    }\n",
              "\n",
              "    .dataframe tbody tr th {\n",
              "        vertical-align: top;\n",
              "    }\n",
              "\n",
              "    .dataframe thead th {\n",
              "        text-align: right;\n",
              "    }\n",
              "</style>\n",
              "<table border=\"1\" class=\"dataframe\">\n",
              "  <thead>\n",
              "    <tr style=\"text-align: right;\">\n",
              "      <th></th>\n",
              "      <th>IMDB Score</th>\n",
              "      <th>Runtime</th>\n",
              "    </tr>\n",
              "  </thead>\n",
              "  <tbody>\n",
              "    <tr>\n",
              "      <th>IMDB Score</th>\n",
              "      <td>1.000000</td>\n",
              "      <td>-0.040896</td>\n",
              "    </tr>\n",
              "    <tr>\n",
              "      <th>Runtime</th>\n",
              "      <td>-0.040896</td>\n",
              "      <td>1.000000</td>\n",
              "    </tr>\n",
              "  </tbody>\n",
              "</table>\n",
              "</div>"
            ],
            "text/plain": [
              "            IMDB Score   Runtime\n",
              "IMDB Score    1.000000 -0.040896\n",
              "Runtime      -0.040896  1.000000"
            ]
          },
          "metadata": {},
          "execution_count": 42
        }
      ]
    },
    {
      "cell_type": "code",
      "metadata": {
        "colab": {
          "base_uri": "https://localhost:8080/",
          "height": 617
        },
        "id": "d-1Orswix34R",
        "outputId": "85cd4a2e-b871-49c3-f4e5-2ca479b733b8"
      },
      "source": [
        "fig = px.scatter(data_frame=df, x=\"IMDB Score\", y=\"Runtime\")\n",
        "fig.update_layout(autosize=False, width=800, height=600,)\n",
        "\n",
        "fig.show()"
      ],
      "execution_count": 43,
      "outputs": [
        {
          "output_type": "display_data",
          "data": {
            "text/html": [
              "<html>\n",
              "<head><meta charset=\"utf-8\" /></head>\n",
              "<body>\n",
              "    <div>\n",
              "            <script src=\"https://cdnjs.cloudflare.com/ajax/libs/mathjax/2.7.5/MathJax.js?config=TeX-AMS-MML_SVG\"></script><script type=\"text/javascript\">if (window.MathJax) {MathJax.Hub.Config({SVG: {font: \"STIX-Web\"}});}</script>\n",
              "                <script type=\"text/javascript\">window.PlotlyConfig = {MathJaxConfig: 'local'};</script>\n",
              "        <script src=\"https://cdn.plot.ly/plotly-latest.min.js\"></script>    \n",
              "            <div id=\"b04338dc-f780-40cd-922a-c69ecef8741e\" class=\"plotly-graph-div\" style=\"height:600px; width:800px;\"></div>\n",
              "            <script type=\"text/javascript\">\n",
              "                \n",
              "                    window.PLOTLYENV=window.PLOTLYENV || {};\n",
              "                    \n",
              "                if (document.getElementById(\"b04338dc-f780-40cd-922a-c69ecef8741e\")) {\n",
              "                    Plotly.newPlot(\n",
              "                        'b04338dc-f780-40cd-922a-c69ecef8741e',\n",
              "                        [{\"hoverlabel\": {\"namelength\": 0}, \"hovertemplate\": \"IMDB Score=%{x}<br>Runtime=%{y}\", \"legendgroup\": \"\", \"marker\": {\"color\": \"#636efa\", \"symbol\": \"circle\"}, \"mode\": \"markers\", \"name\": \"\", \"showlegend\": false, \"type\": \"scatter\", \"x\": [2.5, 2.6, 2.6, 3.2, 3.4, 3.5, 3.7, 3.7, 3.9, 4.1, 4.1, 4.1, 4.1, 4.2, 4.2, 4.3, 4.3, 4.3, 4.3, 4.4, 4.4, 4.4, 4.4, 4.4, 4.4, 4.5, 4.5, 4.5, 4.5, 4.6, 4.6, 4.6, 4.6, 4.6, 4.6, 4.6, 4.6, 4.7, 4.7, 4.7, 4.7, 4.7, 4.7, 4.8, 4.8, 4.8, 4.8, 4.8, 4.8, 4.8, 4.9, 4.9, 4.9, 4.9, 5.0, 5.0, 5.0, 5.0, 5.0, 5.1, 5.1, 5.1, 5.1, 5.1, 5.1, 5.2, 5.2, 5.2, 5.2, 5.2, 5.2, 5.2, 5.2, 5.2, 5.2, 5.2, 5.2, 5.2, 5.2, 5.2, 5.2, 5.2, 5.2, 5.2, 5.3, 5.3, 5.3, 5.3, 5.3, 5.3, 5.3, 5.3, 5.3, 5.3, 5.4, 5.4, 5.4, 5.4, 5.4, 5.4, 5.4, 5.4, 5.4, 5.4, 5.4, 5.4, 5.4, 5.5, 5.5, 5.5, 5.5, 5.5, 5.5, 5.5, 5.5, 5.5, 5.5, 5.5, 5.5, 5.5, 5.5, 5.5, 5.5, 5.5, 5.5, 5.5, 5.6, 5.6, 5.6, 5.6, 5.6, 5.6, 5.6, 5.6, 5.6, 5.6, 5.6, 5.6, 5.6, 5.6, 5.6, 5.7, 5.7, 5.7, 5.7, 5.7, 5.7, 5.7, 5.7, 5.7, 5.7, 5.7, 5.7, 5.7, 5.7, 5.7, 5.7, 5.7, 5.7, 5.7, 5.7, 5.8, 5.8, 5.8, 5.8, 5.8, 5.8, 5.8, 5.8, 5.8, 5.8, 5.8, 5.8, 5.8, 5.8, 5.8, 5.8, 5.8, 5.8, 5.8, 5.8, 5.8, 5.8, 5.8, 5.8, 5.8, 5.8, 5.8, 5.8, 5.8, 5.8, 5.9, 5.9, 5.9, 5.9, 5.9, 5.9, 5.9, 5.9, 5.9, 5.9, 5.9, 5.9, 5.9, 5.9, 5.9, 5.9, 6.0, 6.0, 6.0, 6.0, 6.0, 6.0, 6.0, 6.0, 6.0, 6.0, 6.0, 6.0, 6.0, 6.1, 6.1, 6.1, 6.1, 6.1, 6.1, 6.1, 6.1, 6.1, 6.1, 6.1, 6.1, 6.1, 6.1, 6.1, 6.1, 6.1, 6.1, 6.1, 6.1, 6.1, 6.1, 6.1, 6.1, 6.2, 6.2, 6.2, 6.2, 6.2, 6.2, 6.2, 6.2, 6.2, 6.2, 6.2, 6.2, 6.2, 6.2, 6.2, 6.2, 6.2, 6.2, 6.3, 6.3, 6.3, 6.3, 6.3, 6.3, 6.3, 6.3, 6.3, 6.3, 6.3, 6.3, 6.3, 6.3, 6.3, 6.3, 6.3, 6.3, 6.3, 6.3, 6.3, 6.3, 6.3, 6.3, 6.3, 6.3, 6.3, 6.3, 6.3, 6.3, 6.4, 6.4, 6.4, 6.4, 6.4, 6.4, 6.4, 6.4, 6.4, 6.4, 6.4, 6.4, 6.4, 6.4, 6.4, 6.4, 6.4, 6.4, 6.4, 6.4, 6.4, 6.4, 6.4, 6.4, 6.4, 6.4, 6.4, 6.4, 6.5, 6.5, 6.5, 6.5, 6.5, 6.5, 6.5, 6.5, 6.5, 6.5, 6.5, 6.5, 6.5, 6.5, 6.5, 6.5, 6.5, 6.5, 6.5, 6.5, 6.5, 6.5, 6.5, 6.5, 6.5, 6.5, 6.6, 6.6, 6.6, 6.6, 6.6, 6.6, 6.6, 6.6, 6.6, 6.6, 6.6, 6.6, 6.6, 6.6, 6.6, 6.6, 6.6, 6.6, 6.7, 6.7, 6.7, 6.7, 6.7, 6.7, 6.7, 6.7, 6.7, 6.7, 6.7, 6.7, 6.7, 6.7, 6.7, 6.7, 6.7, 6.7, 6.7, 6.7, 6.7, 6.7, 6.7, 6.7, 6.7, 6.8, 6.8, 6.8, 6.8, 6.8, 6.8, 6.8, 6.8, 6.8, 6.8, 6.8, 6.8, 6.8, 6.8, 6.8, 6.8, 6.8, 6.8, 6.8, 6.8, 6.8, 6.8, 6.8, 6.8, 6.9, 6.9, 6.9, 6.9, 6.9, 6.9, 6.9, 6.9, 6.9, 6.9, 6.9, 6.9, 6.9, 6.9, 6.9, 6.9, 6.9, 6.9, 6.9, 7.0, 7.0, 7.0, 7.0, 7.0, 7.0, 7.0, 7.0, 7.0, 7.0, 7.0, 7.0, 7.0, 7.0, 7.0, 7.0, 7.0, 7.0, 7.0, 7.1, 7.1, 7.1, 7.1, 7.1, 7.1, 7.1, 7.1, 7.1, 7.1, 7.1, 7.1, 7.1, 7.1, 7.1, 7.1, 7.1, 7.1, 7.1, 7.1, 7.1, 7.1, 7.1, 7.1, 7.1, 7.1, 7.1, 7.1, 7.2, 7.2, 7.2, 7.2, 7.2, 7.2, 7.2, 7.2, 7.2, 7.2, 7.2, 7.2, 7.2, 7.2, 7.2, 7.2, 7.2, 7.2, 7.2, 7.2, 7.3, 7.3, 7.3, 7.3, 7.3, 7.3, 7.3, 7.3, 7.3, 7.3, 7.3, 7.3, 7.3, 7.3, 7.3, 7.3, 7.3, 7.3, 7.3, 7.3, 7.3, 7.4, 7.4, 7.4, 7.4, 7.4, 7.4, 7.4, 7.4, 7.4, 7.4, 7.4, 7.4, 7.5, 7.5, 7.5, 7.5, 7.5, 7.5, 7.5, 7.5, 7.5, 7.5, 7.6, 7.6, 7.6, 7.6, 7.6, 7.6, 7.6, 7.6, 7.6, 7.6, 7.7, 7.7, 7.7, 7.7, 7.7, 7.7, 7.7, 7.7, 7.8, 7.8, 7.8, 7.9, 7.9, 7.9, 7.9, 8.0, 8.1, 8.1, 8.1, 8.2, 8.2, 8.2, 8.2, 8.2, 8.3, 8.3, 8.4, 8.4, 8.4, 8.5, 8.6, 9.0], \"xaxis\": \"x\", \"y\": [58, 81, 79, 94, 90, 147, 112, 149, 73, 139, 58, 112, 97, 101, 90, 25, 144, 115, 102, 100, 64, 97, 99, 120, 105, 89, 97, 107, 99, 95, 37, 89, 83, 46, 85, 88, 86, 105, 95, 80, 4, 93, 100, 106, 97, 106, 103, 80, 101, 119, 80, 89, 94, 93, 96, 113, 86, 100, 102, 86, 104, 88, 97, 105, 90, 99, 10, 106, 98, 94, 112, 117, 70, 81, 103, 94, 98, 131, 87, 60, 112, 102, 99, 116, 92, 83, 97, 112, 116, 102, 121, 95, 93, 92, 98, 85, 78, 120, 92, 101, 119, 101, 112, 96, 114, 97, 101, 56, 100, 94, 94, 21, 104, 63, 100, 126, 106, 86, 142, 108, 102, 92, 83, 94, 92, 103, 89, 95, 103, 97, 125, 91, 90, 49, 98, 107, 118, 94, 103, 86, 83, 97, 99, 104, 102, 89, 98, 125, 89, 94, 94, 85, 34, 86, 91, 108, 95, 100, 90, 112, 86, 124, 107, 92, 121, 90, 104, 92, 114, 98, 95, 78, 107, 92, 95, 96, 118, 105, 94, 52, 105, 95, 100, 97, 89, 102, 96, 131, 89, 93, 111, 75, 120, 96, 148, 94, 107, 32, 104, 23, 111, 83, 53, 95, 132, 98, 108, 106, 104, 90, 106, 90, 97, 113, 123, 115, 105, 101, 102, 122, 128, 82, 102, 80, 94, 123, 104, 85, 84, 103, 95, 100, 89, 116, 118, 96, 114, 99, 87, 92, 90, 95, 96, 93, 42, 92, 106, 151, 101, 114, 90, 115, 92, 72, 139, 98, 92, 111, 98, 104, 95, 88, 102, 30, 99, 129, 87, 117, 104, 111, 107, 97, 98, 90, 101, 72, 83, 118, 44, 113, 86, 108, 85, 102, 151, 98, 87, 120, 134, 109, 85, 103, 94, 97, 88, 37, 112, 102, 100, 96, 113, 16, 119, 97, 81, 98, 95, 96, 107, 41, 87, 101, 97, 103, 90, 125, 116, 99, 82, 97, 28, 108, 93, 74, 60, 9, 21, 100, 155, 55, 123, 103, 93, 119, 40, 120, 98, 104, 91, 95, 101, 105, 83, 91, 83, 17, 86, 124, 94, 102, 118, 79, 134, 126, 98, 89, 58, 83, 136, 98, 114, 99, 130, 32, 104, 142, 92, 86, 106, 95, 91, 89, 117, 90, 117, 80, 87, 101, 19, 106, 54, 111, 132, 97, 106, 111, 124, 116, 112, 144, 76, 101, 92, 19, 39, 102, 89, 105, 101, 70, 96, 85, 39, 79, 73, 114, 121, 28, 95, 122, 23, 107, 98, 108, 92, 100, 97, 7, 96, 100, 132, 103, 121, 114, 57, 95, 83, 17, 105, 131, 30, 112, 86, 100, 14, 109, 28, 64, 94, 31, 99, 108, 48, 84, 70, 27, 45, 117, 104, 108, 121, 36, 30, 47, 110, 92, 80, 49, 73, 40, 96, 106, 97, 94, 78, 81, 87, 91, 91, 95, 126, 31, 58, 41, 138, 112, 114, 125, 99, 82, 98, 136, 97, 107, 92, 39, 133, 89, 124, 99, 101, 97, 124, 129, 121, 140, 13, 108, 11, 118, 121, 24, 100, 101, 105, 96, 47, 121, 100, 149, 64, 64, 114, 15, 79, 90, 132, 105, 97, 83, 110, 39, 40, 85, 26, 87, 97, 118, 23, 40, 98, 80, 108, 79, 74, 90, 137, 71, 98, 70, 99, 40, 104, 149, 124, 144, 85, 100, 94, 125, 84, 117, 15, 136, 76, 108, 94, 90, 72, 135, 12, 209, 130, 82, 120, 136, 112, 105, 89, 85, 106, 100, 107, 97, 89, 109, 114, 51, 85, 125, 91, 153, 89, 83], \"yaxis\": \"y\"}],\n",
              "                        {\"autosize\": false, \"height\": 600, \"legend\": {\"tracegroupgap\": 0}, \"margin\": {\"t\": 60}, \"template\": {\"data\": {\"bar\": [{\"error_x\": {\"color\": \"#2a3f5f\"}, \"error_y\": {\"color\": \"#2a3f5f\"}, \"marker\": {\"line\": {\"color\": \"#E5ECF6\", \"width\": 0.5}}, \"type\": \"bar\"}], \"barpolar\": [{\"marker\": {\"line\": {\"color\": \"#E5ECF6\", \"width\": 0.5}}, \"type\": \"barpolar\"}], \"carpet\": [{\"aaxis\": {\"endlinecolor\": \"#2a3f5f\", \"gridcolor\": \"white\", \"linecolor\": \"white\", \"minorgridcolor\": \"white\", \"startlinecolor\": \"#2a3f5f\"}, \"baxis\": {\"endlinecolor\": \"#2a3f5f\", \"gridcolor\": \"white\", \"linecolor\": \"white\", \"minorgridcolor\": \"white\", \"startlinecolor\": \"#2a3f5f\"}, \"type\": \"carpet\"}], \"choropleth\": [{\"colorbar\": {\"outlinewidth\": 0, \"ticks\": \"\"}, \"type\": \"choropleth\"}], \"contour\": [{\"colorbar\": {\"outlinewidth\": 0, \"ticks\": \"\"}, \"colorscale\": [[0.0, \"#0d0887\"], [0.1111111111111111, \"#46039f\"], [0.2222222222222222, \"#7201a8\"], [0.3333333333333333, \"#9c179e\"], [0.4444444444444444, \"#bd3786\"], [0.5555555555555556, \"#d8576b\"], [0.6666666666666666, \"#ed7953\"], [0.7777777777777778, \"#fb9f3a\"], [0.8888888888888888, \"#fdca26\"], [1.0, \"#f0f921\"]], \"type\": \"contour\"}], \"contourcarpet\": [{\"colorbar\": {\"outlinewidth\": 0, \"ticks\": \"\"}, \"type\": \"contourcarpet\"}], \"heatmap\": [{\"colorbar\": {\"outlinewidth\": 0, \"ticks\": \"\"}, \"colorscale\": [[0.0, \"#0d0887\"], [0.1111111111111111, \"#46039f\"], [0.2222222222222222, \"#7201a8\"], [0.3333333333333333, \"#9c179e\"], [0.4444444444444444, \"#bd3786\"], [0.5555555555555556, \"#d8576b\"], [0.6666666666666666, \"#ed7953\"], [0.7777777777777778, \"#fb9f3a\"], [0.8888888888888888, \"#fdca26\"], [1.0, \"#f0f921\"]], \"type\": \"heatmap\"}], \"heatmapgl\": [{\"colorbar\": {\"outlinewidth\": 0, \"ticks\": \"\"}, \"colorscale\": [[0.0, \"#0d0887\"], [0.1111111111111111, \"#46039f\"], [0.2222222222222222, \"#7201a8\"], [0.3333333333333333, \"#9c179e\"], [0.4444444444444444, \"#bd3786\"], [0.5555555555555556, \"#d8576b\"], [0.6666666666666666, \"#ed7953\"], [0.7777777777777778, \"#fb9f3a\"], [0.8888888888888888, \"#fdca26\"], [1.0, \"#f0f921\"]], \"type\": \"heatmapgl\"}], \"histogram\": [{\"marker\": {\"colorbar\": {\"outlinewidth\": 0, \"ticks\": \"\"}}, \"type\": \"histogram\"}], \"histogram2d\": [{\"colorbar\": {\"outlinewidth\": 0, \"ticks\": \"\"}, \"colorscale\": [[0.0, \"#0d0887\"], [0.1111111111111111, \"#46039f\"], [0.2222222222222222, \"#7201a8\"], [0.3333333333333333, \"#9c179e\"], [0.4444444444444444, \"#bd3786\"], [0.5555555555555556, \"#d8576b\"], [0.6666666666666666, \"#ed7953\"], [0.7777777777777778, \"#fb9f3a\"], [0.8888888888888888, \"#fdca26\"], [1.0, \"#f0f921\"]], \"type\": \"histogram2d\"}], \"histogram2dcontour\": [{\"colorbar\": {\"outlinewidth\": 0, \"ticks\": \"\"}, \"colorscale\": [[0.0, \"#0d0887\"], [0.1111111111111111, \"#46039f\"], [0.2222222222222222, \"#7201a8\"], [0.3333333333333333, \"#9c179e\"], [0.4444444444444444, \"#bd3786\"], [0.5555555555555556, \"#d8576b\"], [0.6666666666666666, \"#ed7953\"], [0.7777777777777778, \"#fb9f3a\"], [0.8888888888888888, \"#fdca26\"], [1.0, \"#f0f921\"]], \"type\": \"histogram2dcontour\"}], \"mesh3d\": [{\"colorbar\": {\"outlinewidth\": 0, \"ticks\": \"\"}, \"type\": \"mesh3d\"}], \"parcoords\": [{\"line\": {\"colorbar\": {\"outlinewidth\": 0, \"ticks\": \"\"}}, \"type\": \"parcoords\"}], \"pie\": [{\"automargin\": true, \"type\": \"pie\"}], \"scatter\": [{\"marker\": {\"colorbar\": {\"outlinewidth\": 0, \"ticks\": \"\"}}, \"type\": \"scatter\"}], \"scatter3d\": [{\"line\": {\"colorbar\": {\"outlinewidth\": 0, \"ticks\": \"\"}}, \"marker\": {\"colorbar\": {\"outlinewidth\": 0, \"ticks\": \"\"}}, \"type\": \"scatter3d\"}], \"scattercarpet\": [{\"marker\": {\"colorbar\": {\"outlinewidth\": 0, \"ticks\": \"\"}}, \"type\": \"scattercarpet\"}], \"scattergeo\": [{\"marker\": {\"colorbar\": {\"outlinewidth\": 0, \"ticks\": \"\"}}, \"type\": \"scattergeo\"}], \"scattergl\": [{\"marker\": {\"colorbar\": {\"outlinewidth\": 0, \"ticks\": \"\"}}, \"type\": \"scattergl\"}], \"scattermapbox\": [{\"marker\": {\"colorbar\": {\"outlinewidth\": 0, \"ticks\": \"\"}}, \"type\": \"scattermapbox\"}], \"scatterpolar\": [{\"marker\": {\"colorbar\": {\"outlinewidth\": 0, \"ticks\": \"\"}}, \"type\": \"scatterpolar\"}], \"scatterpolargl\": [{\"marker\": {\"colorbar\": {\"outlinewidth\": 0, \"ticks\": \"\"}}, \"type\": \"scatterpolargl\"}], \"scatterternary\": [{\"marker\": {\"colorbar\": {\"outlinewidth\": 0, \"ticks\": \"\"}}, \"type\": \"scatterternary\"}], \"surface\": [{\"colorbar\": {\"outlinewidth\": 0, \"ticks\": \"\"}, \"colorscale\": [[0.0, \"#0d0887\"], [0.1111111111111111, \"#46039f\"], [0.2222222222222222, \"#7201a8\"], [0.3333333333333333, \"#9c179e\"], [0.4444444444444444, \"#bd3786\"], [0.5555555555555556, \"#d8576b\"], [0.6666666666666666, \"#ed7953\"], [0.7777777777777778, \"#fb9f3a\"], [0.8888888888888888, \"#fdca26\"], [1.0, \"#f0f921\"]], \"type\": \"surface\"}], \"table\": [{\"cells\": {\"fill\": {\"color\": \"#EBF0F8\"}, \"line\": {\"color\": \"white\"}}, \"header\": {\"fill\": {\"color\": \"#C8D4E3\"}, \"line\": {\"color\": \"white\"}}, \"type\": \"table\"}]}, \"layout\": {\"annotationdefaults\": {\"arrowcolor\": \"#2a3f5f\", \"arrowhead\": 0, \"arrowwidth\": 1}, \"coloraxis\": {\"colorbar\": {\"outlinewidth\": 0, \"ticks\": \"\"}}, \"colorscale\": {\"diverging\": [[0, \"#8e0152\"], [0.1, \"#c51b7d\"], [0.2, \"#de77ae\"], [0.3, \"#f1b6da\"], [0.4, \"#fde0ef\"], [0.5, \"#f7f7f7\"], [0.6, \"#e6f5d0\"], [0.7, \"#b8e186\"], [0.8, \"#7fbc41\"], [0.9, \"#4d9221\"], [1, \"#276419\"]], \"sequential\": [[0.0, \"#0d0887\"], [0.1111111111111111, \"#46039f\"], [0.2222222222222222, \"#7201a8\"], [0.3333333333333333, \"#9c179e\"], [0.4444444444444444, \"#bd3786\"], [0.5555555555555556, \"#d8576b\"], [0.6666666666666666, \"#ed7953\"], [0.7777777777777778, \"#fb9f3a\"], [0.8888888888888888, \"#fdca26\"], [1.0, \"#f0f921\"]], \"sequentialminus\": [[0.0, \"#0d0887\"], [0.1111111111111111, \"#46039f\"], [0.2222222222222222, \"#7201a8\"], [0.3333333333333333, \"#9c179e\"], [0.4444444444444444, \"#bd3786\"], [0.5555555555555556, \"#d8576b\"], [0.6666666666666666, \"#ed7953\"], [0.7777777777777778, \"#fb9f3a\"], [0.8888888888888888, \"#fdca26\"], [1.0, \"#f0f921\"]]}, \"colorway\": [\"#636efa\", \"#EF553B\", \"#00cc96\", \"#ab63fa\", \"#FFA15A\", \"#19d3f3\", \"#FF6692\", \"#B6E880\", \"#FF97FF\", \"#FECB52\"], \"font\": {\"color\": \"#2a3f5f\"}, \"geo\": {\"bgcolor\": \"white\", \"lakecolor\": \"white\", \"landcolor\": \"#E5ECF6\", \"showlakes\": true, \"showland\": true, \"subunitcolor\": \"white\"}, \"hoverlabel\": {\"align\": \"left\"}, \"hovermode\": \"closest\", \"mapbox\": {\"style\": \"light\"}, \"paper_bgcolor\": \"white\", \"plot_bgcolor\": \"#E5ECF6\", \"polar\": {\"angularaxis\": {\"gridcolor\": \"white\", \"linecolor\": \"white\", \"ticks\": \"\"}, \"bgcolor\": \"#E5ECF6\", \"radialaxis\": {\"gridcolor\": \"white\", \"linecolor\": \"white\", \"ticks\": \"\"}}, \"scene\": {\"xaxis\": {\"backgroundcolor\": \"#E5ECF6\", \"gridcolor\": \"white\", \"gridwidth\": 2, \"linecolor\": \"white\", \"showbackground\": true, \"ticks\": \"\", \"zerolinecolor\": \"white\"}, \"yaxis\": {\"backgroundcolor\": \"#E5ECF6\", \"gridcolor\": \"white\", \"gridwidth\": 2, \"linecolor\": \"white\", \"showbackground\": true, \"ticks\": \"\", \"zerolinecolor\": \"white\"}, \"zaxis\": {\"backgroundcolor\": \"#E5ECF6\", \"gridcolor\": \"white\", \"gridwidth\": 2, \"linecolor\": \"white\", \"showbackground\": true, \"ticks\": \"\", \"zerolinecolor\": \"white\"}}, \"shapedefaults\": {\"line\": {\"color\": \"#2a3f5f\"}}, \"ternary\": {\"aaxis\": {\"gridcolor\": \"white\", \"linecolor\": \"white\", \"ticks\": \"\"}, \"baxis\": {\"gridcolor\": \"white\", \"linecolor\": \"white\", \"ticks\": \"\"}, \"bgcolor\": \"#E5ECF6\", \"caxis\": {\"gridcolor\": \"white\", \"linecolor\": \"white\", \"ticks\": \"\"}}, \"title\": {\"x\": 0.05}, \"xaxis\": {\"automargin\": true, \"gridcolor\": \"white\", \"linecolor\": \"white\", \"ticks\": \"\", \"title\": {\"standoff\": 15}, \"zerolinecolor\": \"white\", \"zerolinewidth\": 2}, \"yaxis\": {\"automargin\": true, \"gridcolor\": \"white\", \"linecolor\": \"white\", \"ticks\": \"\", \"title\": {\"standoff\": 15}, \"zerolinecolor\": \"white\", \"zerolinewidth\": 2}}}, \"width\": 800, \"xaxis\": {\"anchor\": \"y\", \"domain\": [0.0, 1.0], \"title\": {\"text\": \"IMDB Score\"}}, \"yaxis\": {\"anchor\": \"x\", \"domain\": [0.0, 1.0], \"title\": {\"text\": \"Runtime\"}}},\n",
              "                        {\"responsive\": true}\n",
              "                    ).then(function(){\n",
              "                            \n",
              "var gd = document.getElementById('b04338dc-f780-40cd-922a-c69ecef8741e');\n",
              "var x = new MutationObserver(function (mutations, observer) {{\n",
              "        var display = window.getComputedStyle(gd).display;\n",
              "        if (!display || display === 'none') {{\n",
              "            console.log([gd, 'removed!']);\n",
              "            Plotly.purge(gd);\n",
              "            observer.disconnect();\n",
              "        }}\n",
              "}});\n",
              "\n",
              "// Listen for the removal of the full notebook cells\n",
              "var notebookContainer = gd.closest('#notebook-container');\n",
              "if (notebookContainer) {{\n",
              "    x.observe(notebookContainer, {childList: true});\n",
              "}}\n",
              "\n",
              "// Listen for the clearing of the current output cell\n",
              "var outputEl = gd.closest('.output');\n",
              "if (outputEl) {{\n",
              "    x.observe(outputEl, {childList: true});\n",
              "}}\n",
              "\n",
              "                        })\n",
              "                };\n",
              "                \n",
              "            </script>\n",
              "        </div>\n",
              "</body>\n",
              "</html>"
            ]
          },
          "metadata": {}
        }
      ]
    },
    {
      "cell_type": "code",
      "metadata": {
        "id": "_ZC68m86yAnB"
      },
      "source": [
        "#Year"
      ],
      "execution_count": 44,
      "outputs": []
    },
    {
      "cell_type": "code",
      "metadata": {
        "colab": {
          "base_uri": "https://localhost:8080/"
        },
        "id": "loMMRr8LyE1K",
        "outputId": "338ef90a-dbdc-4300-d089-768cec3a0515"
      },
      "source": [
        "year = df.Year.value_counts()\n",
        "year"
      ],
      "execution_count": 45,
      "outputs": [
        {
          "output_type": "execute_result",
          "data": {
            "text/plain": [
              "2020    183\n",
              "2019    125\n",
              "2018     99\n",
              "2021     71\n",
              "2017     66\n",
              "2016     30\n",
              "2015      9\n",
              "2014      1\n",
              "Name: Year, dtype: int64"
            ]
          },
          "metadata": {},
          "execution_count": 45
        }
      ]
    },
    {
      "cell_type": "code",
      "metadata": {
        "colab": {
          "base_uri": "https://localhost:8080/",
          "height": 542
        },
        "id": "32s7tkhryJtq",
        "outputId": "103ee6b7-4be9-48de-cd90-11a426ab42df"
      },
      "source": [
        "fig = px.bar(data_frame=df, x=year.index, y=year.values, labels={\"y\":\"Movies\", \"x\":\"Year\"})\n",
        "fig.update_layout(xaxis={'categoryorder':'total descending'})\n",
        "\n",
        "fig.show()"
      ],
      "execution_count": 47,
      "outputs": [
        {
          "output_type": "display_data",
          "data": {
            "text/html": [
              "<html>\n",
              "<head><meta charset=\"utf-8\" /></head>\n",
              "<body>\n",
              "    <div>\n",
              "            <script src=\"https://cdnjs.cloudflare.com/ajax/libs/mathjax/2.7.5/MathJax.js?config=TeX-AMS-MML_SVG\"></script><script type=\"text/javascript\">if (window.MathJax) {MathJax.Hub.Config({SVG: {font: \"STIX-Web\"}});}</script>\n",
              "                <script type=\"text/javascript\">window.PlotlyConfig = {MathJaxConfig: 'local'};</script>\n",
              "        <script src=\"https://cdn.plot.ly/plotly-latest.min.js\"></script>    \n",
              "            <div id=\"1a9c3fb3-9f30-450b-b05f-62f555f5637c\" class=\"plotly-graph-div\" style=\"height:525px; width:100%;\"></div>\n",
              "            <script type=\"text/javascript\">\n",
              "                \n",
              "                    window.PLOTLYENV=window.PLOTLYENV || {};\n",
              "                    \n",
              "                if (document.getElementById(\"1a9c3fb3-9f30-450b-b05f-62f555f5637c\")) {\n",
              "                    Plotly.newPlot(\n",
              "                        '1a9c3fb3-9f30-450b-b05f-62f555f5637c',\n",
              "                        [{\"alignmentgroup\": \"True\", \"hoverlabel\": {\"namelength\": 0}, \"hovertemplate\": \"Year=%{x}<br>Movies=%{y}\", \"legendgroup\": \"\", \"marker\": {\"color\": \"#636efa\"}, \"name\": \"\", \"offsetgroup\": \"\", \"orientation\": \"v\", \"showlegend\": false, \"textposition\": \"auto\", \"type\": \"bar\", \"x\": [2020, 2019, 2018, 2021, 2017, 2016, 2015, 2014], \"xaxis\": \"x\", \"y\": [183, 125, 99, 71, 66, 30, 9, 1], \"yaxis\": \"y\"}],\n",
              "                        {\"barmode\": \"relative\", \"legend\": {\"tracegroupgap\": 0}, \"margin\": {\"t\": 60}, \"template\": {\"data\": {\"bar\": [{\"error_x\": {\"color\": \"#2a3f5f\"}, \"error_y\": {\"color\": \"#2a3f5f\"}, \"marker\": {\"line\": {\"color\": \"#E5ECF6\", \"width\": 0.5}}, \"type\": \"bar\"}], \"barpolar\": [{\"marker\": {\"line\": {\"color\": \"#E5ECF6\", \"width\": 0.5}}, \"type\": \"barpolar\"}], \"carpet\": [{\"aaxis\": {\"endlinecolor\": \"#2a3f5f\", \"gridcolor\": \"white\", \"linecolor\": \"white\", \"minorgridcolor\": \"white\", \"startlinecolor\": \"#2a3f5f\"}, \"baxis\": {\"endlinecolor\": \"#2a3f5f\", \"gridcolor\": \"white\", \"linecolor\": \"white\", \"minorgridcolor\": \"white\", \"startlinecolor\": \"#2a3f5f\"}, \"type\": \"carpet\"}], \"choropleth\": [{\"colorbar\": {\"outlinewidth\": 0, \"ticks\": \"\"}, \"type\": \"choropleth\"}], \"contour\": [{\"colorbar\": {\"outlinewidth\": 0, \"ticks\": \"\"}, \"colorscale\": [[0.0, \"#0d0887\"], [0.1111111111111111, \"#46039f\"], [0.2222222222222222, \"#7201a8\"], [0.3333333333333333, \"#9c179e\"], [0.4444444444444444, \"#bd3786\"], [0.5555555555555556, \"#d8576b\"], [0.6666666666666666, \"#ed7953\"], [0.7777777777777778, \"#fb9f3a\"], [0.8888888888888888, \"#fdca26\"], [1.0, \"#f0f921\"]], \"type\": \"contour\"}], \"contourcarpet\": [{\"colorbar\": {\"outlinewidth\": 0, \"ticks\": \"\"}, \"type\": \"contourcarpet\"}], \"heatmap\": [{\"colorbar\": {\"outlinewidth\": 0, \"ticks\": \"\"}, \"colorscale\": [[0.0, \"#0d0887\"], [0.1111111111111111, \"#46039f\"], [0.2222222222222222, \"#7201a8\"], [0.3333333333333333, \"#9c179e\"], [0.4444444444444444, \"#bd3786\"], [0.5555555555555556, \"#d8576b\"], [0.6666666666666666, \"#ed7953\"], [0.7777777777777778, \"#fb9f3a\"], [0.8888888888888888, \"#fdca26\"], [1.0, \"#f0f921\"]], \"type\": \"heatmap\"}], \"heatmapgl\": [{\"colorbar\": {\"outlinewidth\": 0, \"ticks\": \"\"}, \"colorscale\": [[0.0, \"#0d0887\"], [0.1111111111111111, \"#46039f\"], [0.2222222222222222, \"#7201a8\"], [0.3333333333333333, \"#9c179e\"], [0.4444444444444444, \"#bd3786\"], [0.5555555555555556, \"#d8576b\"], [0.6666666666666666, \"#ed7953\"], [0.7777777777777778, \"#fb9f3a\"], [0.8888888888888888, \"#fdca26\"], [1.0, \"#f0f921\"]], \"type\": \"heatmapgl\"}], \"histogram\": [{\"marker\": {\"colorbar\": {\"outlinewidth\": 0, \"ticks\": \"\"}}, \"type\": \"histogram\"}], \"histogram2d\": [{\"colorbar\": {\"outlinewidth\": 0, \"ticks\": \"\"}, \"colorscale\": [[0.0, \"#0d0887\"], [0.1111111111111111, \"#46039f\"], [0.2222222222222222, \"#7201a8\"], [0.3333333333333333, \"#9c179e\"], [0.4444444444444444, \"#bd3786\"], [0.5555555555555556, \"#d8576b\"], [0.6666666666666666, \"#ed7953\"], [0.7777777777777778, \"#fb9f3a\"], [0.8888888888888888, \"#fdca26\"], [1.0, \"#f0f921\"]], \"type\": \"histogram2d\"}], \"histogram2dcontour\": [{\"colorbar\": {\"outlinewidth\": 0, \"ticks\": \"\"}, \"colorscale\": [[0.0, \"#0d0887\"], [0.1111111111111111, \"#46039f\"], [0.2222222222222222, \"#7201a8\"], [0.3333333333333333, \"#9c179e\"], [0.4444444444444444, \"#bd3786\"], [0.5555555555555556, \"#d8576b\"], [0.6666666666666666, \"#ed7953\"], [0.7777777777777778, \"#fb9f3a\"], [0.8888888888888888, \"#fdca26\"], [1.0, \"#f0f921\"]], \"type\": \"histogram2dcontour\"}], \"mesh3d\": [{\"colorbar\": {\"outlinewidth\": 0, \"ticks\": \"\"}, \"type\": \"mesh3d\"}], \"parcoords\": [{\"line\": {\"colorbar\": {\"outlinewidth\": 0, \"ticks\": \"\"}}, \"type\": \"parcoords\"}], \"pie\": [{\"automargin\": true, \"type\": \"pie\"}], \"scatter\": [{\"marker\": {\"colorbar\": {\"outlinewidth\": 0, \"ticks\": \"\"}}, \"type\": \"scatter\"}], \"scatter3d\": [{\"line\": {\"colorbar\": {\"outlinewidth\": 0, \"ticks\": \"\"}}, \"marker\": {\"colorbar\": {\"outlinewidth\": 0, \"ticks\": \"\"}}, \"type\": \"scatter3d\"}], \"scattercarpet\": [{\"marker\": {\"colorbar\": {\"outlinewidth\": 0, \"ticks\": \"\"}}, \"type\": \"scattercarpet\"}], \"scattergeo\": [{\"marker\": {\"colorbar\": {\"outlinewidth\": 0, \"ticks\": \"\"}}, \"type\": \"scattergeo\"}], \"scattergl\": [{\"marker\": {\"colorbar\": {\"outlinewidth\": 0, \"ticks\": \"\"}}, \"type\": \"scattergl\"}], \"scattermapbox\": [{\"marker\": {\"colorbar\": {\"outlinewidth\": 0, \"ticks\": \"\"}}, \"type\": \"scattermapbox\"}], \"scatterpolar\": [{\"marker\": {\"colorbar\": {\"outlinewidth\": 0, \"ticks\": \"\"}}, \"type\": \"scatterpolar\"}], \"scatterpolargl\": [{\"marker\": {\"colorbar\": {\"outlinewidth\": 0, \"ticks\": \"\"}}, \"type\": \"scatterpolargl\"}], \"scatterternary\": [{\"marker\": {\"colorbar\": {\"outlinewidth\": 0, \"ticks\": \"\"}}, \"type\": \"scatterternary\"}], \"surface\": [{\"colorbar\": {\"outlinewidth\": 0, \"ticks\": \"\"}, \"colorscale\": [[0.0, \"#0d0887\"], [0.1111111111111111, \"#46039f\"], [0.2222222222222222, \"#7201a8\"], [0.3333333333333333, \"#9c179e\"], [0.4444444444444444, \"#bd3786\"], [0.5555555555555556, \"#d8576b\"], [0.6666666666666666, \"#ed7953\"], [0.7777777777777778, \"#fb9f3a\"], [0.8888888888888888, \"#fdca26\"], [1.0, \"#f0f921\"]], \"type\": \"surface\"}], \"table\": [{\"cells\": {\"fill\": {\"color\": \"#EBF0F8\"}, \"line\": {\"color\": \"white\"}}, \"header\": {\"fill\": {\"color\": \"#C8D4E3\"}, \"line\": {\"color\": \"white\"}}, \"type\": \"table\"}]}, \"layout\": {\"annotationdefaults\": {\"arrowcolor\": \"#2a3f5f\", \"arrowhead\": 0, \"arrowwidth\": 1}, \"coloraxis\": {\"colorbar\": {\"outlinewidth\": 0, \"ticks\": \"\"}}, \"colorscale\": {\"diverging\": [[0, \"#8e0152\"], [0.1, \"#c51b7d\"], [0.2, \"#de77ae\"], [0.3, \"#f1b6da\"], [0.4, \"#fde0ef\"], [0.5, \"#f7f7f7\"], [0.6, \"#e6f5d0\"], [0.7, \"#b8e186\"], [0.8, \"#7fbc41\"], [0.9, \"#4d9221\"], [1, \"#276419\"]], \"sequential\": [[0.0, \"#0d0887\"], [0.1111111111111111, \"#46039f\"], [0.2222222222222222, \"#7201a8\"], [0.3333333333333333, \"#9c179e\"], [0.4444444444444444, \"#bd3786\"], [0.5555555555555556, \"#d8576b\"], [0.6666666666666666, \"#ed7953\"], [0.7777777777777778, \"#fb9f3a\"], [0.8888888888888888, \"#fdca26\"], [1.0, \"#f0f921\"]], \"sequentialminus\": [[0.0, \"#0d0887\"], [0.1111111111111111, \"#46039f\"], [0.2222222222222222, \"#7201a8\"], [0.3333333333333333, \"#9c179e\"], [0.4444444444444444, \"#bd3786\"], [0.5555555555555556, \"#d8576b\"], [0.6666666666666666, \"#ed7953\"], [0.7777777777777778, \"#fb9f3a\"], [0.8888888888888888, \"#fdca26\"], [1.0, \"#f0f921\"]]}, \"colorway\": [\"#636efa\", \"#EF553B\", \"#00cc96\", \"#ab63fa\", \"#FFA15A\", \"#19d3f3\", \"#FF6692\", \"#B6E880\", \"#FF97FF\", \"#FECB52\"], \"font\": {\"color\": \"#2a3f5f\"}, \"geo\": {\"bgcolor\": \"white\", \"lakecolor\": \"white\", \"landcolor\": \"#E5ECF6\", \"showlakes\": true, \"showland\": true, \"subunitcolor\": \"white\"}, \"hoverlabel\": {\"align\": \"left\"}, \"hovermode\": \"closest\", \"mapbox\": {\"style\": \"light\"}, \"paper_bgcolor\": \"white\", \"plot_bgcolor\": \"#E5ECF6\", \"polar\": {\"angularaxis\": {\"gridcolor\": \"white\", \"linecolor\": \"white\", \"ticks\": \"\"}, \"bgcolor\": \"#E5ECF6\", \"radialaxis\": {\"gridcolor\": \"white\", \"linecolor\": \"white\", \"ticks\": \"\"}}, \"scene\": {\"xaxis\": {\"backgroundcolor\": \"#E5ECF6\", \"gridcolor\": \"white\", \"gridwidth\": 2, \"linecolor\": \"white\", \"showbackground\": true, \"ticks\": \"\", \"zerolinecolor\": \"white\"}, \"yaxis\": {\"backgroundcolor\": \"#E5ECF6\", \"gridcolor\": \"white\", \"gridwidth\": 2, \"linecolor\": \"white\", \"showbackground\": true, \"ticks\": \"\", \"zerolinecolor\": \"white\"}, \"zaxis\": {\"backgroundcolor\": \"#E5ECF6\", \"gridcolor\": \"white\", \"gridwidth\": 2, \"linecolor\": \"white\", \"showbackground\": true, \"ticks\": \"\", \"zerolinecolor\": \"white\"}}, \"shapedefaults\": {\"line\": {\"color\": \"#2a3f5f\"}}, \"ternary\": {\"aaxis\": {\"gridcolor\": \"white\", \"linecolor\": \"white\", \"ticks\": \"\"}, \"baxis\": {\"gridcolor\": \"white\", \"linecolor\": \"white\", \"ticks\": \"\"}, \"bgcolor\": \"#E5ECF6\", \"caxis\": {\"gridcolor\": \"white\", \"linecolor\": \"white\", \"ticks\": \"\"}}, \"title\": {\"x\": 0.05}, \"xaxis\": {\"automargin\": true, \"gridcolor\": \"white\", \"linecolor\": \"white\", \"ticks\": \"\", \"title\": {\"standoff\": 15}, \"zerolinecolor\": \"white\", \"zerolinewidth\": 2}, \"yaxis\": {\"automargin\": true, \"gridcolor\": \"white\", \"linecolor\": \"white\", \"ticks\": \"\", \"title\": {\"standoff\": 15}, \"zerolinecolor\": \"white\", \"zerolinewidth\": 2}}}, \"xaxis\": {\"anchor\": \"y\", \"categoryorder\": \"total descending\", \"domain\": [0.0, 1.0], \"title\": {\"text\": \"Year\"}}, \"yaxis\": {\"anchor\": \"x\", \"domain\": [0.0, 1.0], \"title\": {\"text\": \"Movies\"}}},\n",
              "                        {\"responsive\": true}\n",
              "                    ).then(function(){\n",
              "                            \n",
              "var gd = document.getElementById('1a9c3fb3-9f30-450b-b05f-62f555f5637c');\n",
              "var x = new MutationObserver(function (mutations, observer) {{\n",
              "        var display = window.getComputedStyle(gd).display;\n",
              "        if (!display || display === 'none') {{\n",
              "            console.log([gd, 'removed!']);\n",
              "            Plotly.purge(gd);\n",
              "            observer.disconnect();\n",
              "        }}\n",
              "}});\n",
              "\n",
              "// Listen for the removal of the full notebook cells\n",
              "var notebookContainer = gd.closest('#notebook-container');\n",
              "if (notebookContainer) {{\n",
              "    x.observe(notebookContainer, {childList: true});\n",
              "}}\n",
              "\n",
              "// Listen for the clearing of the current output cell\n",
              "var outputEl = gd.closest('.output');\n",
              "if (outputEl) {{\n",
              "    x.observe(outputEl, {childList: true});\n",
              "}}\n",
              "\n",
              "                        })\n",
              "                };\n",
              "                \n",
              "            </script>\n",
              "        </div>\n",
              "</body>\n",
              "</html>"
            ]
          },
          "metadata": {}
        }
      ]
    },
    {
      "cell_type": "code",
      "metadata": {
        "id": "2S2xM_vmyTU0"
      },
      "source": [
        "#months"
      ],
      "execution_count": 48,
      "outputs": []
    },
    {
      "cell_type": "code",
      "metadata": {
        "colab": {
          "base_uri": "https://localhost:8080/"
        },
        "id": "4G8RGeb-yvfV",
        "outputId": "f105424f-1379-45a6-9403-c31608ba5c4e"
      },
      "source": [
        "month = df.Month.value_counts(sort=False)\n",
        "month"
      ],
      "execution_count": 49,
      "outputs": [
        {
          "output_type": "execute_result",
          "data": {
            "text/plain": [
              "1     37\n",
              "2     39\n",
              "3     48\n",
              "4     63\n",
              "5     53\n",
              "6     35\n",
              "7     34\n",
              "8     37\n",
              "9     53\n",
              "10    77\n",
              "11    57\n",
              "12    51\n",
              "Name: Month, dtype: int64"
            ]
          },
          "metadata": {},
          "execution_count": 49
        }
      ]
    },
    {
      "cell_type": "code",
      "metadata": {
        "colab": {
          "base_uri": "https://localhost:8080/",
          "height": 542
        },
        "id": "s-n_eEvFywTD",
        "outputId": "add36b65-5420-4414-fdfc-8a88533e0ca1"
      },
      "source": [
        "months = ['Jan','Feb','Mar','Apr','May','Jun','Jul','Aug','Sep','Oct','Nov','Dec']\n",
        "\n",
        "fig = px.bar(data_frame=df, x=months, y=month.values, labels={\"y\":\"Movies\", \"x\":\"Month\"})\n",
        "\n",
        "fig.show()"
      ],
      "execution_count": 50,
      "outputs": [
        {
          "output_type": "display_data",
          "data": {
            "text/html": [
              "<html>\n",
              "<head><meta charset=\"utf-8\" /></head>\n",
              "<body>\n",
              "    <div>\n",
              "            <script src=\"https://cdnjs.cloudflare.com/ajax/libs/mathjax/2.7.5/MathJax.js?config=TeX-AMS-MML_SVG\"></script><script type=\"text/javascript\">if (window.MathJax) {MathJax.Hub.Config({SVG: {font: \"STIX-Web\"}});}</script>\n",
              "                <script type=\"text/javascript\">window.PlotlyConfig = {MathJaxConfig: 'local'};</script>\n",
              "        <script src=\"https://cdn.plot.ly/plotly-latest.min.js\"></script>    \n",
              "            <div id=\"d951c4a9-3615-4d1d-ba7f-070b294e3fcf\" class=\"plotly-graph-div\" style=\"height:525px; width:100%;\"></div>\n",
              "            <script type=\"text/javascript\">\n",
              "                \n",
              "                    window.PLOTLYENV=window.PLOTLYENV || {};\n",
              "                    \n",
              "                if (document.getElementById(\"d951c4a9-3615-4d1d-ba7f-070b294e3fcf\")) {\n",
              "                    Plotly.newPlot(\n",
              "                        'd951c4a9-3615-4d1d-ba7f-070b294e3fcf',\n",
              "                        [{\"alignmentgroup\": \"True\", \"hoverlabel\": {\"namelength\": 0}, \"hovertemplate\": \"Month=%{x}<br>Count of Movies per each Month=%{y}\", \"legendgroup\": \"\", \"marker\": {\"color\": \"#636efa\"}, \"name\": \"\", \"offsetgroup\": \"\", \"orientation\": \"v\", \"showlegend\": false, \"textposition\": \"auto\", \"type\": \"bar\", \"x\": [\"Jan\", \"Feb\", \"Mar\", \"Apr\", \"May\", \"Jun\", \"Jul\", \"Aug\", \"Sep\", \"Oct\", \"Nov\", \"Dec\"], \"xaxis\": \"x\", \"y\": [37, 39, 48, 63, 53, 35, 34, 37, 53, 77, 57, 51], \"yaxis\": \"y\"}],\n",
              "                        {\"barmode\": \"relative\", \"legend\": {\"tracegroupgap\": 0}, \"margin\": {\"t\": 60}, \"template\": {\"data\": {\"bar\": [{\"error_x\": {\"color\": \"#2a3f5f\"}, \"error_y\": {\"color\": \"#2a3f5f\"}, \"marker\": {\"line\": {\"color\": \"#E5ECF6\", \"width\": 0.5}}, \"type\": \"bar\"}], \"barpolar\": [{\"marker\": {\"line\": {\"color\": \"#E5ECF6\", \"width\": 0.5}}, \"type\": \"barpolar\"}], \"carpet\": [{\"aaxis\": {\"endlinecolor\": \"#2a3f5f\", \"gridcolor\": \"white\", \"linecolor\": \"white\", \"minorgridcolor\": \"white\", \"startlinecolor\": \"#2a3f5f\"}, \"baxis\": {\"endlinecolor\": \"#2a3f5f\", \"gridcolor\": \"white\", \"linecolor\": \"white\", \"minorgridcolor\": \"white\", \"startlinecolor\": \"#2a3f5f\"}, \"type\": \"carpet\"}], \"choropleth\": [{\"colorbar\": {\"outlinewidth\": 0, \"ticks\": \"\"}, \"type\": \"choropleth\"}], \"contour\": [{\"colorbar\": {\"outlinewidth\": 0, \"ticks\": \"\"}, \"colorscale\": [[0.0, \"#0d0887\"], [0.1111111111111111, \"#46039f\"], [0.2222222222222222, \"#7201a8\"], [0.3333333333333333, \"#9c179e\"], [0.4444444444444444, \"#bd3786\"], [0.5555555555555556, \"#d8576b\"], [0.6666666666666666, \"#ed7953\"], [0.7777777777777778, \"#fb9f3a\"], [0.8888888888888888, \"#fdca26\"], [1.0, \"#f0f921\"]], \"type\": \"contour\"}], \"contourcarpet\": [{\"colorbar\": {\"outlinewidth\": 0, \"ticks\": \"\"}, \"type\": \"contourcarpet\"}], \"heatmap\": [{\"colorbar\": {\"outlinewidth\": 0, \"ticks\": \"\"}, \"colorscale\": [[0.0, \"#0d0887\"], [0.1111111111111111, \"#46039f\"], [0.2222222222222222, \"#7201a8\"], [0.3333333333333333, \"#9c179e\"], [0.4444444444444444, \"#bd3786\"], [0.5555555555555556, \"#d8576b\"], [0.6666666666666666, \"#ed7953\"], [0.7777777777777778, \"#fb9f3a\"], [0.8888888888888888, \"#fdca26\"], [1.0, \"#f0f921\"]], \"type\": \"heatmap\"}], \"heatmapgl\": [{\"colorbar\": {\"outlinewidth\": 0, \"ticks\": \"\"}, \"colorscale\": [[0.0, \"#0d0887\"], [0.1111111111111111, \"#46039f\"], [0.2222222222222222, \"#7201a8\"], [0.3333333333333333, \"#9c179e\"], [0.4444444444444444, \"#bd3786\"], [0.5555555555555556, \"#d8576b\"], [0.6666666666666666, \"#ed7953\"], [0.7777777777777778, \"#fb9f3a\"], [0.8888888888888888, \"#fdca26\"], [1.0, \"#f0f921\"]], \"type\": \"heatmapgl\"}], \"histogram\": [{\"marker\": {\"colorbar\": {\"outlinewidth\": 0, \"ticks\": \"\"}}, \"type\": \"histogram\"}], \"histogram2d\": [{\"colorbar\": {\"outlinewidth\": 0, \"ticks\": \"\"}, \"colorscale\": [[0.0, \"#0d0887\"], [0.1111111111111111, \"#46039f\"], [0.2222222222222222, \"#7201a8\"], [0.3333333333333333, \"#9c179e\"], [0.4444444444444444, \"#bd3786\"], [0.5555555555555556, \"#d8576b\"], [0.6666666666666666, \"#ed7953\"], [0.7777777777777778, \"#fb9f3a\"], [0.8888888888888888, \"#fdca26\"], [1.0, \"#f0f921\"]], \"type\": \"histogram2d\"}], \"histogram2dcontour\": [{\"colorbar\": {\"outlinewidth\": 0, \"ticks\": \"\"}, \"colorscale\": [[0.0, \"#0d0887\"], [0.1111111111111111, \"#46039f\"], [0.2222222222222222, \"#7201a8\"], [0.3333333333333333, \"#9c179e\"], [0.4444444444444444, \"#bd3786\"], [0.5555555555555556, \"#d8576b\"], [0.6666666666666666, \"#ed7953\"], [0.7777777777777778, \"#fb9f3a\"], [0.8888888888888888, \"#fdca26\"], [1.0, \"#f0f921\"]], \"type\": \"histogram2dcontour\"}], \"mesh3d\": [{\"colorbar\": {\"outlinewidth\": 0, \"ticks\": \"\"}, \"type\": \"mesh3d\"}], \"parcoords\": [{\"line\": {\"colorbar\": {\"outlinewidth\": 0, \"ticks\": \"\"}}, \"type\": \"parcoords\"}], \"pie\": [{\"automargin\": true, \"type\": \"pie\"}], \"scatter\": [{\"marker\": {\"colorbar\": {\"outlinewidth\": 0, \"ticks\": \"\"}}, \"type\": \"scatter\"}], \"scatter3d\": [{\"line\": {\"colorbar\": {\"outlinewidth\": 0, \"ticks\": \"\"}}, \"marker\": {\"colorbar\": {\"outlinewidth\": 0, \"ticks\": \"\"}}, \"type\": \"scatter3d\"}], \"scattercarpet\": [{\"marker\": {\"colorbar\": {\"outlinewidth\": 0, \"ticks\": \"\"}}, \"type\": \"scattercarpet\"}], \"scattergeo\": [{\"marker\": {\"colorbar\": {\"outlinewidth\": 0, \"ticks\": \"\"}}, \"type\": \"scattergeo\"}], \"scattergl\": [{\"marker\": {\"colorbar\": {\"outlinewidth\": 0, \"ticks\": \"\"}}, \"type\": \"scattergl\"}], \"scattermapbox\": [{\"marker\": {\"colorbar\": {\"outlinewidth\": 0, \"ticks\": \"\"}}, \"type\": \"scattermapbox\"}], \"scatterpolar\": [{\"marker\": {\"colorbar\": {\"outlinewidth\": 0, \"ticks\": \"\"}}, \"type\": \"scatterpolar\"}], \"scatterpolargl\": [{\"marker\": {\"colorbar\": {\"outlinewidth\": 0, \"ticks\": \"\"}}, \"type\": \"scatterpolargl\"}], \"scatterternary\": [{\"marker\": {\"colorbar\": {\"outlinewidth\": 0, \"ticks\": \"\"}}, \"type\": \"scatterternary\"}], \"surface\": [{\"colorbar\": {\"outlinewidth\": 0, \"ticks\": \"\"}, \"colorscale\": [[0.0, \"#0d0887\"], [0.1111111111111111, \"#46039f\"], [0.2222222222222222, \"#7201a8\"], [0.3333333333333333, \"#9c179e\"], [0.4444444444444444, \"#bd3786\"], [0.5555555555555556, \"#d8576b\"], [0.6666666666666666, \"#ed7953\"], [0.7777777777777778, \"#fb9f3a\"], [0.8888888888888888, \"#fdca26\"], [1.0, \"#f0f921\"]], \"type\": \"surface\"}], \"table\": [{\"cells\": {\"fill\": {\"color\": \"#EBF0F8\"}, \"line\": {\"color\": \"white\"}}, \"header\": {\"fill\": {\"color\": \"#C8D4E3\"}, \"line\": {\"color\": \"white\"}}, \"type\": \"table\"}]}, \"layout\": {\"annotationdefaults\": {\"arrowcolor\": \"#2a3f5f\", \"arrowhead\": 0, \"arrowwidth\": 1}, \"coloraxis\": {\"colorbar\": {\"outlinewidth\": 0, \"ticks\": \"\"}}, \"colorscale\": {\"diverging\": [[0, \"#8e0152\"], [0.1, \"#c51b7d\"], [0.2, \"#de77ae\"], [0.3, \"#f1b6da\"], [0.4, \"#fde0ef\"], [0.5, \"#f7f7f7\"], [0.6, \"#e6f5d0\"], [0.7, \"#b8e186\"], [0.8, \"#7fbc41\"], [0.9, \"#4d9221\"], [1, \"#276419\"]], \"sequential\": [[0.0, \"#0d0887\"], [0.1111111111111111, \"#46039f\"], [0.2222222222222222, \"#7201a8\"], [0.3333333333333333, \"#9c179e\"], [0.4444444444444444, \"#bd3786\"], [0.5555555555555556, \"#d8576b\"], [0.6666666666666666, \"#ed7953\"], [0.7777777777777778, \"#fb9f3a\"], [0.8888888888888888, \"#fdca26\"], [1.0, \"#f0f921\"]], \"sequentialminus\": [[0.0, \"#0d0887\"], [0.1111111111111111, \"#46039f\"], [0.2222222222222222, \"#7201a8\"], [0.3333333333333333, \"#9c179e\"], [0.4444444444444444, \"#bd3786\"], [0.5555555555555556, \"#d8576b\"], [0.6666666666666666, \"#ed7953\"], [0.7777777777777778, \"#fb9f3a\"], [0.8888888888888888, \"#fdca26\"], [1.0, \"#f0f921\"]]}, \"colorway\": [\"#636efa\", \"#EF553B\", \"#00cc96\", \"#ab63fa\", \"#FFA15A\", \"#19d3f3\", \"#FF6692\", \"#B6E880\", \"#FF97FF\", \"#FECB52\"], \"font\": {\"color\": \"#2a3f5f\"}, \"geo\": {\"bgcolor\": \"white\", \"lakecolor\": \"white\", \"landcolor\": \"#E5ECF6\", \"showlakes\": true, \"showland\": true, \"subunitcolor\": \"white\"}, \"hoverlabel\": {\"align\": \"left\"}, \"hovermode\": \"closest\", \"mapbox\": {\"style\": \"light\"}, \"paper_bgcolor\": \"white\", \"plot_bgcolor\": \"#E5ECF6\", \"polar\": {\"angularaxis\": {\"gridcolor\": \"white\", \"linecolor\": \"white\", \"ticks\": \"\"}, \"bgcolor\": \"#E5ECF6\", \"radialaxis\": {\"gridcolor\": \"white\", \"linecolor\": \"white\", \"ticks\": \"\"}}, \"scene\": {\"xaxis\": {\"backgroundcolor\": \"#E5ECF6\", \"gridcolor\": \"white\", \"gridwidth\": 2, \"linecolor\": \"white\", \"showbackground\": true, \"ticks\": \"\", \"zerolinecolor\": \"white\"}, \"yaxis\": {\"backgroundcolor\": \"#E5ECF6\", \"gridcolor\": \"white\", \"gridwidth\": 2, \"linecolor\": \"white\", \"showbackground\": true, \"ticks\": \"\", \"zerolinecolor\": \"white\"}, \"zaxis\": {\"backgroundcolor\": \"#E5ECF6\", \"gridcolor\": \"white\", \"gridwidth\": 2, \"linecolor\": \"white\", \"showbackground\": true, \"ticks\": \"\", \"zerolinecolor\": \"white\"}}, \"shapedefaults\": {\"line\": {\"color\": \"#2a3f5f\"}}, \"ternary\": {\"aaxis\": {\"gridcolor\": \"white\", \"linecolor\": \"white\", \"ticks\": \"\"}, \"baxis\": {\"gridcolor\": \"white\", \"linecolor\": \"white\", \"ticks\": \"\"}, \"bgcolor\": \"#E5ECF6\", \"caxis\": {\"gridcolor\": \"white\", \"linecolor\": \"white\", \"ticks\": \"\"}}, \"title\": {\"x\": 0.05}, \"xaxis\": {\"automargin\": true, \"gridcolor\": \"white\", \"linecolor\": \"white\", \"ticks\": \"\", \"title\": {\"standoff\": 15}, \"zerolinecolor\": \"white\", \"zerolinewidth\": 2}, \"yaxis\": {\"automargin\": true, \"gridcolor\": \"white\", \"linecolor\": \"white\", \"ticks\": \"\", \"title\": {\"standoff\": 15}, \"zerolinecolor\": \"white\", \"zerolinewidth\": 2}}}, \"xaxis\": {\"anchor\": \"y\", \"domain\": [0.0, 1.0], \"title\": {\"text\": \"Month\"}}, \"yaxis\": {\"anchor\": \"x\", \"domain\": [0.0, 1.0], \"title\": {\"text\": \"Count of Movies per each Month\"}}},\n",
              "                        {\"responsive\": true}\n",
              "                    ).then(function(){\n",
              "                            \n",
              "var gd = document.getElementById('d951c4a9-3615-4d1d-ba7f-070b294e3fcf');\n",
              "var x = new MutationObserver(function (mutations, observer) {{\n",
              "        var display = window.getComputedStyle(gd).display;\n",
              "        if (!display || display === 'none') {{\n",
              "            console.log([gd, 'removed!']);\n",
              "            Plotly.purge(gd);\n",
              "            observer.disconnect();\n",
              "        }}\n",
              "}});\n",
              "\n",
              "// Listen for the removal of the full notebook cells\n",
              "var notebookContainer = gd.closest('#notebook-container');\n",
              "if (notebookContainer) {{\n",
              "    x.observe(notebookContainer, {childList: true});\n",
              "}}\n",
              "\n",
              "// Listen for the clearing of the current output cell\n",
              "var outputEl = gd.closest('.output');\n",
              "if (outputEl) {{\n",
              "    x.observe(outputEl, {childList: true});\n",
              "}}\n",
              "\n",
              "                        })\n",
              "                };\n",
              "                \n",
              "            </script>\n",
              "        </div>\n",
              "</body>\n",
              "</html>"
            ]
          },
          "metadata": {}
        }
      ]
    },
    {
      "cell_type": "code",
      "metadata": {
        "id": "pB5N95RUy03z"
      },
      "source": [
        "#top 15 ratings by Genre"
      ],
      "execution_count": 51,
      "outputs": []
    },
    {
      "cell_type": "code",
      "metadata": {
        "colab": {
          "base_uri": "https://localhost:8080/"
        },
        "id": "j4VBZipqzGEf",
        "outputId": "d817e990-fc56-4de7-d752-16e3e8ef391e"
      },
      "source": [
        "df.groupby(\"Genre\")[\"IMDB Score\"].nlargest(10)"
      ],
      "execution_count": 52,
      "outputs": [
        {
          "output_type": "execute_result",
          "data": {
            "text/plain": [
              "Genre            \n",
              "Action        372    6.7\n",
              "              277    6.3\n",
              "              220    6.1\n",
              "              153    5.7\n",
              "              50     4.9\n",
              "                    ... \n",
              "War-Comedy    219    6.0\n",
              "Western       516    7.3\n",
              "              237    6.1\n",
              "              49     4.8\n",
              "Zombie/Heist  194    5.9\n",
              "Name: IMDB Score, Length: 272, dtype: float64"
            ]
          },
          "metadata": {},
          "execution_count": 52
        }
      ]
    },
    {
      "cell_type": "code",
      "metadata": {
        "colab": {
          "base_uri": "https://localhost:8080/"
        },
        "id": "4XpFCeHpzOUt",
        "outputId": "8b936ef3-3499-42e5-d79c-68ed9b2e8893"
      },
      "source": [
        "top_15_ratings_by_genre = df.groupby(\"Genre\")[\"IMDB Score\"].mean().nlargest(15)\n",
        "top_15_ratings_by_genre"
      ],
      "execution_count": 53,
      "outputs": [
        {
          "output_type": "execute_result",
          "data": {
            "text/plain": [
              "Genre\n",
              "Animation/Christmas/Comedy/Adventure    8.200000\n",
              "Musical / Short                         7.700000\n",
              "Concert Film                            7.633333\n",
              "Anthology/Dark comedy                   7.600000\n",
              "Animation / Science Fiction             7.500000\n",
              "Making-of                               7.450000\n",
              "Action-adventure                        7.300000\n",
              "Coming-of-age comedy-drama              7.200000\n",
              "Drama-Comedy                            7.200000\n",
              "Historical drama                        7.200000\n",
              "One-man show                            7.133333\n",
              "Animation / Short                       7.125000\n",
              "Mentalism special                       7.100000\n",
              "War drama                               7.100000\n",
              "Animation / Comedy                      7.000000\n",
              "Name: IMDB Score, dtype: float64"
            ]
          },
          "metadata": {},
          "execution_count": 53
        }
      ]
    },
    {
      "cell_type": "code",
      "metadata": {
        "colab": {
          "base_uri": "https://localhost:8080/",
          "height": 542
        },
        "id": "MiGX27yfzWnU",
        "outputId": "dafc581f-6fc6-46e4-8b85-330032130b97"
      },
      "source": [
        "fig = px.bar(data_frame=top_15_ratings_by_genre, x=top_15_ratings_by_genre.index, y=top_15_ratings_by_genre.values, \n",
        "             labels={'y':'Average Rating Score', 'x':'Genre'})\n",
        "\n",
        "fig.show()"
      ],
      "execution_count": 54,
      "outputs": [
        {
          "output_type": "display_data",
          "data": {
            "text/html": [
              "<html>\n",
              "<head><meta charset=\"utf-8\" /></head>\n",
              "<body>\n",
              "    <div>\n",
              "            <script src=\"https://cdnjs.cloudflare.com/ajax/libs/mathjax/2.7.5/MathJax.js?config=TeX-AMS-MML_SVG\"></script><script type=\"text/javascript\">if (window.MathJax) {MathJax.Hub.Config({SVG: {font: \"STIX-Web\"}});}</script>\n",
              "                <script type=\"text/javascript\">window.PlotlyConfig = {MathJaxConfig: 'local'};</script>\n",
              "        <script src=\"https://cdn.plot.ly/plotly-latest.min.js\"></script>    \n",
              "            <div id=\"18cc2d0f-906f-4fbf-af7b-57c58bfc308e\" class=\"plotly-graph-div\" style=\"height:525px; width:100%;\"></div>\n",
              "            <script type=\"text/javascript\">\n",
              "                \n",
              "                    window.PLOTLYENV=window.PLOTLYENV || {};\n",
              "                    \n",
              "                if (document.getElementById(\"18cc2d0f-906f-4fbf-af7b-57c58bfc308e\")) {\n",
              "                    Plotly.newPlot(\n",
              "                        '18cc2d0f-906f-4fbf-af7b-57c58bfc308e',\n",
              "                        [{\"alignmentgroup\": \"True\", \"hoverlabel\": {\"namelength\": 0}, \"hovertemplate\": \"Genre=%{x}<br>Average Rating Score=%{y}\", \"legendgroup\": \"\", \"marker\": {\"color\": \"#636efa\"}, \"name\": \"\", \"offsetgroup\": \"\", \"orientation\": \"v\", \"showlegend\": false, \"textposition\": \"auto\", \"type\": \"bar\", \"x\": [\"Animation/Christmas/Comedy/Adventure\", \"Musical / Short\", \"Concert Film\", \"Anthology/Dark comedy\", \"Animation / Science Fiction\", \"Making-of\", \"Action-adventure\", \"Coming-of-age comedy-drama\", \"Drama-Comedy\", \"Historical drama\", \"One-man show\", \"Animation / Short\", \"Mentalism special\", \"War drama\", \"Animation / Comedy\"], \"xaxis\": \"x\", \"y\": [8.2, 7.7, 7.633333333333333, 7.6, 7.5, 7.45, 7.3, 7.2, 7.2, 7.2, 7.133333333333333, 7.125, 7.1, 7.1, 7.0], \"yaxis\": \"y\"}],\n",
              "                        {\"barmode\": \"relative\", \"legend\": {\"tracegroupgap\": 0}, \"margin\": {\"t\": 60}, \"template\": {\"data\": {\"bar\": [{\"error_x\": {\"color\": \"#2a3f5f\"}, \"error_y\": {\"color\": \"#2a3f5f\"}, \"marker\": {\"line\": {\"color\": \"#E5ECF6\", \"width\": 0.5}}, \"type\": \"bar\"}], \"barpolar\": [{\"marker\": {\"line\": {\"color\": \"#E5ECF6\", \"width\": 0.5}}, \"type\": \"barpolar\"}], \"carpet\": [{\"aaxis\": {\"endlinecolor\": \"#2a3f5f\", \"gridcolor\": \"white\", \"linecolor\": \"white\", \"minorgridcolor\": \"white\", \"startlinecolor\": \"#2a3f5f\"}, \"baxis\": {\"endlinecolor\": \"#2a3f5f\", \"gridcolor\": \"white\", \"linecolor\": \"white\", \"minorgridcolor\": \"white\", \"startlinecolor\": \"#2a3f5f\"}, \"type\": \"carpet\"}], \"choropleth\": [{\"colorbar\": {\"outlinewidth\": 0, \"ticks\": \"\"}, \"type\": \"choropleth\"}], \"contour\": [{\"colorbar\": {\"outlinewidth\": 0, \"ticks\": \"\"}, \"colorscale\": [[0.0, \"#0d0887\"], [0.1111111111111111, \"#46039f\"], [0.2222222222222222, \"#7201a8\"], [0.3333333333333333, \"#9c179e\"], [0.4444444444444444, \"#bd3786\"], [0.5555555555555556, \"#d8576b\"], [0.6666666666666666, \"#ed7953\"], [0.7777777777777778, \"#fb9f3a\"], [0.8888888888888888, \"#fdca26\"], [1.0, \"#f0f921\"]], \"type\": \"contour\"}], \"contourcarpet\": [{\"colorbar\": {\"outlinewidth\": 0, \"ticks\": \"\"}, \"type\": \"contourcarpet\"}], \"heatmap\": [{\"colorbar\": {\"outlinewidth\": 0, \"ticks\": \"\"}, \"colorscale\": [[0.0, \"#0d0887\"], [0.1111111111111111, \"#46039f\"], [0.2222222222222222, \"#7201a8\"], [0.3333333333333333, \"#9c179e\"], [0.4444444444444444, \"#bd3786\"], [0.5555555555555556, \"#d8576b\"], [0.6666666666666666, \"#ed7953\"], [0.7777777777777778, \"#fb9f3a\"], [0.8888888888888888, \"#fdca26\"], [1.0, \"#f0f921\"]], \"type\": \"heatmap\"}], \"heatmapgl\": [{\"colorbar\": {\"outlinewidth\": 0, \"ticks\": \"\"}, \"colorscale\": [[0.0, \"#0d0887\"], [0.1111111111111111, \"#46039f\"], [0.2222222222222222, \"#7201a8\"], [0.3333333333333333, \"#9c179e\"], [0.4444444444444444, \"#bd3786\"], [0.5555555555555556, \"#d8576b\"], [0.6666666666666666, \"#ed7953\"], [0.7777777777777778, \"#fb9f3a\"], [0.8888888888888888, \"#fdca26\"], [1.0, \"#f0f921\"]], \"type\": \"heatmapgl\"}], \"histogram\": [{\"marker\": {\"colorbar\": {\"outlinewidth\": 0, \"ticks\": \"\"}}, \"type\": \"histogram\"}], \"histogram2d\": [{\"colorbar\": {\"outlinewidth\": 0, \"ticks\": \"\"}, \"colorscale\": [[0.0, \"#0d0887\"], [0.1111111111111111, \"#46039f\"], [0.2222222222222222, \"#7201a8\"], [0.3333333333333333, \"#9c179e\"], [0.4444444444444444, \"#bd3786\"], [0.5555555555555556, \"#d8576b\"], [0.6666666666666666, \"#ed7953\"], [0.7777777777777778, \"#fb9f3a\"], [0.8888888888888888, \"#fdca26\"], [1.0, \"#f0f921\"]], \"type\": \"histogram2d\"}], \"histogram2dcontour\": [{\"colorbar\": {\"outlinewidth\": 0, \"ticks\": \"\"}, \"colorscale\": [[0.0, \"#0d0887\"], [0.1111111111111111, \"#46039f\"], [0.2222222222222222, \"#7201a8\"], [0.3333333333333333, \"#9c179e\"], [0.4444444444444444, \"#bd3786\"], [0.5555555555555556, \"#d8576b\"], [0.6666666666666666, \"#ed7953\"], [0.7777777777777778, \"#fb9f3a\"], [0.8888888888888888, \"#fdca26\"], [1.0, \"#f0f921\"]], \"type\": \"histogram2dcontour\"}], \"mesh3d\": [{\"colorbar\": {\"outlinewidth\": 0, \"ticks\": \"\"}, \"type\": \"mesh3d\"}], \"parcoords\": [{\"line\": {\"colorbar\": {\"outlinewidth\": 0, \"ticks\": \"\"}}, \"type\": \"parcoords\"}], \"pie\": [{\"automargin\": true, \"type\": \"pie\"}], \"scatter\": [{\"marker\": {\"colorbar\": {\"outlinewidth\": 0, \"ticks\": \"\"}}, \"type\": \"scatter\"}], \"scatter3d\": [{\"line\": {\"colorbar\": {\"outlinewidth\": 0, \"ticks\": \"\"}}, \"marker\": {\"colorbar\": {\"outlinewidth\": 0, \"ticks\": \"\"}}, \"type\": \"scatter3d\"}], \"scattercarpet\": [{\"marker\": {\"colorbar\": {\"outlinewidth\": 0, \"ticks\": \"\"}}, \"type\": \"scattercarpet\"}], \"scattergeo\": [{\"marker\": {\"colorbar\": {\"outlinewidth\": 0, \"ticks\": \"\"}}, \"type\": \"scattergeo\"}], \"scattergl\": [{\"marker\": {\"colorbar\": {\"outlinewidth\": 0, \"ticks\": \"\"}}, \"type\": \"scattergl\"}], \"scattermapbox\": [{\"marker\": {\"colorbar\": {\"outlinewidth\": 0, \"ticks\": \"\"}}, \"type\": \"scattermapbox\"}], \"scatterpolar\": [{\"marker\": {\"colorbar\": {\"outlinewidth\": 0, \"ticks\": \"\"}}, \"type\": \"scatterpolar\"}], \"scatterpolargl\": [{\"marker\": {\"colorbar\": {\"outlinewidth\": 0, \"ticks\": \"\"}}, \"type\": \"scatterpolargl\"}], \"scatterternary\": [{\"marker\": {\"colorbar\": {\"outlinewidth\": 0, \"ticks\": \"\"}}, \"type\": \"scatterternary\"}], \"surface\": [{\"colorbar\": {\"outlinewidth\": 0, \"ticks\": \"\"}, \"colorscale\": [[0.0, \"#0d0887\"], [0.1111111111111111, \"#46039f\"], [0.2222222222222222, \"#7201a8\"], [0.3333333333333333, \"#9c179e\"], [0.4444444444444444, \"#bd3786\"], [0.5555555555555556, \"#d8576b\"], [0.6666666666666666, \"#ed7953\"], [0.7777777777777778, \"#fb9f3a\"], [0.8888888888888888, \"#fdca26\"], [1.0, \"#f0f921\"]], \"type\": \"surface\"}], \"table\": [{\"cells\": {\"fill\": {\"color\": \"#EBF0F8\"}, \"line\": {\"color\": \"white\"}}, \"header\": {\"fill\": {\"color\": \"#C8D4E3\"}, \"line\": {\"color\": \"white\"}}, \"type\": \"table\"}]}, \"layout\": {\"annotationdefaults\": {\"arrowcolor\": \"#2a3f5f\", \"arrowhead\": 0, \"arrowwidth\": 1}, \"coloraxis\": {\"colorbar\": {\"outlinewidth\": 0, \"ticks\": \"\"}}, \"colorscale\": {\"diverging\": [[0, \"#8e0152\"], [0.1, \"#c51b7d\"], [0.2, \"#de77ae\"], [0.3, \"#f1b6da\"], [0.4, \"#fde0ef\"], [0.5, \"#f7f7f7\"], [0.6, \"#e6f5d0\"], [0.7, \"#b8e186\"], [0.8, \"#7fbc41\"], [0.9, \"#4d9221\"], [1, \"#276419\"]], \"sequential\": [[0.0, \"#0d0887\"], [0.1111111111111111, \"#46039f\"], [0.2222222222222222, \"#7201a8\"], [0.3333333333333333, \"#9c179e\"], [0.4444444444444444, \"#bd3786\"], [0.5555555555555556, \"#d8576b\"], [0.6666666666666666, \"#ed7953\"], [0.7777777777777778, \"#fb9f3a\"], [0.8888888888888888, \"#fdca26\"], [1.0, \"#f0f921\"]], \"sequentialminus\": [[0.0, \"#0d0887\"], [0.1111111111111111, \"#46039f\"], [0.2222222222222222, \"#7201a8\"], [0.3333333333333333, \"#9c179e\"], [0.4444444444444444, \"#bd3786\"], [0.5555555555555556, \"#d8576b\"], [0.6666666666666666, \"#ed7953\"], [0.7777777777777778, \"#fb9f3a\"], [0.8888888888888888, \"#fdca26\"], [1.0, \"#f0f921\"]]}, \"colorway\": [\"#636efa\", \"#EF553B\", \"#00cc96\", \"#ab63fa\", \"#FFA15A\", \"#19d3f3\", \"#FF6692\", \"#B6E880\", \"#FF97FF\", \"#FECB52\"], \"font\": {\"color\": \"#2a3f5f\"}, \"geo\": {\"bgcolor\": \"white\", \"lakecolor\": \"white\", \"landcolor\": \"#E5ECF6\", \"showlakes\": true, \"showland\": true, \"subunitcolor\": \"white\"}, \"hoverlabel\": {\"align\": \"left\"}, \"hovermode\": \"closest\", \"mapbox\": {\"style\": \"light\"}, \"paper_bgcolor\": \"white\", \"plot_bgcolor\": \"#E5ECF6\", \"polar\": {\"angularaxis\": {\"gridcolor\": \"white\", \"linecolor\": \"white\", \"ticks\": \"\"}, \"bgcolor\": \"#E5ECF6\", \"radialaxis\": {\"gridcolor\": \"white\", \"linecolor\": \"white\", \"ticks\": \"\"}}, \"scene\": {\"xaxis\": {\"backgroundcolor\": \"#E5ECF6\", \"gridcolor\": \"white\", \"gridwidth\": 2, \"linecolor\": \"white\", \"showbackground\": true, \"ticks\": \"\", \"zerolinecolor\": \"white\"}, \"yaxis\": {\"backgroundcolor\": \"#E5ECF6\", \"gridcolor\": \"white\", \"gridwidth\": 2, \"linecolor\": \"white\", \"showbackground\": true, \"ticks\": \"\", \"zerolinecolor\": \"white\"}, \"zaxis\": {\"backgroundcolor\": \"#E5ECF6\", \"gridcolor\": \"white\", \"gridwidth\": 2, \"linecolor\": \"white\", \"showbackground\": true, \"ticks\": \"\", \"zerolinecolor\": \"white\"}}, \"shapedefaults\": {\"line\": {\"color\": \"#2a3f5f\"}}, \"ternary\": {\"aaxis\": {\"gridcolor\": \"white\", \"linecolor\": \"white\", \"ticks\": \"\"}, \"baxis\": {\"gridcolor\": \"white\", \"linecolor\": \"white\", \"ticks\": \"\"}, \"bgcolor\": \"#E5ECF6\", \"caxis\": {\"gridcolor\": \"white\", \"linecolor\": \"white\", \"ticks\": \"\"}}, \"title\": {\"x\": 0.05}, \"xaxis\": {\"automargin\": true, \"gridcolor\": \"white\", \"linecolor\": \"white\", \"ticks\": \"\", \"title\": {\"standoff\": 15}, \"zerolinecolor\": \"white\", \"zerolinewidth\": 2}, \"yaxis\": {\"automargin\": true, \"gridcolor\": \"white\", \"linecolor\": \"white\", \"ticks\": \"\", \"title\": {\"standoff\": 15}, \"zerolinecolor\": \"white\", \"zerolinewidth\": 2}}}, \"xaxis\": {\"anchor\": \"y\", \"domain\": [0.0, 1.0], \"title\": {\"text\": \"Genre\"}}, \"yaxis\": {\"anchor\": \"x\", \"domain\": [0.0, 1.0], \"title\": {\"text\": \"Average Rating Score\"}}},\n",
              "                        {\"responsive\": true}\n",
              "                    ).then(function(){\n",
              "                            \n",
              "var gd = document.getElementById('18cc2d0f-906f-4fbf-af7b-57c58bfc308e');\n",
              "var x = new MutationObserver(function (mutations, observer) {{\n",
              "        var display = window.getComputedStyle(gd).display;\n",
              "        if (!display || display === 'none') {{\n",
              "            console.log([gd, 'removed!']);\n",
              "            Plotly.purge(gd);\n",
              "            observer.disconnect();\n",
              "        }}\n",
              "}});\n",
              "\n",
              "// Listen for the removal of the full notebook cells\n",
              "var notebookContainer = gd.closest('#notebook-container');\n",
              "if (notebookContainer) {{\n",
              "    x.observe(notebookContainer, {childList: true});\n",
              "}}\n",
              "\n",
              "// Listen for the clearing of the current output cell\n",
              "var outputEl = gd.closest('.output');\n",
              "if (outputEl) {{\n",
              "    x.observe(outputEl, {childList: true});\n",
              "}}\n",
              "\n",
              "                        })\n",
              "                };\n",
              "                \n",
              "            </script>\n",
              "        </div>\n",
              "</body>\n",
              "</html>"
            ]
          },
          "metadata": {}
        }
      ]
    },
    {
      "cell_type": "code",
      "metadata": {
        "id": "E6hrV_vKzfm0"
      },
      "source": [
        "#top 10 movies"
      ],
      "execution_count": 55,
      "outputs": []
    },
    {
      "cell_type": "code",
      "metadata": {
        "colab": {
          "base_uri": "https://localhost:8080/",
          "height": 359
        },
        "id": "NTurZN7RzsIa",
        "outputId": "ec9f9441-c0cc-40dd-c0dd-e3b9384a91d9"
      },
      "source": [
        "top_10_ratings = df[[\"IMDB Score\", \"Title\", \"Genre\", \"Year\", \"Language\"]].sort_values([\"IMDB Score\"], ascending=False)[:10]\n",
        "top_10_ratings"
      ],
      "execution_count": 56,
      "outputs": [
        {
          "output_type": "execute_result",
          "data": {
            "text/html": [
              "<div>\n",
              "<style scoped>\n",
              "    .dataframe tbody tr th:only-of-type {\n",
              "        vertical-align: middle;\n",
              "    }\n",
              "\n",
              "    .dataframe tbody tr th {\n",
              "        vertical-align: top;\n",
              "    }\n",
              "\n",
              "    .dataframe thead th {\n",
              "        text-align: right;\n",
              "    }\n",
              "</style>\n",
              "<table border=\"1\" class=\"dataframe\">\n",
              "  <thead>\n",
              "    <tr style=\"text-align: right;\">\n",
              "      <th></th>\n",
              "      <th>IMDB Score</th>\n",
              "      <th>Title</th>\n",
              "      <th>Genre</th>\n",
              "      <th>Year</th>\n",
              "      <th>Language</th>\n",
              "    </tr>\n",
              "  </thead>\n",
              "  <tbody>\n",
              "    <tr>\n",
              "      <th>583</th>\n",
              "      <td>9.0</td>\n",
              "      <td>David Attenborough: A Life on Our Planet</td>\n",
              "      <td>Documentary</td>\n",
              "      <td>2020</td>\n",
              "      <td>English</td>\n",
              "    </tr>\n",
              "    <tr>\n",
              "      <th>582</th>\n",
              "      <td>8.6</td>\n",
              "      <td>Emicida: AmarElo - It's All For Yesterday</td>\n",
              "      <td>Documentary</td>\n",
              "      <td>2020</td>\n",
              "      <td>Portuguese</td>\n",
              "    </tr>\n",
              "    <tr>\n",
              "      <th>581</th>\n",
              "      <td>8.5</td>\n",
              "      <td>Springsteen on Broadway</td>\n",
              "      <td>One-man show</td>\n",
              "      <td>2018</td>\n",
              "      <td>English</td>\n",
              "    </tr>\n",
              "    <tr>\n",
              "      <th>580</th>\n",
              "      <td>8.4</td>\n",
              "      <td>Winter on Fire: Ukraine's Fight for Freedom</td>\n",
              "      <td>Documentary</td>\n",
              "      <td>2015</td>\n",
              "      <td>English/Ukranian/Russian</td>\n",
              "    </tr>\n",
              "    <tr>\n",
              "      <th>579</th>\n",
              "      <td>8.4</td>\n",
              "      <td>Taylor Swift: Reputation Stadium Tour</td>\n",
              "      <td>Concert Film</td>\n",
              "      <td>2018</td>\n",
              "      <td>English</td>\n",
              "    </tr>\n",
              "    <tr>\n",
              "      <th>578</th>\n",
              "      <td>8.4</td>\n",
              "      <td>Ben Platt: Live from Radio City Music Hall</td>\n",
              "      <td>Concert Film</td>\n",
              "      <td>2020</td>\n",
              "      <td>English</td>\n",
              "    </tr>\n",
              "    <tr>\n",
              "      <th>577</th>\n",
              "      <td>8.3</td>\n",
              "      <td>Dancing with the Birds</td>\n",
              "      <td>Documentary</td>\n",
              "      <td>2019</td>\n",
              "      <td>English</td>\n",
              "    </tr>\n",
              "    <tr>\n",
              "      <th>576</th>\n",
              "      <td>8.3</td>\n",
              "      <td>Cuba and the Cameraman</td>\n",
              "      <td>Documentary</td>\n",
              "      <td>2017</td>\n",
              "      <td>English</td>\n",
              "    </tr>\n",
              "    <tr>\n",
              "      <th>573</th>\n",
              "      <td>8.2</td>\n",
              "      <td>Klaus</td>\n",
              "      <td>Animation/Christmas/Comedy/Adventure</td>\n",
              "      <td>2019</td>\n",
              "      <td>English</td>\n",
              "    </tr>\n",
              "    <tr>\n",
              "      <th>571</th>\n",
              "      <td>8.2</td>\n",
              "      <td>13th</td>\n",
              "      <td>Documentary</td>\n",
              "      <td>2016</td>\n",
              "      <td>English</td>\n",
              "    </tr>\n",
              "  </tbody>\n",
              "</table>\n",
              "</div>"
            ],
            "text/plain": [
              "     IMDB Score  ...                  Language\n",
              "583         9.0  ...                   English\n",
              "582         8.6  ...                Portuguese\n",
              "581         8.5  ...                   English\n",
              "580         8.4  ...  English/Ukranian/Russian\n",
              "579         8.4  ...                   English\n",
              "578         8.4  ...                   English\n",
              "577         8.3  ...                   English\n",
              "576         8.3  ...                   English\n",
              "573         8.2  ...                   English\n",
              "571         8.2  ...                   English\n",
              "\n",
              "[10 rows x 5 columns]"
            ]
          },
          "metadata": {},
          "execution_count": 56
        }
      ]
    },
    {
      "cell_type": "code",
      "metadata": {
        "colab": {
          "base_uri": "https://localhost:8080/",
          "height": 542
        },
        "id": "Zq1SspVn0Q-v",
        "outputId": "3ac1c25c-7b12-4859-ac6a-3a542ac394bf"
      },
      "source": [
        "fig = px.scatter(top_10_ratings, y= 'Title', x='IMDB Score', hover_data = top_10_ratings[['Genre','Year','Language']], color='Genre', \n",
        "                 title = \"Top 10 High Rated Programs\")\n",
        "\n",
        "fig.show()"
      ],
      "execution_count": 57,
      "outputs": [
        {
          "output_type": "display_data",
          "data": {
            "text/html": [
              "<html>\n",
              "<head><meta charset=\"utf-8\" /></head>\n",
              "<body>\n",
              "    <div>\n",
              "            <script src=\"https://cdnjs.cloudflare.com/ajax/libs/mathjax/2.7.5/MathJax.js?config=TeX-AMS-MML_SVG\"></script><script type=\"text/javascript\">if (window.MathJax) {MathJax.Hub.Config({SVG: {font: \"STIX-Web\"}});}</script>\n",
              "                <script type=\"text/javascript\">window.PlotlyConfig = {MathJaxConfig: 'local'};</script>\n",
              "        <script src=\"https://cdn.plot.ly/plotly-latest.min.js\"></script>    \n",
              "            <div id=\"173ef488-9fdb-4320-9e07-c0ee11d47b1e\" class=\"plotly-graph-div\" style=\"height:525px; width:100%;\"></div>\n",
              "            <script type=\"text/javascript\">\n",
              "                \n",
              "                    window.PLOTLYENV=window.PLOTLYENV || {};\n",
              "                    \n",
              "                if (document.getElementById(\"173ef488-9fdb-4320-9e07-c0ee11d47b1e\")) {\n",
              "                    Plotly.newPlot(\n",
              "                        '173ef488-9fdb-4320-9e07-c0ee11d47b1e',\n",
              "                        [{\"customdata\": [[\"Documentary\", 2020, \"English\"], [\"Documentary\", 2020, \"Portuguese\"], [\"Documentary\", 2015, \"English/Ukranian/Russian\"], [\"Documentary\", 2019, \"English\"], [\"Documentary\", 2017, \"English\"], [\"Documentary\", 2016, \"English\"]], \"hoverlabel\": {\"namelength\": 0}, \"hovertemplate\": \"Genre=%{customdata[0]}<br>IMDB Score=%{x}<br>Title=%{y}<br>Year=%{customdata[1]}<br>Language=%{customdata[2]}\", \"legendgroup\": \"Genre=Documentary\", \"marker\": {\"color\": \"#636efa\", \"symbol\": \"circle\"}, \"mode\": \"markers\", \"name\": \"Genre=Documentary\", \"showlegend\": true, \"type\": \"scatter\", \"x\": [9.0, 8.6, 8.4, 8.3, 8.3, 8.2], \"xaxis\": \"x\", \"y\": [\"David Attenborough: A Life on Our Planet\", \"Emicida: AmarElo - It's All For Yesterday\", \"Winter on Fire: Ukraine's Fight for Freedom\", \"Dancing with the Birds\", \"Cuba and the Cameraman \", \"13th\"], \"yaxis\": \"y\"}, {\"customdata\": [[\"One-man show\", 2018, \"English\"]], \"hoverlabel\": {\"namelength\": 0}, \"hovertemplate\": \"Genre=%{customdata[0]}<br>IMDB Score=%{x}<br>Title=%{y}<br>Year=%{customdata[1]}<br>Language=%{customdata[2]}\", \"legendgroup\": \"Genre=One-man show\", \"marker\": {\"color\": \"#EF553B\", \"symbol\": \"circle\"}, \"mode\": \"markers\", \"name\": \"Genre=One-man show\", \"showlegend\": true, \"type\": \"scatter\", \"x\": [8.5], \"xaxis\": \"x\", \"y\": [\"Springsteen on Broadway\"], \"yaxis\": \"y\"}, {\"customdata\": [[\"Concert Film\", 2018, \"English\"], [\"Concert Film\", 2020, \"English\"]], \"hoverlabel\": {\"namelength\": 0}, \"hovertemplate\": \"Genre=%{customdata[0]}<br>IMDB Score=%{x}<br>Title=%{y}<br>Year=%{customdata[1]}<br>Language=%{customdata[2]}\", \"legendgroup\": \"Genre=Concert Film\", \"marker\": {\"color\": \"#00cc96\", \"symbol\": \"circle\"}, \"mode\": \"markers\", \"name\": \"Genre=Concert Film\", \"showlegend\": true, \"type\": \"scatter\", \"x\": [8.4, 8.4], \"xaxis\": \"x\", \"y\": [\"Taylor Swift: Reputation Stadium Tour\", \"Ben Platt: Live from Radio City Music Hall\"], \"yaxis\": \"y\"}, {\"customdata\": [[\"Animation/Christmas/Comedy/Adventure\", 2019, \"English\"]], \"hoverlabel\": {\"namelength\": 0}, \"hovertemplate\": \"Genre=%{customdata[0]}<br>IMDB Score=%{x}<br>Title=%{y}<br>Year=%{customdata[1]}<br>Language=%{customdata[2]}\", \"legendgroup\": \"Genre=Animation/Christmas/Comedy/Adventure\", \"marker\": {\"color\": \"#ab63fa\", \"symbol\": \"circle\"}, \"mode\": \"markers\", \"name\": \"Genre=Animation/Christmas/Comedy/Adventure\", \"showlegend\": true, \"type\": \"scatter\", \"x\": [8.2], \"xaxis\": \"x\", \"y\": [\"Klaus\"], \"yaxis\": \"y\"}],\n",
              "                        {\"legend\": {\"tracegroupgap\": 0}, \"template\": {\"data\": {\"bar\": [{\"error_x\": {\"color\": \"#2a3f5f\"}, \"error_y\": {\"color\": \"#2a3f5f\"}, \"marker\": {\"line\": {\"color\": \"#E5ECF6\", \"width\": 0.5}}, \"type\": \"bar\"}], \"barpolar\": [{\"marker\": {\"line\": {\"color\": \"#E5ECF6\", \"width\": 0.5}}, \"type\": \"barpolar\"}], \"carpet\": [{\"aaxis\": {\"endlinecolor\": \"#2a3f5f\", \"gridcolor\": \"white\", \"linecolor\": \"white\", \"minorgridcolor\": \"white\", \"startlinecolor\": \"#2a3f5f\"}, \"baxis\": {\"endlinecolor\": \"#2a3f5f\", \"gridcolor\": \"white\", \"linecolor\": \"white\", \"minorgridcolor\": \"white\", \"startlinecolor\": \"#2a3f5f\"}, \"type\": \"carpet\"}], \"choropleth\": [{\"colorbar\": {\"outlinewidth\": 0, \"ticks\": \"\"}, \"type\": \"choropleth\"}], \"contour\": [{\"colorbar\": {\"outlinewidth\": 0, \"ticks\": \"\"}, \"colorscale\": [[0.0, \"#0d0887\"], [0.1111111111111111, \"#46039f\"], [0.2222222222222222, \"#7201a8\"], [0.3333333333333333, \"#9c179e\"], [0.4444444444444444, \"#bd3786\"], [0.5555555555555556, \"#d8576b\"], [0.6666666666666666, \"#ed7953\"], [0.7777777777777778, \"#fb9f3a\"], [0.8888888888888888, \"#fdca26\"], [1.0, \"#f0f921\"]], \"type\": \"contour\"}], \"contourcarpet\": [{\"colorbar\": {\"outlinewidth\": 0, \"ticks\": \"\"}, \"type\": \"contourcarpet\"}], \"heatmap\": [{\"colorbar\": {\"outlinewidth\": 0, \"ticks\": \"\"}, \"colorscale\": [[0.0, \"#0d0887\"], [0.1111111111111111, \"#46039f\"], [0.2222222222222222, \"#7201a8\"], [0.3333333333333333, \"#9c179e\"], [0.4444444444444444, \"#bd3786\"], [0.5555555555555556, \"#d8576b\"], [0.6666666666666666, \"#ed7953\"], [0.7777777777777778, \"#fb9f3a\"], [0.8888888888888888, \"#fdca26\"], [1.0, \"#f0f921\"]], \"type\": \"heatmap\"}], \"heatmapgl\": [{\"colorbar\": {\"outlinewidth\": 0, \"ticks\": \"\"}, \"colorscale\": [[0.0, \"#0d0887\"], [0.1111111111111111, \"#46039f\"], [0.2222222222222222, \"#7201a8\"], [0.3333333333333333, \"#9c179e\"], [0.4444444444444444, \"#bd3786\"], [0.5555555555555556, \"#d8576b\"], [0.6666666666666666, \"#ed7953\"], [0.7777777777777778, \"#fb9f3a\"], [0.8888888888888888, \"#fdca26\"], [1.0, \"#f0f921\"]], \"type\": \"heatmapgl\"}], \"histogram\": [{\"marker\": {\"colorbar\": {\"outlinewidth\": 0, \"ticks\": \"\"}}, \"type\": \"histogram\"}], \"histogram2d\": [{\"colorbar\": {\"outlinewidth\": 0, \"ticks\": \"\"}, \"colorscale\": [[0.0, \"#0d0887\"], [0.1111111111111111, \"#46039f\"], [0.2222222222222222, \"#7201a8\"], [0.3333333333333333, \"#9c179e\"], [0.4444444444444444, \"#bd3786\"], [0.5555555555555556, \"#d8576b\"], [0.6666666666666666, \"#ed7953\"], [0.7777777777777778, \"#fb9f3a\"], [0.8888888888888888, \"#fdca26\"], [1.0, \"#f0f921\"]], \"type\": \"histogram2d\"}], \"histogram2dcontour\": [{\"colorbar\": {\"outlinewidth\": 0, \"ticks\": \"\"}, \"colorscale\": [[0.0, \"#0d0887\"], [0.1111111111111111, \"#46039f\"], [0.2222222222222222, \"#7201a8\"], [0.3333333333333333, \"#9c179e\"], [0.4444444444444444, \"#bd3786\"], [0.5555555555555556, \"#d8576b\"], [0.6666666666666666, \"#ed7953\"], [0.7777777777777778, \"#fb9f3a\"], [0.8888888888888888, \"#fdca26\"], [1.0, \"#f0f921\"]], \"type\": \"histogram2dcontour\"}], \"mesh3d\": [{\"colorbar\": {\"outlinewidth\": 0, \"ticks\": \"\"}, \"type\": \"mesh3d\"}], \"parcoords\": [{\"line\": {\"colorbar\": {\"outlinewidth\": 0, \"ticks\": \"\"}}, \"type\": \"parcoords\"}], \"pie\": [{\"automargin\": true, \"type\": \"pie\"}], \"scatter\": [{\"marker\": {\"colorbar\": {\"outlinewidth\": 0, \"ticks\": \"\"}}, \"type\": \"scatter\"}], \"scatter3d\": [{\"line\": {\"colorbar\": {\"outlinewidth\": 0, \"ticks\": \"\"}}, \"marker\": {\"colorbar\": {\"outlinewidth\": 0, \"ticks\": \"\"}}, \"type\": \"scatter3d\"}], \"scattercarpet\": [{\"marker\": {\"colorbar\": {\"outlinewidth\": 0, \"ticks\": \"\"}}, \"type\": \"scattercarpet\"}], \"scattergeo\": [{\"marker\": {\"colorbar\": {\"outlinewidth\": 0, \"ticks\": \"\"}}, \"type\": \"scattergeo\"}], \"scattergl\": [{\"marker\": {\"colorbar\": {\"outlinewidth\": 0, \"ticks\": \"\"}}, \"type\": \"scattergl\"}], \"scattermapbox\": [{\"marker\": {\"colorbar\": {\"outlinewidth\": 0, \"ticks\": \"\"}}, \"type\": \"scattermapbox\"}], \"scatterpolar\": [{\"marker\": {\"colorbar\": {\"outlinewidth\": 0, \"ticks\": \"\"}}, \"type\": \"scatterpolar\"}], \"scatterpolargl\": [{\"marker\": {\"colorbar\": {\"outlinewidth\": 0, \"ticks\": \"\"}}, \"type\": \"scatterpolargl\"}], \"scatterternary\": [{\"marker\": {\"colorbar\": {\"outlinewidth\": 0, \"ticks\": \"\"}}, \"type\": \"scatterternary\"}], \"surface\": [{\"colorbar\": {\"outlinewidth\": 0, \"ticks\": \"\"}, \"colorscale\": [[0.0, \"#0d0887\"], [0.1111111111111111, \"#46039f\"], [0.2222222222222222, \"#7201a8\"], [0.3333333333333333, \"#9c179e\"], [0.4444444444444444, \"#bd3786\"], [0.5555555555555556, \"#d8576b\"], [0.6666666666666666, \"#ed7953\"], [0.7777777777777778, \"#fb9f3a\"], [0.8888888888888888, \"#fdca26\"], [1.0, \"#f0f921\"]], \"type\": \"surface\"}], \"table\": [{\"cells\": {\"fill\": {\"color\": \"#EBF0F8\"}, \"line\": {\"color\": \"white\"}}, \"header\": {\"fill\": {\"color\": \"#C8D4E3\"}, \"line\": {\"color\": \"white\"}}, \"type\": \"table\"}]}, \"layout\": {\"annotationdefaults\": {\"arrowcolor\": \"#2a3f5f\", \"arrowhead\": 0, \"arrowwidth\": 1}, \"coloraxis\": {\"colorbar\": {\"outlinewidth\": 0, \"ticks\": \"\"}}, \"colorscale\": {\"diverging\": [[0, \"#8e0152\"], [0.1, \"#c51b7d\"], [0.2, \"#de77ae\"], [0.3, \"#f1b6da\"], [0.4, \"#fde0ef\"], [0.5, \"#f7f7f7\"], [0.6, \"#e6f5d0\"], [0.7, \"#b8e186\"], [0.8, \"#7fbc41\"], [0.9, \"#4d9221\"], [1, \"#276419\"]], \"sequential\": [[0.0, \"#0d0887\"], [0.1111111111111111, \"#46039f\"], [0.2222222222222222, \"#7201a8\"], [0.3333333333333333, \"#9c179e\"], [0.4444444444444444, \"#bd3786\"], [0.5555555555555556, \"#d8576b\"], [0.6666666666666666, \"#ed7953\"], [0.7777777777777778, \"#fb9f3a\"], [0.8888888888888888, \"#fdca26\"], [1.0, \"#f0f921\"]], \"sequentialminus\": [[0.0, \"#0d0887\"], [0.1111111111111111, \"#46039f\"], [0.2222222222222222, \"#7201a8\"], [0.3333333333333333, \"#9c179e\"], [0.4444444444444444, \"#bd3786\"], [0.5555555555555556, \"#d8576b\"], [0.6666666666666666, \"#ed7953\"], [0.7777777777777778, \"#fb9f3a\"], [0.8888888888888888, \"#fdca26\"], [1.0, \"#f0f921\"]]}, \"colorway\": [\"#636efa\", \"#EF553B\", \"#00cc96\", \"#ab63fa\", \"#FFA15A\", \"#19d3f3\", \"#FF6692\", \"#B6E880\", \"#FF97FF\", \"#FECB52\"], \"font\": {\"color\": \"#2a3f5f\"}, \"geo\": {\"bgcolor\": \"white\", \"lakecolor\": \"white\", \"landcolor\": \"#E5ECF6\", \"showlakes\": true, \"showland\": true, \"subunitcolor\": \"white\"}, \"hoverlabel\": {\"align\": \"left\"}, \"hovermode\": \"closest\", \"mapbox\": {\"style\": \"light\"}, \"paper_bgcolor\": \"white\", \"plot_bgcolor\": \"#E5ECF6\", \"polar\": {\"angularaxis\": {\"gridcolor\": \"white\", \"linecolor\": \"white\", \"ticks\": \"\"}, \"bgcolor\": \"#E5ECF6\", \"radialaxis\": {\"gridcolor\": \"white\", \"linecolor\": \"white\", \"ticks\": \"\"}}, \"scene\": {\"xaxis\": {\"backgroundcolor\": \"#E5ECF6\", \"gridcolor\": \"white\", \"gridwidth\": 2, \"linecolor\": \"white\", \"showbackground\": true, \"ticks\": \"\", \"zerolinecolor\": \"white\"}, \"yaxis\": {\"backgroundcolor\": \"#E5ECF6\", \"gridcolor\": \"white\", \"gridwidth\": 2, \"linecolor\": \"white\", \"showbackground\": true, \"ticks\": \"\", \"zerolinecolor\": \"white\"}, \"zaxis\": {\"backgroundcolor\": \"#E5ECF6\", \"gridcolor\": \"white\", \"gridwidth\": 2, \"linecolor\": \"white\", \"showbackground\": true, \"ticks\": \"\", \"zerolinecolor\": \"white\"}}, \"shapedefaults\": {\"line\": {\"color\": \"#2a3f5f\"}}, \"ternary\": {\"aaxis\": {\"gridcolor\": \"white\", \"linecolor\": \"white\", \"ticks\": \"\"}, \"baxis\": {\"gridcolor\": \"white\", \"linecolor\": \"white\", \"ticks\": \"\"}, \"bgcolor\": \"#E5ECF6\", \"caxis\": {\"gridcolor\": \"white\", \"linecolor\": \"white\", \"ticks\": \"\"}}, \"title\": {\"x\": 0.05}, \"xaxis\": {\"automargin\": true, \"gridcolor\": \"white\", \"linecolor\": \"white\", \"ticks\": \"\", \"title\": {\"standoff\": 15}, \"zerolinecolor\": \"white\", \"zerolinewidth\": 2}, \"yaxis\": {\"automargin\": true, \"gridcolor\": \"white\", \"linecolor\": \"white\", \"ticks\": \"\", \"title\": {\"standoff\": 15}, \"zerolinecolor\": \"white\", \"zerolinewidth\": 2}}}, \"title\": {\"text\": \"Top 10 High Rated Programs\"}, \"xaxis\": {\"anchor\": \"y\", \"domain\": [0.0, 1.0], \"title\": {\"text\": \"IMDB Score\"}}, \"yaxis\": {\"anchor\": \"x\", \"domain\": [0.0, 1.0], \"title\": {\"text\": \"Title\"}}},\n",
              "                        {\"responsive\": true}\n",
              "                    ).then(function(){\n",
              "                            \n",
              "var gd = document.getElementById('173ef488-9fdb-4320-9e07-c0ee11d47b1e');\n",
              "var x = new MutationObserver(function (mutations, observer) {{\n",
              "        var display = window.getComputedStyle(gd).display;\n",
              "        if (!display || display === 'none') {{\n",
              "            console.log([gd, 'removed!']);\n",
              "            Plotly.purge(gd);\n",
              "            observer.disconnect();\n",
              "        }}\n",
              "}});\n",
              "\n",
              "// Listen for the removal of the full notebook cells\n",
              "var notebookContainer = gd.closest('#notebook-container');\n",
              "if (notebookContainer) {{\n",
              "    x.observe(notebookContainer, {childList: true});\n",
              "}}\n",
              "\n",
              "// Listen for the clearing of the current output cell\n",
              "var outputEl = gd.closest('.output');\n",
              "if (outputEl) {{\n",
              "    x.observe(outputEl, {childList: true});\n",
              "}}\n",
              "\n",
              "                        })\n",
              "                };\n",
              "                \n",
              "            </script>\n",
              "        </div>\n",
              "</body>\n",
              "</html>"
            ]
          },
          "metadata": {}
        }
      ]
    },
    {
      "cell_type": "code",
      "metadata": {
        "id": "1eIX6fXl0d6v"
      },
      "source": [
        ""
      ],
      "execution_count": null,
      "outputs": []
    }
  ]
}